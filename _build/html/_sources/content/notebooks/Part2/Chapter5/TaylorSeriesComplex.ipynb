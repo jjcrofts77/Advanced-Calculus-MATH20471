{
  "nbformat": 4,
  "nbformat_minor": 0,
  "metadata": {
    "colab": {
      "name": "TaylorSeriesComplex.ipynb",
      "provenance": [],
      "authorship_tag": "ABX9TyMwNtAcqR1F/Bo/2ik0hEdn",
      "include_colab_link": true
    },
    "kernelspec": {
      "name": "python3",
      "display_name": "Python 3"
    },
    "language_info": {
      "name": "python"
    }
  },
  "cells": [
    {
      "cell_type": "markdown",
      "metadata": {
        "id": "view-in-github",
        "colab_type": "text"
      },
      "source": [
        "<a href=\"https://colab.research.google.com/github/jjcrofts77/Advanced-Calculus-MATH20471/blob/main/content/notebooks/Part2/Chapter5/TaylorSeriesComplex.ipynb\" target=\"_parent\"><img src=\"https://colab.research.google.com/assets/colab-badge.svg\" alt=\"Open In Colab\"/></a>"
      ]
    },
    {
      "cell_type": "markdown",
      "source": [
        "# 5.2 Taylor series for complex valued functions\n",
        "\n",
        "If a complex function $f(z)$ is analytic in some region\n",
        "\n",
        "$$\n",
        "\tf(z)=\\sum_{n=0}^{\\infty} \\f{f^{(n)}(z_0)}{n!}\\left(z-z_0\\right)^n.\\label\n",
        "$$ (Taylorcomplex)\n",
        "\n",
        "```note \n",
        "Instead of a region of convergence on the real line $|x-x_0|<R$, we now have a *circle* of convergence $|z-z_0|<\\mathscr{R}$. This radius of convergence (of this circle) is the distance from $z_0$ to the nearest singularity of $f(z)$.\n",
        "```\n",
        "\n",
        "As indicated above, $f$ needs to be analytic (in order to determine its derivative) at, and in a neighbourhood of, $z_0$. Different expansions can therefore be valid in distinct parts of the complex plane.\n",
        "\n",
        "**Example 5.2.1** Calculate the Taylor expansion of $f(z)=e^z$ about $z_0=0$ and $z_0=3$}\n",
        "\n",
        "**Solution**\n",
        " - $e^z$ is analytic everywhere in $\\mathbb{C}$ (except at $\\infty$) so the radius of convergence of the series is infinite.\\\\\n",
        " - We need to calculate the $n^{th}$ derivative at $z_0$:\n",
        "\t\n",
        " $$\n",
        " f^{(n)}(z)=\\frac{\\mathrm{d} }{\\mathrm{d} z} e^z \\bigg|_{z=z_0}=e^{z_0}.\n",
        " $$\t\n",
        "\n",
        " The Taylor expansion of $f(z)=e^z$ about $z_0$ is therefore:\n",
        "\n",
        " $$\n",
        " e^z = \\sum_{n=0}^\\infty \\frac{e^{z_0}}{n!}\\left(z-z_0\\right)^n\n",
        " $$\n",
        "\t\n",
        " and so for each of the $z_0$ above, we have:\n",
        "\n",
        " $$\n",
        " e^z = \\sum_{n=0}^\\infty \\frac{z^n}{n!},\\quad e^z = \\sum_{n=0}^\\infty \\frac{e^{3}}{n!}\\left( z-3 \\right)^n\n",
        " $$\n",
        "\t\n",
        "<br>\n",
        "\n",
        "**Example 5.5.2** Calculate the Taylor expansion of $\\displaystyle f(z)=\\frac{1}{1+z}$ about $z_0=0$}\n",
        "\n",
        "**Solution**\n",
        "\n",
        " - The distance to the nearest singularity is the radius of convergence of the series: $R=1$ ($z=-1$ is singular)\n",
        "\n",
        " - Taking the derivative $n$ times:\n",
        "\n",
        " $$\n",
        " f^\\prime(z)=-\\frac{1}{(1+z)^{2}}\\bigg|_{z=0}=1,\\ f^{\\prime\\prime}(z)=\\frac{2}{(1+z)^{3}}\\bigg|_{z=0}=-2,\\ f^{\\prime\\prime\\prime}(z)=-\\frac{6}{(1+z)^{4}}\\bigg|_{z=0}=-6,\\ \\ldots\n",
        " $$\n",
        "\n",
        " and using the formula for the Taylor series:\n",
        "\n",
        " $$\n",
        " f(z)=\\frac{1}{1+z}= 1-z+\\frac{2z^2}{2!}-\\frac{6z^3}{3!} =\\sum_{n=0}^{\\infty}(-1)^n z^n\n",
        " $$\n",
        "\n",
        " - This can also be easily calculated with no calculus required (if you prefer) by using the binomial series expansion of $(x+y)^n$ to expand $(1+z)^{-1}$.\n",
        "\n",
        "```{margin}\n",
        "**Exercise:** employ the binomial series of $f$ to determine the Taylor series above\n",
        "```\n",
        "\n",
        "**Example 5.3.3** Calculate the Taylor expansion of $f(z)=\\sin(z)$ about $z_0=0$\n",
        "\n",
        "**Solution**\n",
        "\n",
        " - The exponential notation comes in handy here:\n",
        "\t\n",
        " $$\n",
        " \\sin(z) = \\frac{e^{iz}-e^{iz}}{2i}\n",
        " $$\n",
        "\t\n",
        " - Then, using the above result for $e^z$:\n",
        "\n",
        " $$\n",
        " \\sin(z)=\\frac{1}{2i}\\sum_{n=0}^\\infty\\frac{1}{n!}\\left[ \\left( iz\\right)^n+\\left( -iz\\right)^n\\right] = z-\\frac{z^3}{3!}+\\frac{z^5}{5!}\\ldots\n",
        " $$ \n",
        "\t\n",
        "\n",
        "## Differentiation and integration of Taylor series\n",
        "\n",
        "A Taylor series may be differentiated or integrated *within* its circle of convergence: the resulting expression is valid within the same circle.\n"
      ],
      "metadata": {
        "id": "oDjSxN0v43Y_"
      }
    }
  ]
}