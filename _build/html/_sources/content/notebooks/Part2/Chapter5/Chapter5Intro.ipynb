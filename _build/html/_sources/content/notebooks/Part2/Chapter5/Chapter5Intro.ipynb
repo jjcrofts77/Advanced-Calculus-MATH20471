{
  "nbformat": 4,
  "nbformat_minor": 0,
  "metadata": {
    "colab": {
      "name": "Chapter5Intro.ipynb",
      "provenance": [],
      "authorship_tag": "ABX9TyMHTB9gEmOZM/PZWldWBLTK",
      "include_colab_link": true
    },
    "kernelspec": {
      "name": "python3",
      "display_name": "Python 3"
    },
    "language_info": {
      "name": "python"
    }
  },
  "cells": [
    {
      "cell_type": "markdown",
      "metadata": {
        "id": "view-in-github",
        "colab_type": "text"
      },
      "source": [
        "<a href=\"https://colab.research.google.com/github/jjcrofts77/Advanced-Calculus-MATH20471/blob/main/content/notebooks/Part2/Chapter5/Chapter5Intro.ipynb\" target=\"_parent\"><img src=\"https://colab.research.google.com/assets/colab-badge.svg\" alt=\"Open In Colab\"/></a>"
      ]
    },
    {
      "cell_type": "markdown",
      "source": [
        "# Chapter 5 Taylor and Laurent series\n",
        "\n",
        "In this chapter we consider power (or Taylor) series representations of complex valued functions as well as generalisations to so-called Laurent series which prove useful in applications.\n"
      ],
      "metadata": {
        "id": "aw5tYkE4vYAg"
      }
    }
  ]
}