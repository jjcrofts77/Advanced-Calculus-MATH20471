{
  "nbformat": 4,
  "nbformat_minor": 0,
  "metadata": {
    "colab": {
      "name": "PDEsToStudy.ipynb",
      "provenance": [],
      "include_colab_link": true
    },
    "kernelspec": {
      "name": "python3",
      "display_name": "Python 3"
    },
    "language_info": {
      "name": "python"
    }
  },
  "cells": [
    {
      "cell_type": "markdown",
      "metadata": {
        "id": "view-in-github",
        "colab_type": "text"
      },
      "source": [
        "<a href=\"https://colab.research.google.com/github/jjcrofts77/Advanced-Calculus-MATH20471/blob/main/content/notebooks/Part1/Chapter1/PDEsToStudy.ipynb\" target=\"_parent\"><img src=\"https://colab.research.google.com/assets/colab-badge.svg\" alt=\"Open In Colab\"/></a>"
      ]
    },
    {
      "cell_type": "markdown",
      "metadata": {
        "id": "e2lPMI9d0TQY"
      },
      "source": [
        "# 1.4 The Equations we Shall Study\n",
        "\n",
        "In general the solution of a partial differential equation is frequently difficult \n",
        "to find; however, the method of *separation of variables*, which we shall study in \n",
        "the chapters to come, provides a useful technique for determining solutions to a large \n",
        "class of linear partial differential equations. There are fundamentally three types of \n",
        "partial differential equations -- those that govern diffusion processes, those that \n",
        "govern wave propagation, and those that model equilibrium processes. These types are\n",
        "called *parabolic*, *hyperbolic* and *elliptic*, respectively. In this \n",
        "course we we study prototypical examples of each of the three classes of linear \n",
        "second-order PDEs as well as considering their applications throughout the physical \n",
        "sciences. \n",
        "\n",
        "\n",
        "## The wave equation (hyperbolic)\n",
        "Here we seek a function $u(x,t)$ such that\n",
        "\n",
        "$$\n",
        " \\frac{\\partial^2 y}{\\partial t^2} = c^2\\frac{\\partial^2 y}{\\partial x^2},\n",
        "$$ (wave14)\n",
        "\n",
        "where, for example, $y(x,t)$ is the transverse displacement of a stretched string at position $x$ and time $t$, and $c$ is a positive constant called the *wave speed*.\n",
        "\n",
        "Equation {eq}`wave14` can be used to approximate analytical solutions to the motion of a guitar string!\n",
        "\n",
        "![giphy](https://github.com/jjcrofts77/Advanced-Calculus-MATH20471/blob/main/content/images/7e2E.gif?raw=1)\n",
        "\n",
        "We shall consider this problem in detail later on in the course.\n",
        "\n",
        "## The heat equation (parabolic)\n",
        "Also known as the *diffusion equation*, we will find $u(x,t)$ such that\n",
        "\n",
        "$$\n",
        " \\frac{\\partial u}{\\partial t} = \\kappa\\frac{\\partial^2u}{\\partial x^2},\n",
        " \\label{eqn:heat}\n",
        "$$\n",
        "\n",
        "where, for example, $u(x,t)$ is a temperature at position $x$ and time $t$, and $\\kappa$ is a positive constant called the *thermal diffusivity*.\n",
        "\n",
        "For example, we shall consider how the above equation can be used to model heat flow in a metal rod of the form shown below.\n",
        "\n",
        "<br>\n",
        "\n",
        "```{figure} ../../../images/Temp_Rod_homobc.png\n",
        "---\n",
        "height: 275px\n",
        "---\n",
        "Modelling setup for heat flow in a 1-d metal rod\n",
        "```\n",
        "\n",
        "<br>\n",
        "\n",
        "In the figure, the ends of the rod are held at a constant temperature of zero degrees (BCs) and the initial temperature of the rod is given by the function $f$ (IC).\n",
        "\n",
        "## Laplace's equation (elliptic)\n",
        "In this case the problem is to find $T(x,y)$ such that\n",
        "\n",
        "$$\n",
        " \\frac{\\partial^2 T}{\\partial x^2} + \\frac{\\partial^2 T}{\\partial y^2} = 0,\n",
        "$$\n",
        "\n",
        "where, for example, $T(x,y)$ may be the temperature and $x$ and $y$ are Cartesian coordinates in the plane. In this case, *Laplace's equation* models a two-dimensional \n",
        "system at *steady state* in time: in three space-dimensions the temperature $T(x,y,z,t)$ satisfies the heat equation \n",
        "\n",
        "$$\n",
        " \\frac{\\partial T}{\\partial t} =  \\kappa\\left(\\frac{\\partial^2 T}{\\partial x^2} + \\frac{\\partial^2 T}{\\partial y^2} + \\frac{\\partial^2 T}{\\partial z^2}\\right).\n",
        " \\label{eqn3Dheat}\n",
        "$$\n",
        "\n",
        "Note that the equation above reduces to heat equation if $T$ is independent of $y$ and $z$. If the temperature field is *static*, $T$ is independent \n",
        "of time, and is a solution of Laplace's equation in $\\mathbb{R}^3$,\n",
        "\n",
        "$$\n",
        " \\frac{\\partial^2 T}{\\partial x^2} + \\frac{\\partial^2 T}{\\partial y^2} + \\frac{\\partial^2 T}{\\partial z^2} = 0,\n",
        "$$\n",
        "\n",
        "and, in the special case in which $T$ is also independent of $z$, of Laplace's equation in $\\mathbb{R}^2$\n",
        "\n",
        "$$\n",
        " \\frac{\\partial^2 T}{\\partial x^2} + \\frac{\\partial^2 T}{\\partial y^2} = 0.\n",
        "$$"
      ]
    }
  ]
}