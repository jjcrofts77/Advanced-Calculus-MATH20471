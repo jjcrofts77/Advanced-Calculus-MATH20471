{
 "cells": [
  {
   "cell_type": "markdown",
   "metadata": {
    "colab_type": "text",
    "id": "view-in-github"
   },
   "source": [
    "<a href=\"https://colab.research.google.com/github/jjcrofts77/Advanced-Calculus-MATH20471/blob/main/content/notebooks/Part1/Chapter1/PDEsToStudy.ipynb\" target=\"_parent\"><img src=\"https://colab.research.google.com/assets/colab-badge.svg\" alt=\"Open In Colab\"/></a>"
   ]
  },
  {
   "cell_type": "markdown",
   "metadata": {
    "id": "e2lPMI9d0TQY"
   },
   "source": [
    "# 1.3 The Equations we Shall Study\n",
    "\n",
    "In general the solution of a partial differential equation is frequently difficult \n",
    "to find; however, the method of *separation of variables*, which we shall study in \n",
    "the chapters to come, provides a useful technique for determining solutions to a large \n",
    "class of linear partial differential equations. There are fundamentally three types of \n",
    "partial differential equations -- those that govern diffusion processes, those that \n",
    "govern wave propagation, and those that model equilibrium processes. These types are\n",
    "called *parabolic*, *hyperbolic* and *elliptic*, respectively. In this \n",
    "course we we study prototypical examples of each of the three classes of linear \n",
    "second-order PDEs as well as considering their applications throughout the physical \n",
    "sciences. \n",
    "\n",
    "\n",
    "## The wave equation (hyperbolic)\n",
    "Here we seek a function $y(x,t)$ such that\n",
    "\n",
    "$$\n",
    " \\frac{\\partial^2 y}{\\partial t^2} = c^2\\frac{\\partial^2 y}{\\partial x^2},\n",
    "$$\n",
    "\n",
    "where, for example, $y(x,t)$ is the transverse displacement of a stretched string at position $x$ and time\n",
    "$t$, and $c$ is a positive constant called the *wave speed*.\n",
    "\n",
    "## The heat equation (parabolic)\n",
    "Also known as the *diffusion equation*, we will find $T(x,t)$ such that\n",
    "\n",
    "$$\n",
    " \\frac{\\partial T}{\\partial t} = \\kappa\\frac{\\partial^2T}{\\partial x^2},\n",
    " \\label{eqn:heat}\n",
    "$$\n",
    "\n",
    "where, for example, $T(x,t)$ is a temperature at position $x$ and time $t$, and $\\kappa$ is a positive \n",
    "constant called the *thermal diffusivity*.\n",
    "\n",
    "## Laplace's equation (elliptic)\n",
    "In this case the problem is to find $T(x,y)$ such that\n",
    "\n",
    "$$\n",
    " \\frac{\\partial^2 T}{\\partial x^2} + \\frac{\\partial^2 T}{\\partial y^2} = 0,\n",
    "$$\n",
    "\n",
    "where, for example, $T(x,y)$ may be the temperature and $x$ and $y$ are Cartesian coordinates in the plane. In this case, *Laplace's equation* models a two-dimensional \n",
    "system at *steady state* in time: in three space-dimensions the temperature $T(x,y,z,t)$ satisfies the heat equation \n",
    "\n",
    "$$\n",
    " \\frac{\\partial T}{\\partial t} =  \\kappa\\left(\\frac{\\partial^2 T}{\\partial x^2} + \\frac{\\partial^2 T}{\\partial y^2} + \\frac{\\partial^2 T}{\\partial z^2}\\right).\n",
    " \\label{eqn3Dheat}\n",
    "$$\n",
    "\n",
    "Note that the equation above reduces to heat equation if $T$ is independent of $y$ and $z$. If the temperature field is \\emph{static}, $T$ is independent \n",
    "of time, and is a solution of Laplace's equation in $\\mathbb{R}^3$,\n",
    "\n",
    "$$\n",
    " \\frac{\\partial^2 T}{\\partial x^2} + \\frac{\\partial^2 T}{\\partial y^2} + \\frac{\\partial^2 T}{\\partial z^2} = 0,\n",
    "$$\n",
    "\n",
    "and, in the special case in which $T$ is also independent of $z$, of Laplace's equation in $\\mathbb{R}^2$\n",
    "\n",
    "$$\n",
    " \\frac{\\partial^2 T}{\\partial x^2} + \\frac{\\partial^2 T}{\\partial y^2} = 0.\n",
    "$$"
   ]
  }
 ],
 "metadata": {
  "colab": {
   "authorship_tag": "ABX9TyMolb93jUf3eJPahY8WD0gs",
   "include_colab_link": true,
   "name": "PDEsToStudy.ipynb",
   "provenance": []
  },
  "kernelspec": {
   "display_name": "Python 3",
   "name": "python3"
  },
  "language_info": {
   "name": "python"
  }
 },
 "nbformat": 4,
 "nbformat_minor": 0
}