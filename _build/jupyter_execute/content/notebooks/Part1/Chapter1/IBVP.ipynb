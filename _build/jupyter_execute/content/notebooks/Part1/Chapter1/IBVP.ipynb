{
 "cells": [
  {
   "cell_type": "markdown",
   "metadata": {
    "colab_type": "text",
    "id": "view-in-github"
   },
   "source": [
    "<a href=\"https://colab.research.google.com/github/jjcrofts77/Advanced-Calculus-MATH20471/blob/main/content/notebooks/Part1/Chapter1/IBVP.ipynb\" target=\"_parent\"><img src=\"https://colab.research.google.com/assets/colab-badge.svg\" alt=\"Open In Colab\"/></a>"
   ]
  },
  {
   "cell_type": "markdown",
   "metadata": {
    "id": "wRE64k8Vrgri"
   },
   "source": [
    "# 1.1 Initial and Boundary Value Problems (IBVP)\n",
    "\n",
    "Consider a second-order ordinary differential equation (ODE)\n",
    " \n",
    "$$\n",
    "x'' = f(t,x,x') \n",
    "$$\n",
    "\n",
    "where $ x'=\\mathrm{d}x/\\mathrm{d}t $ and $ x''=\\mathrm{d}^2x/\\mathrm{d}t^2 $. The problem is to find $x(t)$ subject to appropriate additional information.\n",
    "\n",
    "Familiar examples of such equations include\n",
    "\n",
    "\\begin{align*}\n",
    " \\frac{\\mathrm{d}^2 x}{\\mathrm{d}t^2} &= \\sin{t}\\\\\n",
    " \\frac{\\mathrm{d}^2 x}{\\mathrm{d}t^2} &= -3\\frac{\\mathrm{d} x}{\\mathrm{d}t} - 2x \n",
    "\\end{align*}\n",
    "\n",
    "## Initial-value problem (IVP)\n",
    "Suppose $x(0)$ and $x'(0)$ (or more generally $x(t_0)$ and $x'(t_0)$) are prescribed. Consider the second-order differential equation \n",
    "\n",
    "$$\n",
    "x''(t) = \\mu(1-x^2(t))x'(t) - x(t),\\quad t\\geq 0\n",
    "$$\n",
    "\n",
    "for a function $x(t)$, with initial data\n",
    "\n",
    "$$\n",
    " x(0) = x_0,~ x'(0) = \\nu_0.\n",
    "$$\n",
    "\n",
    "Here $\\mu, x_0, \\nu_0$ are constants. Because we specify sufficient conditions at an initial time $t=0$ ($t=t_0$) to fix the solution, this is called an \n",
    "*initial value problem* (IVP).\n",
    "\n",
    "Note that the example given above is the famed *Van der Pol equation*, which was originally proposed by the Dutch electrical engineer Balthasar \n",
    "van der Pol to model oscillations observed in certain types of electrical circuits. It is an example of a *nonlinear differential equation* and importantly does \n",
    "not admit an analytic solution. (It can however be analysed both numerically and by using the methods of dynamical systems -- see (take?) the third year module \n",
    "*Numerical Analysis and Dynamical Systems* for more details!)\n",
    "\n",
    "## Boundary value problem (BVP)\n",
    "Suppose $x(t)$ is defined on an interval $[a, b]$ and $x(a) = A$ and $x(b) = B$ are prescribed. Consider, for example, the linear equation\n",
    "\n",
    "$$\n",
    "x''(t) = -\\mu^2 x(t), 0 < t < 1, \\text{ with } x(0) = A, x(1) = B.\n",
    "$$\n",
    "\n",
    "Such equations are called *two-point boundary value problems*.\n",
    "\n",
    "In the simple case given above, we can solve in the usual way to obtain solutions\n",
    "\n",
    "$$\n",
    " x_1(t) = e^{\\mu t} \\text{ and } x_2(t) = e^{-\\mu t}. \n",
    "$$\n",
    "\n",
    "Linearity then implies that the general solution is $\\displaystyle x(t) = C_1x_1(t) + C_2x_2(t)$ where $C_1$ and $C_2$ are constants. All that remains in \n",
    "order to solve our BVP is to determine for which values of $\\mu, C_1$ and $C_2$ the determined solution satisfies the boundary conditions. \n",
    "\n",
    "\n",
    "We shall return to this problem later on in the course, but it is worth noting that in general boundary value problems (BVPs) are much harder to solve than IVPs. \n",
    "(This follows due to their *global* as opposed to *local* nature.)\n",
    "\n",
    "## Existence and uniquness\n",
    "Note that solutions may not exist, or if they exist they may not be unique.\n",
    "\n",
    "- **IVP:** $x''=6x^{1/3},~ x(0) = 0, x'(0)=0$ has solutions $x(t)=0$ and $x(t)=x^3$ and so uniqueness breaks down.\n",
    "- **BVP1:** $x''+x=0,~ x(0)=1, x(2\\pi)=0$ has no solution and so existence fails.\n",
    "- **BVP2:** $x''+x=0,~ x(0)=x(2\\pi)=0$ has infinitely many solutions, $x(t)=c\\sin{t}$, where $c$ is an arbitrary constant (non-uniqueness).\n"
   ]
  }
 ],
 "metadata": {
  "colab": {
   "authorship_tag": "ABX9TyOVi+C7ozpQG5ary1UFXBt/",
   "include_colab_link": true,
   "name": "IBVP.ipynb",
   "provenance": []
  },
  "kernelspec": {
   "display_name": "Python 3",
   "name": "python3"
  },
  "language_info": {
   "name": "python"
  }
 },
 "nbformat": 4,
 "nbformat_minor": 0
}