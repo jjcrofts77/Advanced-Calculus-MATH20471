{
 "cells": [
  {
   "cell_type": "markdown",
   "metadata": {
    "colab_type": "text",
    "id": "view-in-github"
   },
   "source": [
    "<a href=\"https://colab.research.google.com/github/jjcrofts77/Advanced-Calculus-MATH20471/blob/main/content/notebooks/Part1/Chapter2/Chapter2Intro.ipynb\" target=\"_parent\"><img src=\"https://colab.research.google.com/assets/colab-badge.svg\" alt=\"Open In Colab\"/></a>"
   ]
  },
  {
   "cell_type": "markdown",
   "metadata": {
    "id": "VRfPvp_iGPXx"
   },
   "source": [
    "# Chapter 2 Fourier Series\n",
    "\n",
    "In the following chapters, we will look at methods for solving the PDEs described in Chapter 1. In order to incorporate general initial or boundary conditions into our solutions, it will be necessary to have some understanding of *Fourier series* (FS).\n",
    "\n",
    "To motivate the use of FS we note that the following (pretty horrible looking!) function \n",
    "\n",
    "$$\n",
    "  y(x,t) = \\sum_{n=1}^\\infty \\sin\\left(\\frac{n\\pi x}{L}\\right)\\left[A_n\\cos\\left(\\frac{n\\pi c t}{L}\\right) +B_n\\sin\\left(\\frac{n\\pi ct}{L}\\right)\\right], \n",
    "$$ (wavesol)\n",
    "\n",
    "\n",
    "````{margin}\n",
    "```{note}\n",
    "We shall derive this solution explicitly later on in the course\n",
    "```\n",
    "````\n",
    "\n",
    "can be shown to be a solution of the wave equation\n",
    "\n",
    "$$\n",
    " \\frac{\\partial^2 y}{\\partial t^2} = c^2\\frac{\\partial^2 y}{\\partial x^2},\\quad x\\in[0, L], ~t\\geq 0,\n",
    "$$\n",
    "\n",
    "satisfying the boundary conditions\n",
    "\n",
    "$$\n",
    "y(0,t) = 0 = y(L,t).\n",
    "$$\n",
    "\n",
    "We may view $y(x,t)$ as the solution of the problem of modelling a vibrating string of length $L$ pinned at both ends, *e.g.* a guitar string.\n",
    "\n",
    "Keeping the guitar analogy in mind, suppose that we initially pluck the string into a sinusoidal shape and release it from a fixed position, then we would have initial conditions of the form\n",
    "\n",
    "$$\n",
    " y(x,0) = \\alpha\\sin\\left(\\frac{\\pi x}{L}\\right), \\quad \\frac{\\partial y}{\\partial t}(x,0)=0.\n",
    "$$\n",
    "\n",
    "````{margin}\n",
    "```{note}\n",
    "Here $y(x,0)$ gives the initial shape of the string whilst $y_t(x,0)$ the initial velocity\n",
    "```\n",
    "````\n",
    "\n",
    "We can use this initial data to work out the $A_n$ and $B_n$ in {eq}`wavesol` as follows\n",
    "\n",
    "$$\n",
    " y(x,0) = \\sum_{n=1}^\\infty A_n\\sin\\left(\\frac{n \\pi x}{L}\\right),\n",
    "$$\n",
    "\n",
    "and\n",
    "\n",
    "$$\n",
    " \\frac{\\partial y}{\\partial t}(x,0) = \\sum_{n=1}^\\infty B_n \\left(\\frac{n\\pi c}{L}\\right)\\sin\\left(\\frac{n\\pi x}{L}\\right).\n",
    "$$\n",
    "\n",
    "Hence, we want $A_n, B_n$ such that\n",
    "\n",
    "$$\n",
    " \\alpha\\sin\\left(\\frac{\\pi x}{L}\\right) = \\sum_{n=1}^\\infty A_n\\sin\\left(\\frac{n \\pi x}{L}\\right), \\qquad 0 = \\sum_{n=1}^\\infty B_n \\left(\\frac{n\\pi c}{L}\\right)\\sin\\left(\\frac{n\\pi x}{L}\\right).\n",
    "$$\n",
    "\n",
    "By inspection we see that $A_1=\\alpha$, $A_n = 0$ for $n\\neq 1$ and $B_n=0 ~\\forall n$. Thus, for these initial conditions, the solution is \n",
    "\n",
    "$$\n",
    " y(x,t) = \\alpha\\sin\\left(\\frac{\\pi x}{L}\\right)\\cos\\left(\\frac{\\pi c t}{L}\\right).\n",
    "$$"
   ]
  },
  {
   "cell_type": "code",
   "execution_count": 1,
   "metadata": {
    "id": "iS6B1AhCxhR0",
    "tags": [
     "hide-input"
    ]
   },
   "outputs": [],
   "source": [
    "# code to produce the animation of the solution y(x,t) shown below \n",
    "# with parameters L = pi, alpha = 1 and c = 1\n",
    "\n",
    "import numpy as np\n",
    "import matplotlib.pyplot as plt\n",
    "\n",
    "from matplotlib import animation, rc\n",
    "\n",
    "# First set up the figure, the axis, and the plot element we want to animate\n",
    "fig, ax = plt.subplots(figsize=(10, 7.5), dpi=80)\n",
    "plt.close()\n",
    "\n",
    "# labels\n",
    "ax.set_xlim(( 0, np.pi))\n",
    "ax.set_ylim((-1.1, 1.1))\n",
    "ax.set_xlabel('$x$',size=16)\n",
    "ax.set_ylabel('$y(x,t)$',size=16)\n",
    "ax.set_title('Solution to the above vibrating string problem',weight='bold',size=24)\n",
    "\n",
    "\n",
    "line, = ax.plot([], [], lw=2)\n",
    "\n",
    "# initialization function: plot the background of each frame\n",
    "def init():\n",
    "    line.set_data([], [])    \n",
    "    return (line,)\n",
    "\n",
    "# animation function. This is called sequentially  \n",
    "def animate(i):\n",
    "    L = np.pi\n",
    "    alpha = 1\n",
    "    c = 1\n",
    "    x = np.linspace(0, np.pi, 1000)\n",
    "    y = alpha*np.sin(np.pi*x/L)*np.cos(np.pi*c*i*0.05/L)\n",
    "    #y = np.sin(np.pi*x/L)*np.exp(-np.pi**2*kappa*(0.1*i)/L**2)+0.5*np.sin(2*np.pi*x/L)*np.exp(-4*np.pi**2*kappa*(0.1*i)/L**2)\n",
    "    line.set_data(x, y)\n",
    "    return (line,)\n",
    "  \n",
    "anim = animation.FuncAnimation(fig, animate, init_func=init,\n",
    "                             frames=150, blit=True)"
   ]
  },
  {
   "cell_type": "code",
   "execution_count": 2,
   "metadata": {
    "colab": {
     "base_uri": "https://localhost:8080/",
     "height": 621,
     "resources": {
      "http://localhost:8080/_static/videos/waveeqn.mp4": {
       "data": "CjwhRE9DVFlQRSBodG1sPgo8aHRtbCBsYW5nPWVuPgogIDxtZXRhIGNoYXJzZXQ9dXRmLTg+CiAgPG1ldGEgbmFtZT12aWV3cG9ydCBjb250ZW50PSJpbml0aWFsLXNjYWxlPTEsIG1pbmltdW0tc2NhbGU9MSwgd2lkdGg9ZGV2aWNlLXdpZHRoIj4KICA8dGl0bGU+RXJyb3IgNDA0IChOb3QgRm91bmQpISExPC90aXRsZT4KICA8c3R5bGU+CiAgICAqe21hcmdpbjowO3BhZGRpbmc6MH1odG1sLGNvZGV7Zm9udDoxNXB4LzIycHggYXJpYWwsc2Fucy1zZXJpZn1odG1se2JhY2tncm91bmQ6I2ZmZjtjb2xvcjojMjIyO3BhZGRpbmc6MTVweH1ib2R5e21hcmdpbjo3JSBhdXRvIDA7bWF4LXdpZHRoOjM5MHB4O21pbi1oZWlnaHQ6MTgwcHg7cGFkZGluZzozMHB4IDAgMTVweH0qID4gYm9keXtiYWNrZ3JvdW5kOnVybCgvL3d3dy5nb29nbGUuY29tL2ltYWdlcy9lcnJvcnMvcm9ib3QucG5nKSAxMDAlIDVweCBuby1yZXBlYXQ7cGFkZGluZy1yaWdodDoyMDVweH1we21hcmdpbjoxMXB4IDAgMjJweDtvdmVyZmxvdzpoaWRkZW59aW5ze2NvbG9yOiM3Nzc7dGV4dC1kZWNvcmF0aW9uOm5vbmV9YSBpbWd7Ym9yZGVyOjB9QG1lZGlhIHNjcmVlbiBhbmQgKG1heC13aWR0aDo3NzJweCl7Ym9keXtiYWNrZ3JvdW5kOm5vbmU7bWFyZ2luLXRvcDowO21heC13aWR0aDpub25lO3BhZGRpbmctcmlnaHQ6MH19I2xvZ297YmFja2dyb3VuZDp1cmwoLy93d3cuZ29vZ2xlLmNvbS9pbWFnZXMvbG9nb3MvZXJyb3JwYWdlL2Vycm9yX2xvZ28tMTUweDU0LnBuZykgbm8tcmVwZWF0O21hcmdpbi1sZWZ0Oi01cHh9QG1lZGlhIG9ubHkgc2NyZWVuIGFuZCAobWluLXJlc29sdXRpb246MTkyZHBpKXsjbG9nb3tiYWNrZ3JvdW5kOnVybCgvL3d3dy5nb29nbGUuY29tL2ltYWdlcy9sb2dvcy9lcnJvcnBhZ2UvZXJyb3JfbG9nby0xNTB4NTQtMngucG5nKSBuby1yZXBlYXQgMCUgMCUvMTAwJSAxMDAlOy1tb3otYm9yZGVyLWltYWdlOnVybCgvL3d3dy5nb29nbGUuY29tL2ltYWdlcy9sb2dvcy9lcnJvcnBhZ2UvZXJyb3JfbG9nby0xNTB4NTQtMngucG5nKSAwfX1AbWVkaWEgb25seSBzY3JlZW4gYW5kICgtd2Via2l0LW1pbi1kZXZpY2UtcGl4ZWwtcmF0aW86Mil7I2xvZ297YmFja2dyb3VuZDp1cmwoLy93d3cuZ29vZ2xlLmNvbS9pbWFnZXMvbG9nb3MvZXJyb3JwYWdlL2Vycm9yX2xvZ28tMTUweDU0LTJ4LnBuZykgbm8tcmVwZWF0Oy13ZWJraXQtYmFja2dyb3VuZC1zaXplOjEwMCUgMTAwJX19I2xvZ297ZGlzcGxheTppbmxpbmUtYmxvY2s7aGVpZ2h0OjU0cHg7d2lkdGg6MTUwcHh9CiAgPC9zdHlsZT4KICA8YSBocmVmPS8vd3d3Lmdvb2dsZS5jb20vPjxzcGFuIGlkPWxvZ28gYXJpYS1sYWJlbD1Hb29nbGU+PC9zcGFuPjwvYT4KICA8cD48Yj40MDQuPC9iPiA8aW5zPlRoYXTigJlzIGFuIGVycm9yLjwvaW5zPgogIDxwPiAgPGlucz5UaGF04oCZcyBhbGwgd2Uga25vdy48L2lucz4K",
       "headers": [
        [
         "content-length",
         "1449"
        ],
        [
         "content-type",
         "text/html; charset=utf-8"
        ]
       ],
       "ok": false,
       "status": 404,
       "status_text": ""
      }
     }
    },
    "id": "qVi2WyIv5rHR",
    "outputId": "91134739-5668-4999-cd74-4349aed0718f",
    "tags": [
     "remove-input"
    ]
   },
   "outputs": [
    {
     "data": {
      "text/html": [
       "\n",
       "<video width=\"700\" height=\"600\" controls>\n",
       "    <source src=\"../../../../_static/videos/waveeqn.mp4\" type=\"video/mp4\">\n",
       "</video>\n"
      ],
      "text/plain": [
       "<IPython.core.display.HTML object>"
      ]
     },
     "execution_count": 2,
     "metadata": {},
     "output_type": "execute_result"
    }
   ],
   "source": [
    "# (commands to be appended to the animation code above to run it in colab and save)\n",
    "# Note: below is the part which makes it work on Colab \n",
    "#rc('animation', html='jshtml')\n",
    "# anim # uncomment to play animation\n",
    "# anim.save('waveeqn.mp4') # uncomment to save animation \n",
    "\n",
    "from IPython.display import HTML\n",
    "\n",
    "HTML(\"\"\"\n",
    "    <video width=\"700\" height=\"600\" controls>\n",
    "        <source src=\"../../../../_static/videos/waveeqn.mp4\" type=\"video/mp4\">\n",
    "    </video>\n",
    "\"\"\")"
   ]
  },
  {
   "cell_type": "markdown",
   "metadata": {
    "id": "uLa0KRcGxhar"
   },
   "source": [
    "If we would like to take more general initial conditions\n",
    "\n",
    "$$\n",
    " y(x,0) = f(x), \\quad \\frac{\\partial y}{\\partial t}(x,0) = g(x),\n",
    "$$\n",
    "\n",
    "we need to find $\\{A_n, B_n\\}$ such that\n",
    "\n",
    "$$\n",
    "f(x) = \\sum_{n=1}^\\infty A_n\\sin\\left(\\frac{n \\pi x}{L}\\right), \\qquad g(x) = \\sum_{n=1}^\\infty B_n \\left(\\frac{n\\pi c}{L}\\right)\\sin\\left(\\frac{n\\pi x}{L}\\right).\n",
    "$$\n",
    "\n",
    "These are known as the *Fourier sine series* of the functions $f, g$.\n",
    "\n",
    "We shall spend the remainder of this chapter learning how to derive these very special function representations as they will prove crucial (as alluded to above) in our quest to solve the type of differential equations introduced in the previous chapter (Wave, Heat,... *etc.*)."
   ]
  }
 ],
 "metadata": {
  "colab": {
   "authorship_tag": "ABX9TyNYrhZV09B0+1+XoRSj8EF4",
   "collapsed_sections": [],
   "include_colab_link": true,
   "name": "Chapter2Intro.ipynb",
   "provenance": []
  },
  "kernelspec": {
   "display_name": "Python 3",
   "name": "python3"
  },
  "language_info": {
   "codemirror_mode": {
    "name": "ipython",
    "version": 3
   },
   "file_extension": ".py",
   "mimetype": "text/x-python",
   "name": "python",
   "nbconvert_exporter": "python",
   "pygments_lexer": "ipython3",
   "version": "3.9.12"
  }
 },
 "nbformat": 4,
 "nbformat_minor": 0
}