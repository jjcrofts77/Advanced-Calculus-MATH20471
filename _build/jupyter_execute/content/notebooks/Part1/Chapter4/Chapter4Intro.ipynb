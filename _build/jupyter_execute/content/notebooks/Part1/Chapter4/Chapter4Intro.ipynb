{
 "cells": [
  {
   "cell_type": "markdown",
   "metadata": {
    "colab_type": "text",
    "id": "view-in-github"
   },
   "source": [
    "<a href=\"https://colab.research.google.com/github/jjcrofts77/Advanced-Calculus-MATH20471/blob/main/content/notebooks/Part1/Chapter4/Chapter4Intro.ipynb\" target=\"_parent\"><img src=\"https://colab.research.google.com/assets/colab-badge.svg\" alt=\"Open In Colab\"/></a>"
   ]
  },
  {
   "cell_type": "markdown",
   "metadata": {
    "id": "RionONQi_10h"
   },
   "source": [
    "# Chapter 4 The Wave Equation\n",
    "\n",
    "In this chapter we look at the wave equation, concentrating on applications to waves on strings. We discuss methods for solution and also uniqueness of solutions."
   ]
  }
 ],
 "metadata": {
  "colab": {
   "authorship_tag": "ABX9TyOsliiBp82PXCmt+6obElfO",
   "include_colab_link": true,
   "name": "Chapter4Intro.ipynb",
   "provenance": []
  },
  "kernelspec": {
   "display_name": "Python 3",
   "name": "python3"
  },
  "language_info": {
   "name": "python"
  }
 },
 "nbformat": 4,
 "nbformat_minor": 0
}