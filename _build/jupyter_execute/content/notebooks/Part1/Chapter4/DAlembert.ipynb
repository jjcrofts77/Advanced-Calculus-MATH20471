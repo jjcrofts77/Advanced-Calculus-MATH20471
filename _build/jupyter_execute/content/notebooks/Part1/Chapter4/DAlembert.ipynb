{
 "cells": [
  {
   "cell_type": "markdown",
   "metadata": {
    "colab_type": "text",
    "id": "view-in-github"
   },
   "source": [
    "<a href=\"https://colab.research.google.com/github/jjcrofts77/Advanced-Calculus-MATH20471/blob/main/content/notebooks/Part1/Chapter4/DAlembert.ipynb\" target=\"_parent\"><img src=\"https://colab.research.google.com/assets/colab-badge.svg\" alt=\"Open In Colab\"/></a>"
   ]
  },
  {
   "cell_type": "markdown",
   "metadata": {
    "id": "NWXBAQUrUGIH"
   },
   "source": [
    "# 4.6 Waves on Infinite Strings: D’Alembert’s Formula\n",
    "\n",
    "When the string occupies the interval $(-\\infty, \\infty)$ the fact that the solution has the form \n",
    "\n",
    "$$\n",
    " y(x,t) = F(x-ct)+G(x+ct),\n",
    "$$\n",
    "\n",
    "is especially useful since we cannot now use the separation of variables and Fourier series.\n",
    "\n",
    "Consider the following IVP: find $y(x,t)$ if\n",
    "\n",
    "$$\n",
    " \\frac{\\partial^2 y}{\\partial t^2} = c^2\\frac{\\partial^2 y}{\\partial x^2}, \\text{ for } -\\infty<x<\\infty \\text{ and } t>0,\n",
    "$$\n",
    "\n",
    "and \n",
    "\n",
    "$$\n",
    " y(x,0)=f(x) \\text{ and } \\frac{\\partial y}{\\partial t}(x,0) = g(x) \\text{ for } -\\infty< x<\\infty,\n",
    "$$\n",
    "\n",
    "where $f$ and $g$ are prescribed functions.\n",
    "\n",
    "To solve this we attempt to choose $F$ and $G$ so as to satisfy the initial conditions:\n",
    "\n",
    "$$\n",
    " F(x)+G(x)=f(x), \\qquad -cF'(x)+cG'(x)=g(x).\n",
    "$$\n",
    "\n",
    "The second integrates to give\n",
    "\n",
    "$$\n",
    "-F(x)+G(x) = \\frac{1}{c}\\int_0^xg(s)\\mathrm{d}s+a,\n",
    "$$\n",
    "\n",
    "where $a$ is a constant. Hence\n",
    "\n",
    "$$\n",
    "F(x) &= \\frac{1}{2}\\left[f(x)-\\frac{1}{c}\\int_0^xg(s)\\mathrm{d}s-a\\right],\\\\\n",
    "G(x) &= \\frac{1}{2}\\left[f(x)+\\frac{1}{c}\\int_0^xg(s)\\mathrm{d}s+a\\right],\n",
    "$$\n",
    "\n",
    "and so \n",
    "\n",
    "$$\n",
    "y(x,t) = \\frac{1}{2}\\left[f(x-ct)-\\frac{1}{c}\\int_0^{x-ct}g(s)\\mathrm{d}s-a\\right] + \\frac{1}{2}\\left[f(x+ct)+\\frac{1}{c}\\int_0^{x+ct}g(s)\\mathrm{d}s+a\\right].\n",
    "$$\n",
    "\n",
    "Thus we arrive at *D'Alembert's Formula*\n",
    "\n",
    "$$\n",
    "y(x,t) = \\frac{1}{2}\\left[f(x-ct)+f(x+ct)\\right]+\\frac{1}{2c}\\int_{x-ct}^{x+ct}g(s)\\mathrm{d}s.\n",
    "$$\n",
    "\n",
    "The arguement shows that, for given $f$ and $g$, the IVP has one and only one solution (*i.e.* existence and uniqueness)."
   ]
  }
 ],
 "metadata": {
  "colab": {
   "include_colab_link": true,
   "name": "DAlembert.ipynb",
   "provenance": []
  },
  "kernelspec": {
   "display_name": "Python 3",
   "name": "python3"
  },
  "language_info": {
   "name": "python"
  }
 },
 "nbformat": 4,
 "nbformat_minor": 0
}