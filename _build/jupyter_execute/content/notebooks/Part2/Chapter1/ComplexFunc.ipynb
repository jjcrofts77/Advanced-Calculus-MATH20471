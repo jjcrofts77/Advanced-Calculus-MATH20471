{
 "cells": [
  {
   "cell_type": "markdown",
   "metadata": {
    "colab_type": "text",
    "id": "view-in-github"
   },
   "source": [
    "<a href=\"https://colab.research.google.com/github/jjcrofts77/Advanced-Calculus-MATH20471/blob/main/content/notebooks/Part2/Chapter1/ComplexFunc.ipynb\" target=\"_parent\"><img src=\"https://colab.research.google.com/assets/colab-badge.svg\" alt=\"Open In Colab\"/></a>"
   ]
  },
  {
   "cell_type": "code",
   "execution_count": null,
   "metadata": {
    "id": "l0OxNevBC0eU"
   },
   "outputs": [],
   "source": []
  },
  {
   "cell_type": "markdown",
   "metadata": {
    "id": "gBEu70NcNlwX"
   },
   "source": [
    "# 1.2 Functions of a complex variable\n",
    "\n",
    "Functions of a complex variable work in an analogous way to functions which operate on real numbers.\n",
    "\n",
    ">**Definition 1.2.1** A function of a complex variable $f(z)$ (where $z=x+iy$) maps $z$ onto another complex variable $w=u+iv$. In general, we write:\n",
    "\n",
    "$$\n",
    "\tw= f(z)=u(x,y)+iv(x,y)\n",
    "$$\n",
    "\n",
    "Revisiting the examples from previously:\n",
    "\n",
    "1. if $f(z)=z^2$, then \n",
    "\n",
    "\t$$f(z) = (x+iy)^2 = (x^2-y^2)+i2xy$$ \n",
    "\n",
    "\tand so \n",
    "\n",
    "\t$$ u=x^2-y^2 \\quad\\& \\quad v=2xy$$\n",
    "\n",
    "2. if $f(z)=\\overline{z}$ then\n",
    "\n",
    "\t$$f(z) = \\overline{x+iy}=x-iy$$ \n",
    "  \n",
    "\tand so \n",
    "  \n",
    "\t$$u=x\\quad \\& \\quad v=-y.$$\n",
    "\n",
    "Another way to think about a function is as a mapping from the Argand plane representing the independent variable $z$ onto the Argand plane representing the dependent variable $w$ (see figure below).\n",
    "\n",
    "For example, under the mapping $w=f(z)$ where $f(z)=z^2$, we obtain:\n",
    "\n",
    "$$\n",
    "\tz&=0+0i \\longrightarrow w=0+0i,\\\\\n",
    "\tz&=1+0i \\longrightarrow w=1+0i,\\\\\n",
    "\tz&=0+i \\longrightarrow w=-1+0i,\\\\\n",
    "\tz&=3+4i \\longrightarrow w=-7+i24,\n",
    "$$\n",
    "\n",
    "All the standard theorems of continuity of functions apply in the complex plane. For example, if two functions $f_1$ and $f_2$ are continuous in a complex set $X$ then,\n",
    "\n",
    "$$\n",
    "\tf_1+f_2,\\ f_1f_2,\\ \\tfrac{f_1}{f_2},\n",
    "$$\n",
    "\n",
    "are continuous in $X$.\n",
    "\n",
    "```{figure} ../../../images/ComplexMapping.png\n",
    "---\n",
    "height: 250px\n",
    "---\n",
    "A complex function $f$ as a mapping between $z=x+iy$ and $w=u(x,y)+iv(x,y)$\n",
    "```\n",
    "\n"
   ]
  }
 ],
 "metadata": {
  "colab": {
   "authorship_tag": "ABX9TyMrdX7xPPgwWb5UAUOt4hm/",
   "include_colab_link": true,
   "name": "ComplexFunc.ipynb",
   "provenance": []
  },
  "kernelspec": {
   "display_name": "Python 3",
   "name": "python3"
  },
  "language_info": {
   "codemirror_mode": {
    "name": "ipython",
    "version": 3
   },
   "file_extension": ".py",
   "mimetype": "text/x-python",
   "name": "python",
   "nbconvert_exporter": "python",
   "pygments_lexer": "ipython3",
   "version": "3.9.12"
  }
 },
 "nbformat": 4,
 "nbformat_minor": 0
}