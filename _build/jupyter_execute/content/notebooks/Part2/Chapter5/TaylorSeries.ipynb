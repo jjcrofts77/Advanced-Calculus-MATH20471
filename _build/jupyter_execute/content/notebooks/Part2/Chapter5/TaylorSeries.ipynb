{
 "cells": [
  {
   "cell_type": "markdown",
   "metadata": {
    "colab_type": "text",
    "id": "view-in-github"
   },
   "source": [
    "<a href=\"https://colab.research.google.com/github/jjcrofts77/Advanced-Calculus-MATH20471/blob/main/content/notebooks/Part2/Chapter5/TaylorSeries.ipynb\" target=\"_parent\"><img src=\"https://colab.research.google.com/assets/colab-badge.svg\" alt=\"Open In Colab\"/></a>"
   ]
  },
  {
   "cell_type": "markdown",
   "metadata": {
    "id": "bIXcJ973whnL"
   },
   "source": [
    "# 5.1 Revision of Taylor series\n",
    "\n",
    "In previous modules, you should have come across Taylor series expansions; these are series expansions of a function f(x) about the point x=x0 of the form:\n",
    "\n",
    "$$\n",
    " f(x) = \\sum_{n=0}^\\infty \\frac{f^{(n)}(x_0)}{n!}(x=x_0)^n\n",
    "$$\n",
    "\n",
    "where $f^{(n)}(x)$ indicates the $n$th derivative of $f(x)$. The Maclaurin series is the expansion around $x0=0$.\n",
    "\n",
    "Some example Maclaurin series which might be familiar to you are:\n",
    "\n",
    "$$\n",
    "\\sin(x) &= x-\\frac{x^3}{3!}+\\frac{x^5}{5!}+\\mathcal{O}(x^7),\\\\\n",
    "e^x  &= 1+x+\\frac{x^2}{2}+\\frac{x^3}{3!}+\\mathcal{O}(x^4),\\\\\n",
    "(1+x)^p &= 1+px+\\frac{p(p-1)x^2}{2}+\\frac{p(p-1)(p-2)x^3}{3!}+\\mathcal{O}(x^4),\\\\\n",
    "\\mathrm{ln}(1+x) &= x-\\frac{x^2}{2}+\\frac{x^3}{3}-\\frac{x^4}{4}+\\mathcal{O}(x^5),\n",
    "$$\n",
    "\n",
    "and the Taylor series expansion of $f(x)=x−1$ about $x_0=1$ is\n",
    "\n",
    "$$\n",
    "f(x) = 1−(x−1)+(x−1)2−(x−1)3+…\n",
    "$$\n",
    "\n",
    "The range of $x$ for which the Taylor (or Maclaurin) series converges to represent the function $f(x)$ is the interval of convergence.\n",
    "\n",
    "For instance, $\\sin(x)$ and $e^x$ converge for all $x$, while $1/(1+x)$ and $\\ln(1+x)$ converge only if $|x|<1$.\n",
    "\n",
    "Similarly, $1/x$ converges for $|x−1|<1$.\n",
    "\n",
    "As we shall see in this chapter, many of the results from real variable calculus carry over to complex variable analysis.\n"
   ]
  }
 ],
 "metadata": {
  "colab": {
   "authorship_tag": "ABX9TyPmkmz81i0XfuNRrMTAD1f/",
   "include_colab_link": true,
   "name": "TaylorSeries.ipynb",
   "provenance": []
  },
  "kernelspec": {
   "display_name": "Python 3",
   "name": "python3"
  },
  "language_info": {
   "name": "python"
  }
 },
 "nbformat": 4,
 "nbformat_minor": 0
}