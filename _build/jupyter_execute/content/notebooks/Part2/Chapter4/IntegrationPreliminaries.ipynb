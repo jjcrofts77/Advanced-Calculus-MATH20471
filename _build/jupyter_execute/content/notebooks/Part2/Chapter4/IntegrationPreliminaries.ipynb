{
 "cells": [
  {
   "cell_type": "markdown",
   "metadata": {
    "colab_type": "text",
    "id": "view-in-github"
   },
   "source": [
    "<a href=\"https://colab.research.google.com/github/jjcrofts77/Advanced-Calculus-MATH20471/blob/main/content/notebooks/Part2/Chapter4/IntegrationPreliminaries.ipynb\" target=\"_parent\"><img src=\"https://colab.research.google.com/assets/colab-badge.svg\" alt=\"Open In Colab\"/></a>"
   ]
  },
  {
   "cell_type": "markdown",
   "metadata": {
    "id": "YcaMQCn4Pp94"
   },
   "source": [
    "# 4.1 Prelminary definitions\n",
    "\n",
    "1. A path in the complex plane is a continuous function\n",
    "\n",
    "$$\n",
    "\\mathscr{C}(t)=x(t)+iy(t);\\quad a\\leqslant t\\leqslant b;\\quad a,b\\in \\mathbb{R}\t\n",
    "$$\n",
    "\n",
    "which connects points in the complex plane $z_1=z(t=a)$ to $z_2=z(t=b)$. These can be any continuous curve you like: \n",
    "\n",
    " - The straight line: $\\mathscr{C}=(1-t)z_1 + z_2 t;\\ 0\\leqslant t\\leqslant 1$.\n",
    " - The unit circle: $\\mathscr{C}=\\cos t + i\\sin t = e^{it};\\ 0\\leqslant t< 2\\pi$.\n",
    " - *etc.*\n",
    "\n",
    "2. A sub-path $\\mathscr{C}_1$ is a restriction of $\\mathscr{C}$ over some intermediate interval $t\\in[a_1,b_1];\\ a\\leqslant a_1\\leqslant b_1 \\leqslant b$ so that $\\mathscr{C}=\\sum \\mathscr{C}_i$.\n",
    "\n",
    "3. A closed path is one whose start and end points are equal: $z_1=z(a)=z_2=z(b)$\n",
    "\n",
    "4. A simple closed path does not cross itself\n",
    "\n",
    "5. The opposite path $-\\mathscr{C}$ is the path traversed in the opposite direction: $-\\mathscr{C}(t)=\\mathscr{C}(a+b-t)$."
   ]
  }
 ],
 "metadata": {
  "colab": {
   "authorship_tag": "ABX9TyO/lCl4+G38YWCkNx/6LVKt",
   "include_colab_link": true,
   "name": "IntegrationPreliminaries.ipynb",
   "provenance": []
  },
  "kernelspec": {
   "display_name": "Python 3",
   "name": "python3"
  },
  "language_info": {
   "name": "python"
  }
 },
 "nbformat": 4,
 "nbformat_minor": 0
}