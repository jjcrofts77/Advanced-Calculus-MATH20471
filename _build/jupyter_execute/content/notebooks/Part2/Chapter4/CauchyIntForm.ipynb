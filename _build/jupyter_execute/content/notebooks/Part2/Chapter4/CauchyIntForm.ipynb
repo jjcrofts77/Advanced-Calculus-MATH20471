{
 "cells": [
  {
   "cell_type": "markdown",
   "metadata": {
    "colab_type": "text",
    "id": "view-in-github"
   },
   "source": [
    "<a href=\"https://colab.research.google.com/github/jjcrofts77/Advanced-Calculus-MATH20471/blob/main/content/notebooks/Part2/Chapter4/CauchyIntForm.ipynb\" target=\"_parent\"><img src=\"https://colab.research.google.com/assets/colab-badge.svg\" alt=\"Open In Colab\"/></a>"
   ]
  },
  {
   "cell_type": "markdown",
   "metadata": {
    "id": "LH02_h3zUoAd"
   },
   "source": [
    "# Cauchy's integral formula\n",
    "\n",
    "We have seen that if $f(z)$ is analytic on and within a closed curve $\\mathscr{C}$, then \n",
    "\n",
    "$$\n",
    "\t\\oint_\\mathscr{C} f(z) \\mathrm{d} z=0,\n",
    "$$\n",
    "\n",
    "but what if $\\mathscr{C}$ contains a singularity?\n",
    "\n",
    "If $\\mathscr{C}$ is a closed contour within which $f(z)$ is analytic and $z_0$ lies within $\\mathscr{C}$ then it can be shown that\n",
    "\n",
    "$$\n",
    "\tf(z_0)=\\frac{1}{2\\pi i}\\oint_\\mathscr{C} \\frac{f(z)}{z-z_0}\\mathrm{d} z.\n",
    "$$\n",
    "\n",
    "Rearrangement allows evaluation of integrals.\n",
    "\n",
    "<br>\n",
    "\n",
    "## Cauchy's derivative formula\n",
    "\n",
    "The above result can be extended as follows. If $f(z)$ is analytic on and within some simple closed curve $\\mathscr{C}$ (traversed anticlockwise) and $z_0$ is a point within $\\mathscr{C}$ then:\n",
    "\n",
    "$$\n",
    "\tf^{(n)}(z_0) = \\frac{n!}{2i\\pi}\\oint_\\mathscr{C}\\frac{f(z)}{(z-z_0)^{n+1}}\\mathrm{d} z.\n",
    "$$\n",
    "\n",
    "This result can be rearranged to easily evaluate integrals of the form\n",
    "\n",
    "$$\n",
    "\t\\oint_\\mathscr{C}\\frac{f(z)}{(z-z_0)^{n+1}}\\mathrm{d}z\n",
    "$$\n",
    "\n",
    "**Example 4.3.1** The integral\n",
    "\n",
    "$$\n",
    "\tI = \\oint_\\mathscr{C}\\frac{z^3}{(z-2)^2}\\mathrm{d} z\n",
    "$$\n",
    "\n",
    "where $\\mathscr{C}$ is the curve $|z|=3$ is evaluated as follows. \n",
    "\n",
    "- $z_0=2$, $n=1$ and $f=z^3$\n",
    "\n",
    "- $f^\\prime(z_0)=3z^2|_{z=z_0}=12$\n",
    "\n",
    "- $I=\\frac{2i\\pi}{1!}12=24i\\pi$\n"
   ]
  }
 ],
 "metadata": {
  "colab": {
   "authorship_tag": "ABX9TyPe4Yp0ZInlPp9EMrk9zH9O",
   "include_colab_link": true,
   "name": "CauchyIntForm.ipynb",
   "provenance": []
  },
  "kernelspec": {
   "display_name": "Python 3",
   "name": "python3"
  },
  "language_info": {
   "name": "python"
  }
 },
 "nbformat": 4,
 "nbformat_minor": 0
}