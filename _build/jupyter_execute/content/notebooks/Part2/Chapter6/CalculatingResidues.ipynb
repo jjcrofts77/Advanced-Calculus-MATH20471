{
 "cells": [
  {
   "cell_type": "markdown",
   "metadata": {
    "colab_type": "text",
    "id": "view-in-github"
   },
   "source": [
    "<a href=\"https://colab.research.google.com/github/jjcrofts77/Advanced-Calculus-MATH20471/blob/main/content/notebooks/Part2/Chapter6/CalculatingResidues.ipynb\" target=\"_parent\"><img src=\"https://colab.research.google.com/assets/colab-badge.svg\" alt=\"Open In Colab\"/></a>"
   ]
  },
  {
   "cell_type": "markdown",
   "metadata": {
    "id": "o_wtGaBfy6r8"
   },
   "source": [
    "# 6.2 Calculating residues\n",
    "\n",
    "The residue theorem can be used to calculate integrals. For it to be of much use we must find ways of calculating residues.\n",
    "\n",
    "**Example 6.1.1** Find the poles and corresponding residues of $f(z)=\\frac{z^2+5z+3}{(z-1)(z+2)^2}$\n",
    "\n",
    "**Solution**\n",
    "\n",
    " - Using partial fractions, $f$ may be expressed $\\displaystyle f(z)=\\frac{1}{z-1}+\\frac{1}{(z+2)^2}$\n",
    "\n",
    " - The poles are $z_1=1$ and $z_2=-2$. Clearly, these are order 1 and 2, respectively.\n",
    "\n",
    " - (a) $z_1=1$:\n",
    "\n",
    "  $$\n",
    "  f(z) = \\frac{1}{z-1}+\\frac{1}{(z+2)^2}=\\sum_{n=-1}^\\infty d_n (z-1)^n\\\\\n",
    "  $$\n",
    "\n",
    "  - We can now expand each term individually.\n",
    "\n",
    "  - The second term is analytic at $z=1$ so a simple Taylor expansion will do. \n",
    "\n",
    "  - The Laurent expansion of $\\displaystyle g(z)=\\frac{1}{z-1}$ at the point $z=1$ is easily found by using the ``useful technique'' outlined in previously. \n",
    "\n",
    "  - Since $z_0=1$ is a simple pole of $f$, $(z-1)g$ is analytic at $z_0$. Then multiplying the Taylor series of $(z-1)g$ by $(z-1)^{-1}$ gives the Laurent series.\n",
    "\n",
    "  - In this case, $(z-1)g=1$ so the Laurent series is just $(z-1)^{-1}$ and so:\n",
    "\t\n",
    "\t $$\n",
    "\t f(z)&= \\frac{1}{z-1}  + \\frac{1}{(z+2)^2}\\\\\n",
    "\t\t    &= \\frac{1}{z-1}  + \\sum_{n=0}^\\infty a_n \\left(z-1\\right)^n\n",
    "\t $$\n",
    "\n",
    "  where the $a_n$s in the Taylor series are unknown; however, we're only interested in the residue so we don't need to evaluate them. The residue associated with the pole at $z=1$ is the coefficient of the negative index $b_{-1}$ so, $\\mathrm{Res}(f,z_1)=1$.\n",
    "\n",
    " - (b) $z_2=-2$:\n",
    "\n",
    "  - This time, the $\\displaystyle\\frac{1}{z-1}$ may be expressed as a Taylor series since it is analytic at $z_2$. The combination $(z+2)^2g=1$ (*i.e.* $\\displaystyle g(z)=\\frac{1}{(z+2)^2}$) and so the Laurent expansion of the second term is just $(z+2)^{-2}$. The Taylor series of the 1st term just includes $a_n$s. The series therefore has no $\\mathcal{O}(z-z_0)^{-1}$ terms and so $b_{-1}=0$. \n",
    "\t\n",
    "\tThe residue is therefore $\\mathrm{Res}(f,z_2)=0$.\n",
    "\n",
    "<br>\n",
    "\n",
    "The above example has indicated that the integral may be easily evaluated by use of the residue theorem. In certain circumstances there are easier ways to determine the residue. The three options are as follows:\n",
    "\n",
    "1. If $z_i$ is a removable singularity of $f(z)$, $\\mathrm{Res}(f;z_i)=0$ since the Laurent series reduces to a Taylor series with $b_{-1}=0$ and the residue is zero.\n",
    "\n",
    "2. If $z_i$ is an essential singularity of $f(z)$, $\\mathrm{Res}(f;z_i)$ can only be determined by direct expansion of $f(z)$ around $z_i$.\n",
    "\n",
    "3. If $z_i$ is a pole of order $m$ of $f(z)$, $\\mathrm{Res}(f;z_i)$ is given by the following formula:\n",
    "\n",
    " $$\n",
    " \t\\mathrm{Res}(f;z_i)=\\lim_{z\\rightarrow z_i}\\bigg\\{\\frac{1}{(m-1)!}\\frac{\\mathrm{d}^{m-1}}{\\mathrm{d} z^{m-1}} \\left((z-z_i)^m f(z)\\right)\\bigg\\},\n",
    " $$\n",
    "\n",
    " which in the case of a first order pole (*i.e.* $m=1$) reduces to\n",
    "\n",
    " $$\n",
    " \t\\mathrm{Res}(f;z_i)=\\lim_{z\\rightarrow z_i}\\left\\{(z-z_i) f(z)\\right\\}.\n",
    " $$\n",
    "\n",
    "4. If $z_0$ is a simple pole of the function $\\displaystyle f(z)=p(z)/q(z)$ where $p(z_0)\\neq 0$, $q(z_0)=0$ and $q'(z_0)\\neq 0$, then\n",
    "\n",
    " $$\n",
    " \\mathrm{Res}(f;z_0) = \\frac{p(z_0)}{q'(z_0)}.\n",
    " $$\n",
    "\n",
    "<br>\n",
    "Returning to the previous example: \n",
    "\n",
    "**Example 6.1.2** Find the poles and corresponding residues of $f(z)=\\frac{z^2+5z+3}{(z-1)(z+2)^2}$\n",
    "\n",
    "**Solution**\n",
    " - The pole at $z_1=1$ is order 1 so \n",
    "  $$\n",
    "  \\mathrm{Res}(f;z_1)&=\\lim_{z\\rightarrow z_1}\\left\\{(z-z_1) f(z)\\right\\}\\\\\n",
    "  &= \\lim_{z\\rightarrow 1}\\left\\{(z-1) \\frac{z^2+5z+3}{(z-1)(z+2)^2}\\right\\}\\\\\n",
    "  &= \\left. \\frac{z^2+5z+3}{(z+2)^2}\\right|_{z=1}\\\\\n",
    "  &= \\frac{9}{(3)^2} = 1\\\\\n",
    "  $$\n",
    "\n",
    " - The pole at $z_2=-2$ is order 2 so \n",
    "\n",
    "  $$\n",
    "\t\\mathrm{Res}(f;z_2)&=&\\lim_{z\\rightarrow z_2}\\left\\{\\frac{\\mathrm{d} }{\\mathrm{d} z}((z-z_2)^2 f(z))\\right\\}\\\\\n",
    "\t&= \\lim_{z\\rightarrow -2}\\left\\{\\frac{\\mathrm{d}}{\\mathrm{d} z}\\left((z+2)^2 \\frac{z^2+5z+3}{(z-1)(z+2)^2}\\right)\\right\\}\\\\\n",
    "\t&= \\frac{\\mathrm{d}}{\\mathrm{d} z}\\bigg\\{  \\frac{z^2+5z+3}{(z-1)}\\bigg\\}\\bigg|_{z=-2}\\\\\n",
    "\t&= \\bigg\\{  \\frac{(z-1)(2z+5)-(z^2+5z+3)}{(z-1)^2}\\bigg\\}\\bigg|_{z=-2}\\\\\n",
    "\t&=  0.\n",
    "\t$$"
   ]
  }
 ],
 "metadata": {
  "colab": {
   "authorship_tag": "ABX9TyNYH7jt3TnXgloTANhppcSh",
   "include_colab_link": true,
   "name": "CalculatingResidues.ipynb",
   "provenance": []
  },
  "kernelspec": {
   "display_name": "Python 3",
   "name": "python3"
  },
  "language_info": {
   "name": "python"
  }
 },
 "nbformat": 4,
 "nbformat_minor": 0
}