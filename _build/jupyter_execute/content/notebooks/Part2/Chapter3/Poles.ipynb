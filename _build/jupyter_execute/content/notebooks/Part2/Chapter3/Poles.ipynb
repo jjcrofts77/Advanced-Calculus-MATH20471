{
 "cells": [
  {
   "cell_type": "markdown",
   "metadata": {
    "colab_type": "text",
    "id": "view-in-github"
   },
   "source": [
    "<a href=\"https://colab.research.google.com/github/jjcrofts77/Advanced-Calculus-MATH20471/blob/main/content/notebooks/Part2/Chapter3/Poles.ipynb\" target=\"_parent\"><img src=\"https://colab.research.google.com/assets/colab-badge.svg\" alt=\"Open In Colab\"/></a>"
   ]
  },
  {
   "cell_type": "markdown",
   "metadata": {
    "id": "7m3XZRcec0PE"
   },
   "source": [
    "# 3.1 Poles\n",
    "\n",
    "Taking $f(z)=\\frac{z^3+2z+1}{z^2+3z+2}$, we see that the denominator may be expressed $(z+2)(z+1)$ and so $f$ is not defined at $z=-1,-2$ and so is not analytic at these two points.\n",
    "\n",
    "<br>\n",
    "\n",
    "**Definition 3.1.1** A function $f(z)$ has an order $n$ pole at $z_0$ if $z_0$ is a root of order $n$ for the function $1/f(z)$\n",
    "\n",
    "<br>\n",
    "\n",
    "```{note}\n",
    "Another way of looking at it: $z_0$ is a root of order $n$ of $f(z)$ if $(z-z_0)^n f(z)$ is analytic at $z_0$ and $(z-z_0)^{n-1} f(z)$ is not. \n",
    "```\n",
    "\n",
    "For instance, in the above example, \n",
    "\\[\n",
    "\\f{1}{f(z)}= \\f{(z+2)(z+1)}{z^3+2z+1}\n",
    "\\]\n",
    "and $z=-1,-2$ are 1$^{st}$ order roots. Hence $z=-1,-2$ are order one poles of $f$.\n",
    "\n",
    "<br>\n",
    "\n",
    "**Example 3.1.1** $\\displaystyle f(z) = \\frac{3z-2}{(z-1)^2(z+1)(z-4)}$ has a pole of order 2 at $z=1$, and simple (*i.e.* order 1) poles at $-1$ and $4$.\n",
    "\n",
    "<br>\n",
    "\n",
    "**Definition 3.1.2** If $\\displaystyle g(z)=(z-z_0)^nf(z)$, where $f(z_0)\\neq 0$ and $n$ is a positive integer, then $z=z_0$ is called a *zero of order $n$* of $g(z)$. If $n=1$ $z_0$ is called *simple zero*.\n",
    "\n",
    "```{margin}\n",
    "If $z_0$ is an $n$th order zero of $g(x)$, then it is an $n$th order pole for $1/g(z)$.\n",
    "```"
   ]
  }
 ],
 "metadata": {
  "colab": {
   "authorship_tag": "ABX9TyPpMJ6zrtq4jfnZLqDKIt6P",
   "include_colab_link": true,
   "name": "Poles.ipynb",
   "provenance": []
  },
  "kernelspec": {
   "display_name": "Python 3",
   "name": "python3"
  },
  "language_info": {
   "name": "python"
  }
 },
 "nbformat": 4,
 "nbformat_minor": 0
}