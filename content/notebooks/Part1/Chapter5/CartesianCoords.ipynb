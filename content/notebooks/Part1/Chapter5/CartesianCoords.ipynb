{
  "nbformat": 4,
  "nbformat_minor": 0,
  "metadata": {
    "colab": {
      "name": "CartesianCoords.ipynb",
      "provenance": [],
      "authorship_tag": "ABX9TyOUosLdXhjDLGTgPJQB2xU0",
      "include_colab_link": true
    },
    "kernelspec": {
      "name": "python3",
      "display_name": "Python 3"
    },
    "language_info": {
      "name": "python"
    }
  },
  "cells": [
    {
      "cell_type": "markdown",
      "metadata": {
        "id": "view-in-github",
        "colab_type": "text"
      },
      "source": [
        "<a href=\"https://colab.research.google.com/github/jjcrofts77/Advanced-Calculus-MATH20471/blob/main/content/notebooks/Part1/Chapter5/CartesianCoords.ipynb\" target=\"_parent\"><img src=\"https://colab.research.google.com/assets/colab-badge.svg\" alt=\"Open In Colab\"/></a>"
      ]
    },
    {
      "cell_type": "markdown",
      "metadata": {
        "id": "tVlrMHJ_i7uk"
      },
      "source": [
        "# 5.1 BVP in catesian coordinates\n",
        "\n",
        "Consider the following BVP: find the solution of Laplace's equation (\\ref{eqn:LaplaceCh5}) which is defined on the rectangle \n",
        "$\\{(x,y): 0\\leq x\\leq a, 0\\leq y\\leq b\\}$ (see figure ???) and satisfies the boundary conditions\n",
        "\n",
        "$$\n",
        " T(0,y)=T(a,y)=0, \\quad 0<y<b,\n",
        "$$\n",
        "\n",
        "and\n",
        "\n",
        "$$\n",
        " T(x,0)=0 \\text{ and } T(x,b)=f(x), 0<x<a.\n",
        "$$"
      ]
    }
  ]
}