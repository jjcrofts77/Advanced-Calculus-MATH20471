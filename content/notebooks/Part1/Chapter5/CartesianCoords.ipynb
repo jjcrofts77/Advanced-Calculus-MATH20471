{
  "nbformat": 4,
  "nbformat_minor": 0,
  "metadata": {
    "colab": {
      "name": "CartesianCoords.ipynb",
      "provenance": [],
      "authorship_tag": "ABX9TyOx7Hw094/yJI81goa3vUKE",
      "include_colab_link": true
    },
    "kernelspec": {
      "name": "python3",
      "display_name": "Python 3"
    },
    "language_info": {
      "name": "python"
    }
  },
  "cells": [
    {
      "cell_type": "markdown",
      "metadata": {
        "id": "view-in-github",
        "colab_type": "text"
      },
      "source": [
        "<a href=\"https://colab.research.google.com/github/jjcrofts77/Advanced-Calculus-MATH20471/blob/main/content/notebooks/Part1/Chapter5/CartesianCoords.ipynb\" target=\"_parent\"><img src=\"https://colab.research.google.com/assets/colab-badge.svg\" alt=\"Open In Colab\"/></a>"
      ]
    },
    {
      "cell_type": "markdown",
      "metadata": {
        "id": "tVlrMHJ_i7uk"
      },
      "source": [
        "# 5.1 BVP in Catesian Coordinates\n",
        "\n",
        "Consider the following BVP: find the solution of Laplace's equation {eq}`LaplaceCh5` which is defined on the rectangle $\\{(x,y): 0\\leq x\\leq a, 0\\leq y\\leq b\\}$ (see figure \\ref{fig:rectangle}) and satisfies the boundary conditions\n",
        "\n",
        "$$\n",
        " T(0,y)=T(a,y)=0, \\quad 0<y<b,\n",
        "$$ (LaplaceBCs1)\n",
        "\n",
        "$$\n",
        " T(x,0)=0 \\text{ and } T(x,b)=f(x), 0<x<a.\n",
        "$$\n",
        "\n",
        "To begin we look for special solutions of Laplace's equation of the separable form $T(x,y)=F(x)G(y)$. Substituting into {eq}`LaplaceCh5` and dividing through by $F(x)G(y)$ gives\n",
        "\n",
        "$$\n",
        "\\frac{1}{F(x)}F''(x)+\\frac{1}{G(x)}G''(x)=0.\n",
        "$$\n",
        "\n",
        "Hence there is a constant $\\lambda$ such that\n",
        "\n",
        "$$\n",
        " F''(x)=-\\lambda F(x), \\quad G''(y)=\\lambda G(y).\n",
        "$$\n",
        "\n",
        "Solving in the usual manner we obtain $\\displaystyle\\lambda=n^2\\pi^2/a^2, F(x)=\\sin(n\\pi x/a) (n=1,2,3,\\ldots)$ and so \n",
        "\n",
        "$$\n",
        "T(x,y) = \\sin\\left(\\frac{n\\pi x}{a}\\right)G(y),\n",
        "$$\n",
        "\n",
        "which satisfies the boundary conditions {eq}`LaplaceBCs1`. Furthermore, $G(y)$ is a solution of the ODE\n",
        "\n",
        "$$\n",
        " G''(y) = \\frac{n^2\\pi^2}{a^2}G(y),\n",
        "$$\n",
        "\n",
        "and so \n",
        "\n",
        "$$\n",
        " G(y) = A\\cosh\\left(\\frac{n\\pi y}{a}\\right) + B\\sinh\\left(\\frac{n\\pi y}{a}\\right), \n",
        "$$\n",
        "\n",
        "in which hyperbolic functions, instead of trigonometric functions, occur. The choice $A=0$ ensures that the boundary condition $T(x,0)=0$ $(0<x<a)$ holds and thus we are led to consider solutions of the BVP of the form\n",
        "\n",
        "$$\n",
        " T(x,y) = \\sum_{n=1}^\\infty B_n\\sin\\left(\\frac{n\\pi x}{a}\\right)\\sinh\\left(\\frac{n\\pi y}{a}\\right).\n",
        "$$\n",
        "\n",
        "On setting $y=b$ we see that the coefficients $B_n$ are determined by the condition that\n",
        "\n",
        "$$\n",
        " B_n\\sinh\\left(\\frac{n\\pi b}{a}\\right) = \\frac{2}{a}\\int_0^af(s)\\sin\\left(\\frac{n\\pi s}{a}\\right)\\mathrm{d}s,\n",
        "$$\n",
        "\n",
        "and the BVP has the solution\n",
        "\n",
        "$$\n",
        " T(x,y) = \\frac{2}{a}\\sum_{n=1}^\\infty \\frac{1}{\\sinh\\left(n\\pi b/a\\right)}\\left[\\int_0^af(s)\\sin\\left(\\frac{n\\pi s}{a}\\right)\\mathrm{d}s\\right]\\sin\\left(\\frac{n\\pi x}{a}\\right)\\sinh\\left(\\frac{n\\pi y}{a}\\right).\n",
        "$$\n"
      ]
    }
  ]
}
