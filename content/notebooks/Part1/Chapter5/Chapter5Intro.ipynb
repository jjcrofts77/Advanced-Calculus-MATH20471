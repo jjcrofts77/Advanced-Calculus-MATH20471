{
  "nbformat": 4,
  "nbformat_minor": 0,
  "metadata": {
    "colab": {
      "name": "Chapter5Intro.ipynb",
      "provenance": [],
      "authorship_tag": "ABX9TyMWpW6LoiAmpCjYmamVGb8L",
      "include_colab_link": true
    },
    "kernelspec": {
      "name": "python3",
      "display_name": "Python 3"
    },
    "language_info": {
      "name": "python"
    }
  },
  "cells": [
    {
      "cell_type": "markdown",
      "metadata": {
        "id": "view-in-github",
        "colab_type": "text"
      },
      "source": [
        "<a href=\"https://colab.research.google.com/github/jjcrofts77/Advanced-Calculus-MATH20471/blob/main/content/notebooks/Part1/Chapter5/Chapter5Intro.ipynb\" target=\"_parent\"><img src=\"https://colab.research.google.com/assets/colab-badge.svg\" alt=\"Open In Colab\"/></a>"
      ]
    },
    {
      "cell_type": "markdown",
      "metadata": {
        "id": "HKRcdHRPitbw"
      },
      "source": [
        "# Chapter 5 Laplace's Equation\n",
        "\n",
        "Steady two-dimensional heat flow is governed by Laplace's equation:\n",
        "\n",
        "$$\n",
        " \\frac{\\partial^2 T}{\\partial x^2}+\\frac{\\partial^2 T}{\\partial y^2} = 0.\n",
        "$$ (LaplaceCh5)\n",
        "\n",
        "If $r$ and $\\theta$ are the usual plane polar coordinates,\n",
        "\n",
        "$$\n",
        "x = r\\cos\\theta, \\quad y=r\\sin\\theta,\n",
        "$$\n",
        "\n",
        "Laplace's equation becomes\n",
        "\n",
        "$$\n",
        "\\frac{\\partial^2T}{\\partial r^2}+\\frac{1}{r}\\frac{\\partial T}{\\partial r}+\\frac{1}{r^2}\\frac{\\partial^2T}{\\partial\\theta^2}=0. \n",
        "$$ (LaplaceCh5Polar)\n",
        "\n",
        "For rectangles, discs, the exterior of discs and annuli, we can use separation of variables and Fourier series to construct solutions of {eq}`LaplaceCh5` and {eq}`LaplaceCh5Polar`."
      ]
    }
  ]
}
