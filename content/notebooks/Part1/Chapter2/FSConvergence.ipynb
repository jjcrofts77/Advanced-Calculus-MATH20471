{
  "nbformat": 4,
  "nbformat_minor": 0,
  "metadata": {
    "colab": {
      "name": "FSConvergence.ipynb",
      "provenance": [],
      "authorship_tag": "ABX9TyMEe5Og+ccjbovPhpPAji9+",
      "include_colab_link": true
    },
    "kernelspec": {
      "name": "python3",
      "display_name": "Python 3"
    },
    "language_info": {
      "name": "python"
    }
  },
  "cells": [
    {
      "cell_type": "markdown",
      "metadata": {
        "id": "view-in-github",
        "colab_type": "text"
      },
      "source": [
        "<a href=\"https://colab.research.google.com/github/jjcrofts77/Advanced-Calculus-MATH20471/blob/main/content/notebooks/Part1/Chapter2/FSConvergence.ipynb\" target=\"_parent\"><img src=\"https://colab.research.google.com/assets/colab-badge.svg\" alt=\"Open In Colab\"/></a>"
      ]
    },
    {
      "cell_type": "markdown",
      "metadata": {
        "id": "qL-pW7itc5Le"
      },
      "source": [
        "# 2.3 Convergence of Fourier series\n",
        "\n",
        "For the previous example it does appear that except at points of discontinuity the partial sums do converge to $f(x)$. \n",
        "At points of discontinuity they converge to zero. A similar result is true for most functions that appear in applications. \n",
        "To present this result we first need to discuss one-sided limits."
      ]
    }
  ]
}