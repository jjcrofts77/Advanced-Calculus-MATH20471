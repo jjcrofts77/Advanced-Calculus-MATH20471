{
  "nbformat": 4,
  "nbformat_minor": 0,
  "metadata": {
    "colab": {
      "name": "FSConvergence.ipynb",
      "provenance": [],
      "authorship_tag": "ABX9TyMmK8z1Mn3xvdokGomlsaP6",
      "include_colab_link": true
    },
    "kernelspec": {
      "name": "python3",
      "display_name": "Python 3"
    },
    "language_info": {
      "name": "python"
    }
  },
  "cells": [
    {
      "cell_type": "markdown",
      "metadata": {
        "id": "view-in-github",
        "colab_type": "text"
      },
      "source": [
        "<a href=\"https://colab.research.google.com/github/jjcrofts77/Advanced-Calculus-MATH20471/blob/main/content/notebooks/Part1/Chapter2/FSConvergence.ipynb\" target=\"_parent\"><img src=\"https://colab.research.google.com/assets/colab-badge.svg\" alt=\"Open In Colab\"/></a>"
      ]
    },
    {
      "cell_type": "markdown",
      "metadata": {
        "id": "qL-pW7itc5Le"
      },
      "source": [
        "# 2.3 Convergence of Fourier series\n",
        "\n",
        "For the previous example it does appear that except at points of discontinuity the partial sums do converge to $f(x)$. \n",
        "At points of discontinuity they converge to zero. A similar result is true for most functions that appear in applications. \n",
        "To present this result we first need to discuss one-sided limits.\n",
        "\n",
        "<br>\n",
        "\n",
        ">**Definition 2.3.1** We say that the *right-hand limit* of $f$ at $c$ is\n",
        ">\n",
        ">$$\n",
        " f(c_+) = \\lim_{h\\rightarrow 0, h>0}f(c+h),\n",
        "$$\n",
        ">\n",
        ">if this exists. Similarly, the *left-hand limit* of $f$ at $c$ is\n",
        ">\n",
        ">$$\n",
        " f(c_{-}) = \\lim_{h\\rightarrow 0, h>0}f(c-h),\n",
        "$$\n",
        ">\n",
        ">if this exists.\n",
        "\n",
        "<br>\n",
        "\n",
        "The existence part is important. Consider, for example, the function $f(x) = \\sin(1/x)$, which does not have these limits at zero.\n",
        "\n",
        "<br>\n",
        "\n",
        ">**Definition 2.3.2** The function $f$ is *piecewise continuous* on an interval $(a, b)$ if we can divide $(a, b)$ into a finite number of sub-intervals, on each of which $f$ is defined and continuous, and the left-hand and right-hand limits at the endpoints of each sub-interval exist.\n",
        "\n",
        "<br>\n",
        "\n",
        ">**Theorem 2.3.1 (Convergence theorem)** Let $f$ be a periodic function with period $2\\pi$, with $f$ and $f'$ piecewise continuous on $(-\\pi, \\pi)$. Then the Fourier series of $f$ at $x$ converges to the value $\\displaystyle \\frac{1}{2}\\left[f(x_+) + f(x_-)\\right]$, *i.e.*\n",
        ">\n",
        ">$$\n",
        "\\frac{1}{2}\\left[f(x_+) + f(x_-)\\right] = \\frac{1}{2}a_0 + \\sum_{n=1}^\\infty \\left[a_n\\cos(nx) + b_n \\sin(nx)\\right].\n",
        "$$ (ThmConv)\n",
        ">\n",
        ">Note that if $f$ is continuous at $x$, then $f(x_+) = f(x_-) = f(x)$ so the Fourier series converges to $f(x)$.\n",
        "\n",
        "<br>\n",
        "\n",
        "Note that if a function is defined on an interval of length $2\\pi$, we can find the Fourier series of  its periodic extension and equation {eq}`ThmConv` will then hold on the original interval. But we have to be careful at the end points of the interval: *e.g.* if $f$ is defined on $(-\\pi, \\pi]$ then at $\\pm\\pi$ the Fourier series converges to $\\displaystyle \\frac{1}{2}\\left[f(\\pi_+) + f(\\pi_-)\\right]$. \n",
        "\n",
        "For example we have, by Theorem 2.3.1, that\n",
        "\n",
        "$$\n",
        "\\frac{1}{2}\\left[f(x_+) + f(x_-)\\right] = \\frac{4}{\\pi}\\sum_{m=0}^\\infty \\frac{1}{2m+1}\\sin\\left((2m+1)x\\right),\n",
        "$$\n",
        "\n",
        "where both sides reduce to zero at $x=0, \\pm\\pi$. \n",
        "\n",
        "At $x=\\pi/2$ we obtain\n",
        "\n",
        "$$\n",
        "1 = \\frac{4}{\\pi}\\sum_{m=0}^\\infty \\frac{1}{2m+1}\\sin\\left(\\frac{(2m+1)\\pi}{2}\\right) = \\frac{4}{\\pi}\\sum_{m=0}^\\infty\\frac{(-1)^m}{2m+1},\n",
        "$$\n",
        "\n",
        "and hence \n",
        "\n",
        "$$\n",
        "\\frac{\\pi}{4} = \\sum_{m=0}^\\infty\\frac{(-1)^m}{2m+1}.\n",
        "$$\n",
        "\n",
        "## Gibbs Phenomenon\n",
        "\n",
        "As can be seen in Figure 2.3.1, at a point of discontinuity, the partial sums always overshoot the limiting values. This overshoot does not tend to zero as more terms are taken, but the width of the overshooting region does tend to zero. This is known as *Gibbs Phenomenon*."
      ]
    }
  ]
}