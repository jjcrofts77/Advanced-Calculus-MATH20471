{
  "nbformat": 4,
  "nbformat_minor": 0,
  "metadata": {
    "colab": {
      "name": "Fourierseries2pi.ipynb",
      "provenance": [],
      "authorship_tag": "ABX9TyMWuuug5qJfcgXQ9zm2dQjp",
      "include_colab_link": true
    },
    "kernelspec": {
      "name": "python3",
      "display_name": "Python 3"
    },
    "language_info": {
      "name": "python"
    }
  },
  "cells": [
    {
      "cell_type": "markdown",
      "metadata": {
        "id": "view-in-github",
        "colab_type": "text"
      },
      "source": [
        "<a href=\"https://colab.research.google.com/github/jjcrofts77/Advanced-Calculus-MATH20471/blob/main/content/notebooks/Part1/Chapter2/Fourierseries2pi.ipynb\" target=\"_parent\"><img src=\"https://colab.research.google.com/assets/colab-badge.svg\" alt=\"Open In Colab\"/></a>"
      ]
    },
    {
      "cell_type": "code",
      "metadata": {
        "id": "EknU1G3zBFjF"
      },
      "source": [
        ""
      ],
      "execution_count": null,
      "outputs": []
    },
    {
      "cell_type": "markdown",
      "metadata": {
        "id": "9SqR6K9JBF7C"
      },
      "source": [
        "# 2.2 Fourier series for functions of period $2\\pi$\n",
        "\n",
        "Let $f$ be a function of period $2\\pi$. We would like to get an expansion for $f$ of the form\n",
        "\n",
        "\\begin{equation}\n",
        " f(x) = \\frac{1}{2}a_0 +\\sum_{n=1}^\\infty \\left[a_n\\cos(nx) + b_n\\sin(nx)\\right],\n",
        "\\end{equation}\n",
        "\n",
        "where the $a_n$ and $b_n$ are constants. Remember that $\\sin(nx)$ and $\\cos(nx)$ are periodic with period $2\\pi$. \n",
        "\n",
        "Such an expansion is know as a Fourier series (FS).\n",
        "\n",
        "We have two questions to answer about the above series:\n",
        "\n",
        "**Question 1:** If the series on the RHS of the above equation converges, can we find constants $a_0, a_n$ and $b_n$ in terms of the function $f$?\n",
        "\n",
        "**Question 2:** with these $a_n, b_n$, for what values of $x\\in\\mathbb{R}$ does our FS equation hold?\n",
        "\n",
        "\n",
        "## Question 1\n",
        "\n",
        "Suppose the above equation is true and that we can integrate it term by term (\\emph{i.e} the series on the RHS above converges *uniformly*) so that\n",
        "\n",
        "$$\n",
        "\\int_{-\\pi}^\\pi f(x)\\mathrm{d}x = \\frac{1}{2}a_0\\int_{-\\pi}^\\pi\\mathrm{d}x +\\sum_{n=1}^\\infty \\left[a_n\\int_{-\\pi}^\\pi\\cos(nx)\\mathrm{d}x + b_n\\int_{-\\pi}^\\pi\\sin(nx)\\mathrm{d}x\\right],\n",
        "$$\n",
        "\n",
        "Since \n",
        "\n",
        "$$\n",
        "\\int_{-\\pi}^\\pi \\mathrm{d}x = 2\\pi, \\quad \\int_{-\\pi}^\\pi \\cos(nx)\\mathrm{d}x = 0, \\quad \\int_{-\\pi}^\\pi\\sin(nx)\\mathrm{d}x=0,\n",
        "$$\n",
        "\n",
        "we must have\n",
        "\n",
        "$$\n",
        "a_0 = \\frac{1}{\\pi}\\int_{-\\pi}^\\pi f(x)\\mathrm{d}x.\n",
        "$$\n",
        "\n",
        "Thus if equation the FS holds, then we know $a_0$.\n",
        "\n",
        "<br>\n",
        "\n",
        "> **Lemma 2.1:** Let $n, m\\in\\mathbb{N}\\backslash 0$. We then have the following equalities:\n",
        "\\begin{equation}\n",
        "\\int_{-\\pi}^\\pi \\sin(mx)\\cos(nx)\\mathrm{d}x = 0,\n",
        "\\end{equation}\n",
        "$$\n",
        " \\int_{-\\pi}^\\pi\\sin(mx)\\sin(nx)\\mathrm{d}x = \\pi\\delta_{nm},\n",
        "$$\n",
        "$$\n",
        " \\int_{-\\pi}^\\pi\\cos(mx)\\cos(nx)\\mathrm{d}x = \\pi\\delta_{nm}.\n",
        "$$\n",
        "where $\\delta_{mn}$ is the *Kronecker delta* defined by\n",
        "$$\n",
        " \\delta_{mn} = \\begin{cases}0& n\\neq m\\\\1&n=m.\\end{cases}\n",
        "$$\n",
        "\n",
        "<details>\n",
        "<summary>Proof</summary>\n",
        "    - details of proof...\n",
        "</details>\n"
      ]
    }
  ]
}