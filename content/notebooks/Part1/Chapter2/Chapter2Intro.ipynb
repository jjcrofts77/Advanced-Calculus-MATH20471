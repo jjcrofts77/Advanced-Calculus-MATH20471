{
  "nbformat": 4,
  "nbformat_minor": 0,
  "metadata": {
    "colab": {
      "name": "Chapter2Intro.ipynb",
      "provenance": [],
      "collapsed_sections": [],
      "authorship_tag": "ABX9TyOILgSd8qtGQYL2LHrFPc3P",
      "include_colab_link": true
    },
    "kernelspec": {
      "name": "python3",
      "display_name": "Python 3"
    },
    "language_info": {
      "name": "python"
    }
  },
  "cells": [
    {
      "cell_type": "markdown",
      "metadata": {
        "id": "view-in-github",
        "colab_type": "text"
      },
      "source": [
        "<a href=\"https://colab.research.google.com/github/jjcrofts77/Advanced-Calculus-MATH20471/blob/main/content/notebooks/Part1/Chapter2/Chapter2Intro.ipynb\" target=\"_parent\"><img src=\"https://colab.research.google.com/assets/colab-badge.svg\" alt=\"Open In Colab\"/></a>"
      ]
    },
    {
      "cell_type": "markdown",
      "metadata": {
        "id": "VRfPvp_iGPXx"
      },
      "source": [
        "# Chapter 2 Fourier Series\n",
        "\n",
        "In the following chapters, we will look at methods for solving the PDEs described in Chapter 1. In order to incorporate general initial or boundary conditions into our solutions, it will be necessary to have some understanding of *Fourier series*.\n",
        "\n",
        "For example, we can see that the series \n",
        "\n",
        "$$\n",
        "  y(x,t) = \\sum_{n=1}^\\infty \\sin\\left(\\frac{n\\pi x}{L}\\right)\\left[A_n\\cos\\left(\\frac{n\\pi c t}{L}\\right) +B_n\\sin\\left(\\frac{n\\pi ct}{L}\\right)\\right], \n",
        "$$ (eqn1)\n",
        "\n",
        "is a solution of the wave equation\n",
        "\n",
        "$$\n",
        " \\frac{\\partial^2 y}{\\partial t^2} = c^2\\frac{\\partial^2 y}{\\partial x^2},\\quad x\\in[0, L], ~t\\geq 0,\n",
        "$$\n",
        "\n",
        "which satisfies the boundary conditions\n",
        "\n",
        "$$\n",
        "y(0,t) = 0 = y(L,t).\n",
        "$$\n",
        "\n",
        "We may view $y(x,t)$ as the solution of the problem of modelling a vibrating string of length $L$ pinned at both ends, *e.g.* a guitar string.\n",
        "\n",
        "We would like to find a solution with initial conditions \n",
        "\n",
        "$$\n",
        " y(x,0) = \\alpha\\sin\\left(\\frac{\\pi x}{L}\\right), \\quad \\frac{\\partial y}{\\partial t}(x,0)=0,\n",
        "$$\n",
        "\n",
        "and we do this by calculating $A_n$ and $B_n$ as follows: from {eq}`eqn1` we have \n",
        "\n",
        "$$\n",
        " y(x,0) = \\sum_{n=1}^\\infty A_n\\sin\\left(\\frac{n \\pi x}{L}\\right),\n",
        "$$\n",
        "\n",
        "and\n",
        "\n",
        "$$\n",
        " \\frac{\\partial y}{\\partial t}(x,0) = \\sum_{n=1}^\\infty B_n \\left(\\frac{n\\pi c}{L}\\right)\\sin\\left(\\frac{n\\pi x}{L}\\right).\n",
        "$$\n",
        "\n",
        "Hence, we want $A_n, B_n$ such that\n",
        "\n",
        "$$\n",
        " \\alpha\\sin\\left(\\frac{\\pi x}{L}\\right) = \\sum_{n=1}^\\infty A_n\\sin\\left(\\frac{n \\pi x}{L}\\right), \\qquad 0 = \\sum_{n=1}^\\infty B_n \\left(\\frac{n\\pi c}{L}\\right)\\sin\\left(\\frac{n\\pi x}{L}\\right).\n",
        "$$\n",
        "\n",
        "By inspection we see that $A_1=\\alpha$, $A_n = 0$ for $n\\neq 1$ and $B_n=0 ~\\forall n$. Thus, for these initial conditions, the solution is \n",
        "\n",
        "$$\n",
        " y(x,t) = \\alpha\\sin\\left(\\frac{\\pi x}{L}\\right)\\cos\\left(\\frac{\\pi c t}{L}\\right).\n",
        "$$\n",
        "\n",
        "If we would like to take more general initial conditions\n",
        "\n",
        "$$\n",
        " y(x,0) = f(x), \\quad \\frac{\\partial y}{\\partial t}(x,0) = g(x),\n",
        "$$\n",
        "\n",
        "we need to find $\\{A_n, B_n\\}$ such that\n",
        "\n",
        "$$\n",
        "f(x) = \\sum_{n=1}^\\infty A_n\\sin\\left(\\frac{n \\pi x}{L}\\right), \\qquad g(x) = \\sum_{n=1}^\\infty B_n \\left(\\frac{n\\pi c}{L}\\right)\\sin\\left(\\frac{n\\pi x}{L}\\right).\n",
        "$$\n",
        "\n",
        "These are known as the *Fourier sine series* of the functions $f, g$."
      ]
    },
    {
      "cell_type": "code",
      "metadata": {
        "id": "8PIzikhbS3Sr"
      },
      "source": [
        ""
      ],
      "execution_count": null,
      "outputs": []
    }
  ]
}