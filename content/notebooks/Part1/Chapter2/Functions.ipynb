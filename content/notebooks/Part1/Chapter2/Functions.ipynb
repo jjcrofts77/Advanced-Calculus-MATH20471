{
  "nbformat": 4,
  "nbformat_minor": 0,
  "metadata": {
    "colab": {
      "name": "Functions.ipynb",
      "provenance": [],
      "include_colab_link": true
    },
    "kernelspec": {
      "name": "python3",
      "display_name": "Python 3"
    },
    "language_info": {
      "name": "python"
    }
  },
  "cells": [
    {
      "cell_type": "markdown",
      "metadata": {
        "id": "view-in-github",
        "colab_type": "text"
      },
      "source": [
        "<a href=\"https://colab.research.google.com/github/jjcrofts77/Advanced-Calculus-MATH20471/blob/main/content/notebooks/Part1/Chapter2/Functions.ipynb\" target=\"_parent\"><img src=\"https://colab.research.google.com/assets/colab-badge.svg\" alt=\"Open In Colab\"/></a>"
      ]
    },
    {
      "cell_type": "markdown",
      "metadata": {
        "id": "eXRLj0zz0vwZ"
      },
      "source": [
        "# 2.1 Periodic, Even and Odd Functions\n",
        "\n",
        "We start this section by reminding ourselves what it means for a function to be *periodic* as well as reviewing some of the most important properties of such functions.\n",
        "\n",
        "<br>\n",
        "\n",
        ">**Definition 2.1.1** We say that $f$ is a *periodic function* if there exists an $a>0$ such that\n",
        ">\n",
        ">$$\n",
        " f(x+a) = f(x), \\quad \\forall x \\in\\mathbb{R}.\n",
        "$$\n",
        ">\n",
        ">If this is the case then $a$ is called a *period* for $f$. Note that the period is not unique, but if there is a smallest such $a$, it is called the *prime period* of $f$.\n",
        "\n",
        "<br>\n",
        "\n",
        "Examples of periodic functions are shown below."
      ]
    },
    {
      "cell_type": "code",
      "metadata": {
            "tags": [
        "hide-output"
        ]
        "colab": {
          "base_uri": "https://localhost:8080/",
          "height": 337
        },
        "id": "QhPzheOgmkM1",
        "outputId": "5092af83-c976-4336-e945-30b4f586a283"
      },
      "source": [
        "from IPython.display import HTML\n",
        "HTML('<iframe width=\"560\" height=\"315\" src=\"https://user-images.githubusercontent.com/90452278/137192140-38c0aad9-3741-45f7-8f66-c174fcb2778f.mp4\" title=\"Periodic Functions\" frameborder=\"0\" allow=\"accelerometer; autoplay; clipboard-write; encrypted-media; gyroscope; picture-in-picture\" allowfullscreen></iframe>')\n"
      ],
      "execution_count": 2,
      "outputs": [
        {
          "output_type": "execute_result",
          "data": {
            "text/html": [
              "<iframe width=\"560\" height=\"315\" src=\"https://user-images.githubusercontent.com/90452278/137192140-38c0aad9-3741-45f7-8f66-c174fcb2778f.mp4\" title=\"Periodic Functions\" frameborder=\"0\" allow=\"accelerometer; autoplay; clipboard-write; encrypted-media; gyroscope; picture-in-picture\" allowfullscreen></iframe>"
            ],
            "text/plain": [
              "<IPython.core.display.HTML object>"
            ]
          },
          "metadata": {},
          "execution_count": 2
        }
      ]
    },
    {
      "cell_type": "markdown",
      "metadata": {
        "id": "_sj_PSC2msRt"
      },
      "source": [
        "<br>\n",
        "\n",
        "The following points should be clear from the above definitions.\n",
        "\n",
        "\n",
        "1. Observe that this means that $f(x) = c$ for some constant $c$ does not have a prime period.\n",
        "2. Examples of periodic functions are $\\sin{x}$ with prime period $2\\pi$ and $\\cos(2\\pi x/a)$ with \n",
        "prime period $a$. Examples of non-periodic functions are $x$ and $x^2$.\n",
        "3. Observe that if $f$ is defined on the half-open interval $(\\alpha, \\alpha+a]$ we can extend it \n",
        "to be a periodic function by demanding it is periodic with period $a$. This is called a *periodic extension*.\n",
        "\n",
        "In order to solve certain PDEs it will be useful to consider the periodic extension of a function. (This will allow us to use the methods of FS to solve obtain series solutions of PDEs.)\n",
        "\n",
        "<br>\n",
        "\n",
        ">**Definition 2.1.2**\n",
        "Formally, we define the *periodic extension*, $F$, of $f$ as follows: given $x\\in\\mathbb{R}$ there exists a unique integer $m$ \n",
        "such that $x-ma\\in(\\alpha, \\alpha+a]$. If we then set $F(x) = f(x-ma)$, we can see that $F$ is periodic with period $a$.\n",
        "\n",
        "<br>\n",
        "\n",
        "## Properties of periodic functions\n",
        "If $f, g$ are periodic functions with period $a$, then:\n",
        " 1. $f, g$ are also periodic functions with period $na$ for any $n\\in \\mathbb{N}$;\n",
        " 2. for any $\\alpha, \\beta \\in \\mathbb{R}$, $\\alpha f + \\beta g$ is periodic with period $a$;\n",
        " 3. $fg$ is periodic with period $a$;\n",
        " 4. for any $\\lambda>0$, $f(\\lambda x)$ is periodic with period $a/\\lambda$,\n",
        " \n",
        "$$\n",
        "  f(\\lambda(x+a/\\lambda)) = f(\\lambda x+a) = f(\\lambda x);\n",
        "$$\n",
        " 5. for any $\\alpha\\in\\mathbb{R}$,\n",
        "\n",
        "$$\n",
        " \\int_0^a f(x)\\mathrm{d}x = \\int_\\alpha^{\\alpha+a}f(x)\\mathrm{d}x.\n",
        "$$\n",
        "\n",
        "\n",
        "## Odd and even functions\n",
        "\n",
        ">**Definition 2.1.3:**\n",
        "A function $f:\\mathbb{R}\\rightarrow\\mathbb{R}$ is said to be *odd* if\n",
        ">\n",
        ">$$\n",
        " f(x) = -f(-x), \\qquad \\forall x\\in\\mathbb{R}.\n",
        "$$\n",
        "\n",
        "For example, $\\sin(\\lambda x)$ for $\\lambda\\in\\mathbb{R}$ and $x^{2n+1}$ for $n\\in\\mathbb{N}$ are both odd functions.\n",
        "\n",
        "<br>\n",
        "\n",
        ">**Definition 2.1.4:**\n",
        "A function $g:\\mathbb{R}\\rightarrow\\mathbb{R}$ is said to be *even* if\n",
        ">\n",
        ">$$\n",
        " g(x) = g(-x), \\qquad \\forall x\\in\\mathbb{R}.\n",
        "$$\n",
        "\n",
        "Examples of even functions are $\\cos(\\lambda x)$ for $\\lambda\\in\\mathbb{R}$ and $x^{2n}$ for $n\\in\\mathbb{N}$.\n",
        "\n",
        "\n",
        "## Properties of odd and even functions\n",
        "\n",
        "If $f, f_1$ are odd functions and $g, g_1$ are even functions then: \n",
        "\n",
        " 1. $f(0)=0$ because $f(0)=-f(-0)=-f(0)$;\n",
        " 2. for any $\\alpha\\in\\mathbb{R}$, we have that \n",
        " $\\displaystyle \\int_{-\\alpha}^\\alpha f(x)\\mathrm{d}x = 0;$\n",
        "\n",
        " 3. for any $\\alpha\\in\\mathbb{R}$, we have that\n",
        "$\n",
        " \\displaystyle \\int_{-\\alpha}^\\alpha g(x)\\mathrm{d}x = 2\\int_0^\\alpha g(x)\\mathrm{d}x;\n",
        "$\n",
        "\n",
        " 4. the functions $h(x)=f(x)g(x)$, $h_1(x)=f(x)f_1(x)$ and $h_2(x)=g(x)g_1(x)$ are odd, even and even, respectively.\n"
      ]
    }
  ]
}
