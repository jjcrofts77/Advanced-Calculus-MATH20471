{
  "nbformat": 4,
  "nbformat_minor": 0,
  "metadata": {
    "colab": {
      "name": "Functions.ipynb",
      "provenance": [],
      "include_colab_link": true
    },
    "kernelspec": {
      "name": "python3",
      "display_name": "Python 3"
    },
    "language_info": {
      "name": "python"
    }
  },
  "cells": [
    {
      "cell_type": "markdown",
      "metadata": {
        "id": "view-in-github",
        "colab_type": "text"
      },
      "source": [
        "<a href=\"https://colab.research.google.com/github/jjcrofts77/Advanced-Calculus-MATH20471/blob/main/content/notebooks/Part1/Chapter2/Functions.ipynb\" target=\"_parent\"><img src=\"https://colab.research.google.com/assets/colab-badge.svg\" alt=\"Open In Colab\"/></a>"
      ]
    },
    {
      "cell_type": "markdown",
      "metadata": {
        "id": "eXRLj0zz0vwZ"
      },
      "source": [
        "# 2.1 Periodic, Even and Odd Functions\n",
        "\n",
        "We start this section by reminding ourselves what it means for a function to be *periodic* as well as reviewing some of the most important properties of such functions.\n",
        "\n",
        "<br>\n",
        "\n",
        ">**Definition 2.1.1** We say that $f$ is a *periodic function* if there exists an $a>0$ such that\n",
        ">\n",
        ">$$\n",
        " f(x+a) = f(x), \\quad \\forall x \\in\\mathbb{R}.\n",
        "$$\n",
        ">\n",
        ">If this is the case then $a$ is called a *period* for $f$. Note that the period is not unique, but if there is a smallest such $a$, it is called the *prime period* of $f$.\n",
        "\n",
        "<br>\n",
        "\n",
        "The following points should be clear from the above definitions.\n",
        "\n",
        "\n",
        "1. Observe that this means that $f(x) = c$ for some constant $c$ does not have a prime period.\n",
        "2. Examples of periodic functions are $\\sin{x}$ with prime period $2\\pi$ and $\\cos(2\\pi x/a)$ with \n",
        "prime period $a$. Examples of non-periodic functions are $x$ and $x^2$.\n",
        "3. Observe that if $f$ is defined on the half-open interval $(\\alpha, \\alpha+a]$ we can extend it \n",
        "to be a periodic function by demanding it is periodic with period $a$. This is called a *periodic extension*.\n",
        "\n",
        "In order to solve certain PDEs it will be useful to consider the periodic extension of a function. (This will allow us to use the methods of FS to solve obtain series solutions of PDEs.)\n",
        "\n",
        "<br>\n",
        "\n",
        ">**Definition 2.1.2**\n",
        "Formally, we define the *periodic extension*, $F$, of $f$ as follows: given $x\\in\\mathbb{R}$ there exists a unique integer $m$ \n",
        "such that $x-ma\\in(\\alpha, \\alpha+a]$. If we then set $F(x) = f(x-ma)$, we can see that $F$ is periodic with period $a$.\n",
        "\n",
        "<br>\n",
        "\n",
        "## Properties of periodic functions\n",
        "If $f, g$ are periodic functions with period $a$, then:\n",
        " 1. $f, g$ are also periodic functions with period $na$ for any $n\\in \\mathbb{N}$;\n",
        " 2. for any $\\alpha, \\beta \\in \\mathbb{R}$, $\\alpha f + \\beta g$ is periodic with period $a$;\n",
        " 3. $fg$ is periodic with period $a$;\n",
        " 4. for any $\\lambda>0$, $f(\\lambda x)$ is periodic with period $a/\\lambda$,\n",
        " \n",
        "$$\n",
        "  f(\\lambda(x+a/\\lambda)) = f(\\lambda x+a) = f(\\lambda x);\n",
        "$$\n",
        " 5. for any $\\alpha\\in\\mathbb{R}$,\n",
        "\n",
        "$$\n",
        " \\int_0^a f(x)\\mathrm{d}x = \\int_\\alpha^{\\alpha+a}f(x)\\mathrm{d}x.\n",
        "$$\n",
        "\n",
        "\n",
        "## Odd and even functions\n",
        "\n",
        ">**Definition 2.1.3:**\n",
        "A function $f:\\mathbb{R}\\rightarrow\\mathbb{R}$ is said to be *odd* if\n",
        ">\n",
        ">$$\n",
        " f(x) = -f(-x), \\qquad \\forall x\\in\\mathbb{R}.\n",
        "$$\n",
        "\n",
        "For example, $\\sin(\\lambda x)$ for $\\lambda\\in\\mathbb{R}$ and $x^{2n+1}$ for $n\\in\\mathbb{N}$ are both odd functions.\n",
        "\n",
        "<br>\n",
        "\n",
        ">**Definition 2.1.4:**\n",
        "A function $g:\\mathbb{R}\\rightarrow\\mathbb{R}$ is said to be *even* if\n",
        ">\n",
        ">$$\n",
        " g(x) = g(-x), \\qquad \\forall x\\in\\mathbb{R}.\n",
        "$$\n",
        "\n",
        "Examples of even functions are $\\cos(\\lambda x)$ for $\\lambda\\in\\mathbb{R}$ and $x^{2n}$ for $n\\in\\mathbb{N}$.\n",
        "\n",
        "\n",
        "## Properties of odd and even functions\n",
        "\n",
        "If $f, f_1$ are odd functions and $g, g_1$ are even functions then: \n",
        "\n",
        " 1. $f(0)=0$ because $f(0)=-f(-0)=-f(0)$;\n",
        " 2. for any $\\alpha\\in\\mathbb{R}$, we have that \n",
        " $\\displaystyle \\int_{-\\alpha}^\\alpha f(x)\\mathrm{d}x = 0;$\n",
        "\n",
        " 3. for any $\\alpha\\in\\mathbb{R}$, we have that\n",
        "$\n",
        " \\displaystyle \\int_{-\\alpha}^\\alpha g(x)\\mathrm{d}x = 2\\int_0^\\alpha g(x)\\mathrm{d}x;\n",
        "$\n",
        "\n",
        " 4. the functions $h(x)=f(x)g(x)$, $h_1(x)=f(x)f_1(x)$ and $h_2(x)=g(x)g_1(x)$ are odd, even and even, respectively.\n"
      ]
    },
    {
      "cell_type": "code",
      "metadata": {
        "colab": {
          "base_uri": "https://localhost:8080/",
          "height": 245
        },
        "id": "UT-EIThtOOzp",
        "outputId": "80a33552-ff7a-4a76-d71c-db991fd2c42c"
      },
      "source": [
        "# import IPython.display.HTML class, because this example will use html to embed a local video file to display, so need the HTML class.\n",
        "from IPython.display import HTML\n",
        "# import base64.b64encode, the video file need to be encoded with base64 encoding.\n",
        "from base64 import b64encode\n",
        "# open local mp4 video file with read permission, rb means read binary file. \n",
        "file = open(\"../../../Videos/PeriodicFunctions.mp4\", \"rb\")\n",
        "# read the file content to video variable.\n",
        "video_data = file.read()\n",
        "# encode the video content with base64 encoding format.\n",
        "video_data_encoded = b64encode(video_data)\n",
        "# create embedded video html tag text. use base64 encoded video data to replace the {0} placeholder.\n",
        "video_html_tag_text = '<video controls alt=\"display local video in jupyter notebook\" src=\"data:video/x-m4v;base64,{0}\">'.format(video_data_encoded)\n",
        "# create a IPython.display.HTML object to display above embedded video html tag. \n",
        "html = HTML(data=video_html_tag_text)\n",
        "# display html object in jupyter notebook\n",
        "html"
      ],
      "execution_count": 13,
      "outputs": [
        {
          "output_type": "error",
          "ename": "FileNotFoundError",
          "evalue": "ignored",
          "traceback": [
            "\u001b[0;31m---------------------------------------------------------------------------\u001b[0m",
            "\u001b[0;31mFileNotFoundError\u001b[0m                         Traceback (most recent call last)",
            "\u001b[0;32m<ipython-input-13-4499c71d0f2c>\u001b[0m in \u001b[0;36m<module>\u001b[0;34m()\u001b[0m\n\u001b[1;32m      4\u001b[0m \u001b[0;32mfrom\u001b[0m \u001b[0mbase64\u001b[0m \u001b[0;32mimport\u001b[0m \u001b[0mb64encode\u001b[0m\u001b[0;34m\u001b[0m\u001b[0;34m\u001b[0m\u001b[0m\n\u001b[1;32m      5\u001b[0m \u001b[0;31m# open local mp4 video file with read permission, rb means read binary file.\u001b[0m\u001b[0;34m\u001b[0m\u001b[0;34m\u001b[0m\u001b[0;34m\u001b[0m\u001b[0m\n\u001b[0;32m----> 6\u001b[0;31m \u001b[0mfile\u001b[0m \u001b[0;34m=\u001b[0m \u001b[0mopen\u001b[0m\u001b[0;34m(\u001b[0m\u001b[0;34m\"../../../Videos/PeriodicFunctions.mp4\"\u001b[0m\u001b[0;34m,\u001b[0m \u001b[0;34m\"rb\"\u001b[0m\u001b[0;34m)\u001b[0m\u001b[0;34m\u001b[0m\u001b[0;34m\u001b[0m\u001b[0m\n\u001b[0m\u001b[1;32m      7\u001b[0m \u001b[0;31m# read the file content to video variable.\u001b[0m\u001b[0;34m\u001b[0m\u001b[0;34m\u001b[0m\u001b[0;34m\u001b[0m\u001b[0m\n\u001b[1;32m      8\u001b[0m \u001b[0mvideo_data\u001b[0m \u001b[0;34m=\u001b[0m \u001b[0mfile\u001b[0m\u001b[0;34m.\u001b[0m\u001b[0mread\u001b[0m\u001b[0;34m(\u001b[0m\u001b[0;34m)\u001b[0m\u001b[0;34m\u001b[0m\u001b[0;34m\u001b[0m\u001b[0m\n",
            "\u001b[0;31mFileNotFoundError\u001b[0m: [Errno 2] No such file or directory: '../../../Videos/PeriodicFunctions.mp4'"
          ]
        }
      ]
    }
  ]
}