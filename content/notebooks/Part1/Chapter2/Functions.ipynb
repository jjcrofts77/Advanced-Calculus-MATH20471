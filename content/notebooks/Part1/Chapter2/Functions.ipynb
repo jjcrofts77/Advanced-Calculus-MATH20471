{
  "nbformat": 4,
  "nbformat_minor": 0,
  "metadata": {
    "colab": {
      "name": "Functions.ipynb",
      "provenance": [],
      "include_colab_link": true
    },
    "kernelspec": {
      "name": "python3",
      "display_name": "Python 3"
    },
    "language_info": {
      "name": "python"
    }
  },
  "cells": [
    {
      "cell_type": "markdown",
      "metadata": {
        "id": "view-in-github",
        "colab_type": "text"
      },
      "source": [
        "<a href=\"https://colab.research.google.com/github/jjcrofts77/Advanced-Calculus-MATH20471/blob/main/content/notebooks/Part1/Chapter2/Functions.ipynb\" target=\"_parent\"><img src=\"https://colab.research.google.com/assets/colab-badge.svg\" alt=\"Open In Colab\"/></a>"
      ]
    },
    {
      "cell_type": "markdown",
      "metadata": {
        "id": "eXRLj0zz0vwZ"
      },
      "source": [
        "# 2.1 Periodic, Even and Odd Functions\n",
        "\n",
        "We start this section by reminding ourselves what it means for a function to be *periodic* as well as reviewing some of the most important properties of such functions.\n",
        "\n",
        "<br>\n",
        "\n",
        ">**Definition 2.1.1** We say that $f$ is a *periodic function* if there exists an $a>0$ such that\n",
        ">\n",
        ">$$\n",
        " f(x+a) = f(x), \\quad \\forall x \\in\\mathbb{R}.\n",
        "$$\n",
        ">\n",
        ">If this is the case then $a$ is called a *period* for $f$. Note that the period is not unique, but if there is a smallest such $a$, it is called the *prime period* of $f$.\n",
        "\n",
        "<br>\n",
        "\n",
        "Some examples of periodic functions are shown below."
      ]
    },
    {
      "cell_type": "code",
      "metadata": {
        "colab": {
          "base_uri": "https://localhost:8080/",
          "height": 261,
          "resources": {
            "http://localhost:8080/_static/videos/PeriodicFunctions.mp4": {
              "data": "CjwhRE9DVFlQRSBodG1sPgo8aHRtbCBsYW5nPWVuPgogIDxtZXRhIGNoYXJzZXQ9dXRmLTg+CiAgPG1ldGEgbmFtZT12aWV3cG9ydCBjb250ZW50PSJpbml0aWFsLXNjYWxlPTEsIG1pbmltdW0tc2NhbGU9MSwgd2lkdGg9ZGV2aWNlLXdpZHRoIj4KICA8dGl0bGU+RXJyb3IgNDA0IChOb3QgRm91bmQpISExPC90aXRsZT4KICA8c3R5bGU+CiAgICAqe21hcmdpbjowO3BhZGRpbmc6MH1odG1sLGNvZGV7Zm9udDoxNXB4LzIycHggYXJpYWwsc2Fucy1zZXJpZn1odG1se2JhY2tncm91bmQ6I2ZmZjtjb2xvcjojMjIyO3BhZGRpbmc6MTVweH1ib2R5e21hcmdpbjo3JSBhdXRvIDA7bWF4LXdpZHRoOjM5MHB4O21pbi1oZWlnaHQ6MTgwcHg7cGFkZGluZzozMHB4IDAgMTVweH0qID4gYm9keXtiYWNrZ3JvdW5kOnVybCgvL3d3dy5nb29nbGUuY29tL2ltYWdlcy9lcnJvcnMvcm9ib3QucG5nKSAxMDAlIDVweCBuby1yZXBlYXQ7cGFkZGluZy1yaWdodDoyMDVweH1we21hcmdpbjoxMXB4IDAgMjJweDtvdmVyZmxvdzpoaWRkZW59aW5ze2NvbG9yOiM3Nzc7dGV4dC1kZWNvcmF0aW9uOm5vbmV9YSBpbWd7Ym9yZGVyOjB9QG1lZGlhIHNjcmVlbiBhbmQgKG1heC13aWR0aDo3NzJweCl7Ym9keXtiYWNrZ3JvdW5kOm5vbmU7bWFyZ2luLXRvcDowO21heC13aWR0aDpub25lO3BhZGRpbmctcmlnaHQ6MH19I2xvZ297YmFja2dyb3VuZDp1cmwoLy93d3cuZ29vZ2xlLmNvbS9pbWFnZXMvbG9nb3MvZXJyb3JwYWdlL2Vycm9yX2xvZ28tMTUweDU0LnBuZykgbm8tcmVwZWF0O21hcmdpbi1sZWZ0Oi01cHh9QG1lZGlhIG9ubHkgc2NyZWVuIGFuZCAobWluLXJlc29sdXRpb246MTkyZHBpKXsjbG9nb3tiYWNrZ3JvdW5kOnVybCgvL3d3dy5nb29nbGUuY29tL2ltYWdlcy9sb2dvcy9lcnJvcnBhZ2UvZXJyb3JfbG9nby0xNTB4NTQtMngucG5nKSBuby1yZXBlYXQgMCUgMCUvMTAwJSAxMDAlOy1tb3otYm9yZGVyLWltYWdlOnVybCgvL3d3dy5nb29nbGUuY29tL2ltYWdlcy9sb2dvcy9lcnJvcnBhZ2UvZXJyb3JfbG9nby0xNTB4NTQtMngucG5nKSAwfX1AbWVkaWEgb25seSBzY3JlZW4gYW5kICgtd2Via2l0LW1pbi1kZXZpY2UtcGl4ZWwtcmF0aW86Mil7I2xvZ297YmFja2dyb3VuZDp1cmwoLy93d3cuZ29vZ2xlLmNvbS9pbWFnZXMvbG9nb3MvZXJyb3JwYWdlL2Vycm9yX2xvZ28tMTUweDU0LTJ4LnBuZykgbm8tcmVwZWF0Oy13ZWJraXQtYmFja2dyb3VuZC1zaXplOjEwMCUgMTAwJX19I2xvZ297ZGlzcGxheTppbmxpbmUtYmxvY2s7aGVpZ2h0OjU0cHg7d2lkdGg6MTUwcHh9CiAgPC9zdHlsZT4KICA8YSBocmVmPS8vd3d3Lmdvb2dsZS5jb20vPjxzcGFuIGlkPWxvZ28gYXJpYS1sYWJlbD1Hb29nbGU+PC9zcGFuPjwvYT4KICA8cD48Yj40MDQuPC9iPiA8aW5zPlRoYXTigJlzIGFuIGVycm9yLjwvaW5zPgogIDxwPiAgPGlucz5UaGF04oCZcyBhbGwgd2Uga25vdy48L2lucz4K",
              "ok": false,
              "headers": [
                [
                  "content-length",
                  "1449"
                ],
                [
                  "content-type",
                  "text/html; charset=utf-8"
                ]
              ],
              "status": 404,
              "status_text": ""
            }
          }
        },
        "tags": [
          "hide-input"
        ],
        "id": "QhPzheOgmkM1",
        "outputId": "f8dc5681-26dd-4793-d8ce-508eef4aeb85"
      },
      "source": [
        "from IPython.display import HTML\n",
        "#HTML('<iframe width=\"560\" height=\"315\" src=\"https://user-images.githubusercontent.com/90452278/137192140-38c0aad9-3741-45f7-8f66-c174fcb2778f.mp4\" title=\"Periodic Functions\" frameborder=\"0\" allow=\"accelerometer; autoplay; clipboard-write; encrypted-media; gyroscope; picture-in-picture\" allowfullscreen></iframe>')\n",
        "HTML(\"\"\"\n",
        "    <video width=\"320\" height=\"240\" controls>\n",
        "        <source src=\"../../../../_static/videos/PeriodicFunctions.mp4\" type=\"video/mp4\">\n",
        "    </video>\n",
        "\"\"\")"
      ],
      "execution_count": 3,
      "outputs": [
        {
          "output_type": "execute_result",
          "data": {
            "text/plain": [
              "<IPython.core.display.HTML object>"
            ],
            "text/html": [
              "\n",
              "    <video width=\"320\" height=\"240\" controls>\n",
              "        <source src=\"../../../../_static/videos/PeriodicFunctions.mp4\" type=\"video/mp4\">\n",
              "    </video>\n"
            ]
          },
          "metadata": {},
          "execution_count": 3
        }
      ]
    },
    {
      "cell_type": "markdown",
      "metadata": {
        "id": "_sj_PSC2msRt"
      },
      "source": [
        "<br>\n",
        "\n",
        "The following points should be clear from the above definitions.\n",
        "\n",
        "\n",
        "1. Observe that this means that $f(x) = c$ for some constant $c$ does not have a prime period.\n",
        "2. Examples of periodic functions are $\\sin{x}$ with prime period $2\\pi$ and $\\cos(2\\pi x/a)$ with \n",
        "prime period $a$. Examples of non-periodic functions are $x$ and $x^2$.\n",
        "3. Observe that if $f$ is defined on the half-open interval $(\\alpha, \\alpha+a]$ we can extend it \n",
        "to be a periodic function by demanding it is periodic with period $a$. This is called a *periodic extension*.\n",
        "\n",
        "In order to solve certain PDEs it will be useful to consider the periodic extension of a function. (This will allow us to use the methods of FS to solve obtain series solutions of PDEs.)\n",
        "\n",
        "<br>\n",
        "\n",
        ">**Definition 2.1.2**\n",
        "Formally, we define the *periodic extension*, $F$, of $f$ as follows: given $x\\in\\mathbb{R}$ there exists a unique integer $m$ \n",
        "such that $x-ma\\in(\\alpha, \\alpha+a]$. If we then set $F(x) = f(x-ma)$, we can see that $F$ is periodic with period $a$.\n",
        "\n",
        "<br>\n",
        "\n",
        "## Properties of periodic functions\n",
        "If $f, g$ are periodic functions with period $a$, then:\n",
        " 1. $f, g$ are also periodic functions with period $na$ for any $n\\in \\mathbb{N}$;\n",
        " 2. for any $\\alpha, \\beta \\in \\mathbb{R}$, $\\alpha f + \\beta g$ is periodic with period $a$;\n",
        " 3. $fg$ is periodic with period $a$;\n",
        " 4. for any $\\lambda>0$, $f(\\lambda x)$ is periodic with period $\\displaystyle T=\\frac{a}{\\lambda}$, that is $\\displaystyle\n",
        "  f(\\lambda(x+a/\\lambda)) = f(\\lambda x+a) = f(\\lambda x);\n",
        " $\n",
        " 5. for any $\\alpha\\in\\mathbb{R}$,\n",
        " \n",
        " $$\n",
        " \\int_0^a f(x)\\mathrm{d}x = \\int_\\alpha^{\\alpha+a}f(x)\\mathrm{d}x.\n",
        " $$\n",
        "\n",
        "<br>\n",
        "\n",
        "## Odd and even functions\n",
        "\n",
        ">**Definition 2.1.3:**\n",
        "A function $f:\\mathbb{R}\\rightarrow\\mathbb{R}$ is said to be *odd* if\n",
        ">\n",
        ">$$\n",
        " f(x) = -f(-x), \\qquad \\forall x\\in\\mathbb{R}.\n",
        "$$\n",
        "\n",
        "For example, $\\sin(\\lambda x)$ for $\\lambda\\in\\mathbb{R}$ and $x^{2n+1}$ for $n\\in\\mathbb{N}$ are both odd functions.\n",
        "\n",
        "````{margin}\n",
        "```{note}\n",
        "Odd functions display rotational symmetry about the origin\n",
        "```\n",
        "````"
      ]
    },
    {
      "cell_type": "code",
      "metadata": {
        "colab": {
          "base_uri": "https://localhost:8080/",
          "height": 337
        },
        "tags": [
          "hide-input"
        ],
        "id": "Btoh8G2Oytcb",
        "outputId": "8f4a6d0a-6518-4292-d141-687aef084e33"
      },
      "source": [
        "from IPython.display import HTML\n",
        "HTML('<iframe width=\"560\" height=\"315\" src=\"https://user-images.githubusercontent.com/90452278/137276604-30191029-17de-4235-8faf-9b27921c1d0b.mp4\" title=\"Periodic Functions\" frameborder=\"0\" allow=\"accelerometer; autoplay; clipboard-write; encrypted-media; gyroscope; picture-in-picture\" allowfullscreen></iframe>')"
      ],
      "execution_count": null,
      "outputs": [
        {
          "output_type": "execute_result",
          "data": {
            "text/html": [
              "<iframe width=\"560\" height=\"315\" src=\"https://user-images.githubusercontent.com/90452278/137276604-30191029-17de-4235-8faf-9b27921c1d0b.mp4\" title=\"Periodic Functions\" frameborder=\"0\" allow=\"accelerometer; autoplay; clipboard-write; encrypted-media; gyroscope; picture-in-picture\" allowfullscreen></iframe>"
            ],
            "text/plain": [
              "<IPython.core.display.HTML object>"
            ]
          },
          "metadata": {},
          "execution_count": 5
        }
      ]
    },
    {
      "cell_type": "markdown",
      "metadata": {
        "id": "I4UT_yAsyxcS"
      },
      "source": [
        "<br>\n",
        "\n",
        ">**Definition 2.1.4:**\n",
        "A function $g:\\mathbb{R}\\rightarrow\\mathbb{R}$ is said to be *even* if\n",
        ">\n",
        ">$$\n",
        " g(x) = g(-x), \\qquad \\forall x\\in\\mathbb{R}.\n",
        "$$\n",
        "\n",
        "Examples of even functions are $\\cos(\\lambda x)$ for $\\lambda\\in\\mathbb{R}$ and $x^{2n}$ for $n\\in\\mathbb{N}$.\n",
        "\n",
        "````{margin}\n",
        "```{note}\n",
        "Even functions display reflective symmetry about the $y$-axis\n",
        "```\n",
        "````"
      ]
    },
    {
      "cell_type": "code",
      "metadata": {
        "colab": {
          "base_uri": "https://localhost:8080/",
          "height": 337
        },
        "tags": [
          "hide-input"
        ],
        "id": "WLR-VOjHyxnw",
        "outputId": "3accb881-e685-4c33-95a0-ccfea803d9cf"
      },
      "source": [
        "from IPython.display import HTML\n",
        "HTML('<iframe width=\"560\" height=\"315\" src=\"https://user-images.githubusercontent.com/90452278/137276595-2d69b56d-1069-478a-925d-86045051de7a.mp4\" title=\"Periodic Functions\" frameborder=\"0\" allow=\"accelerometer; autoplay; clipboard-write; encrypted-media; gyroscope; picture-in-picture\" allowfullscreen></iframe>')\n"
      ],
      "execution_count": null,
      "outputs": [
        {
          "output_type": "execute_result",
          "data": {
            "text/html": [
              "<iframe width=\"560\" height=\"315\" src=\"https://user-images.githubusercontent.com/90452278/137276595-2d69b56d-1069-478a-925d-86045051de7a.mp4\" title=\"Periodic Functions\" frameborder=\"0\" allow=\"accelerometer; autoplay; clipboard-write; encrypted-media; gyroscope; picture-in-picture\" allowfullscreen></iframe>"
            ],
            "text/plain": [
              "<IPython.core.display.HTML object>"
            ]
          },
          "metadata": {},
          "execution_count": 6
        }
      ]
    },
    {
      "cell_type": "markdown",
      "metadata": {
        "id": "1bJiopisyyk0"
      },
      "source": [
        "## Properties of odd and even functions\n",
        "\n",
        "If $f, f_1$ are odd functions and $g, g_1$ are even functions then: \n",
        "\n",
        " 1. $f(0)=0$ because $f(0)=-f(-0)=-f(0)$;\n",
        " 2. for any $\\alpha\\in\\mathbb{R}$, we have that \n",
        " $\\displaystyle \\int_{-\\alpha}^\\alpha f(x)\\mathrm{d}x = 0;$\n",
        "\n",
        " 3. for any $\\alpha\\in\\mathbb{R}$, we have that\n",
        "$\n",
        " \\displaystyle \\int_{-\\alpha}^\\alpha g(x)\\mathrm{d}x = 2\\int_0^\\alpha g(x)\\mathrm{d}x;\n",
        "$\n",
        "\n",
        " 4. the functions $h(x)=f(x)g(x)$, $h_1(x)=f(x)f_1(x)$ and $h_2(x)=g(x)g_1(x)$ are odd, even and even, respectively.\n",
        "\n",
        "<br> \n",
        "\n",
        "Properties 2 and 3 are illustrated in the videos below."
      ]
    },
    {
      "cell_type": "code",
      "metadata": {
        "colab": {
          "base_uri": "https://localhost:8080/",
          "height": 337
        },
        "tags": [
          "hide-input"
        ],
        "id": "tb-vGQZa2XcS",
        "outputId": "92ad2dea-a78e-4e63-dc01-631b22e7a20d"
      },
      "source": [
        "from IPython.display import HTML\n",
        "HTML('<iframe width=\"560\" height=\"315\" src=\"https://user-images.githubusercontent.com/90452278/137276622-8ffb16d0-0e07-4f2e-8b63-ffc208425e56.mp4\" title=\"Periodic Functions\" frameborder=\"0\" allow=\"accelerometer; autoplay; clipboard-write; encrypted-media; gyroscope; picture-in-picture\" allowfullscreen></iframe>')\n"
      ],
      "execution_count": null,
      "outputs": [
        {
          "output_type": "execute_result",
          "data": {
            "text/html": [
              "<iframe width=\"560\" height=\"315\" src=\"https://user-images.githubusercontent.com/90452278/137276622-8ffb16d0-0e07-4f2e-8b63-ffc208425e56.mp4\" title=\"Periodic Functions\" frameborder=\"0\" allow=\"accelerometer; autoplay; clipboard-write; encrypted-media; gyroscope; picture-in-picture\" allowfullscreen></iframe>"
            ],
            "text/plain": [
              "<IPython.core.display.HTML object>"
            ]
          },
          "metadata": {},
          "execution_count": 7
        }
      ]
    },
    {
      "cell_type": "code",
      "metadata": {
        "colab": {
          "base_uri": "https://localhost:8080/",
          "height": 337
        },
        "tags": [
          "hide-input"
        ],
        "id": "SK-Wl86v2Xql",
        "outputId": "5e0ba2fa-bb8c-4f87-b6fd-a6034e09410a"
      },
      "source": [
        "from IPython.display import HTML\n",
        "HTML('<iframe width=\"560\" height=\"315\" src=\"https://user-images.githubusercontent.com/90452278/137276614-4d2077a9-5722-44cf-a395-944fcf4f20ba.mp4\" title=\"Periodic Functions\" frameborder=\"0\" allow=\"accelerometer; autoplay; clipboard-write; encrypted-media; gyroscope; picture-in-picture\" allowfullscreen></iframe>')\n"
      ],
      "execution_count": null,
      "outputs": [
        {
          "output_type": "execute_result",
          "data": {
            "text/html": [
              "<iframe width=\"560\" height=\"315\" src=\"https://user-images.githubusercontent.com/90452278/137276614-4d2077a9-5722-44cf-a395-944fcf4f20ba.mp4\" title=\"Periodic Functions\" frameborder=\"0\" allow=\"accelerometer; autoplay; clipboard-write; encrypted-media; gyroscope; picture-in-picture\" allowfullscreen></iframe>"
            ],
            "text/plain": [
              "<IPython.core.display.HTML object>"
            ]
          },
          "metadata": {},
          "execution_count": 8
        }
      ]
    },
    {
      "cell_type": "markdown",
      "metadata": {
        "id": "hqokbC9O3tWF"
      },
      "source": [
        "```{note}\n",
        "We shall prove properties 2 and 3 in the seminars!\n",
        "```"
      ]
    }
  ]
}