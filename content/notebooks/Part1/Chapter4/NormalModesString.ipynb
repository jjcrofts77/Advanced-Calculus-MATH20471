{
  "nbformat": 4,
  "nbformat_minor": 0,
  "metadata": {
    "colab": {
      "name": "NormalModesString.ipynb",
      "provenance": [],
      "authorship_tag": "ABX9TyNDgr64FA6LQceQmuMCc84s",
      "include_colab_link": true
    },
    "kernelspec": {
      "name": "python3",
      "display_name": "Python 3"
    },
    "language_info": {
      "name": "python"
    }
  },
  "cells": [
    {
      "cell_type": "markdown",
      "metadata": {
        "id": "view-in-github",
        "colab_type": "text"
      },
      "source": [
        "<a href=\"https://colab.research.google.com/github/jjcrofts77/Advanced-Calculus-MATH20471/blob/main/content/notebooks/Part1/Chapter4/NormalModesString.ipynb\" target=\"_parent\"><img src=\"https://colab.research.google.com/assets/colab-badge.svg\" alt=\"Open In Colab\"/></a>"
      ]
    },
    {
      "cell_type": "markdown",
      "metadata": {
        "id": "vBvRBIOwCED9"
      },
      "source": [
        "# 4.2 Normal Modes of Vibration for a Finite String\n",
        "\n",
        "A string is stretched between $x=0$ and $x=L$ and the ends are held fixed. If the string is plucked, what notes do we hear? The question suggests that we want a solution that is periodic in time, with a period to be determined.\n",
        "\n",
        "The displacement $y(x,t)$ satisfies the wave equation \n",
        "\n",
        "$$\n",
        " \\frac{\\partial^2 y}{\\partial t^2} = c^2\\frac{\\partial^2 y}{\\partial x^2},\n",
        "$$ (wave2) \n",
        "\n",
        "with boundary conditions \n",
        "\n",
        "$$\n",
        " y(0,t) = 0 \\text{ and } y(L,t)=0 \\text{ for } t>0. \n",
        "$$ (waveBCs2)\n",
        "\n",
        "We use the separation of variables technique, *i.e.* we attempt to find some (not all) solutions of equations {eq}`wave2` and {eq}`waveBCs2` in the seperable form\n",
        "\n",
        "$$\n",
        "y(x,t) = F(x)G(t).\n",
        "$$ (wavesepsol)\n",
        "\n",
        "Substituting from {eq}`wavesepsol` to {eq}`wave2` gives\n",
        "\n",
        "$$\n",
        " \\underbrace{c^2\\frac{F''(x)}{F(x)}}_\\text{independent of $t$} = \\underbrace{\\frac{1}{G(t)}G''(t)}_\\text{independent of $x$}.\n",
        "$$\n",
        "\n",
        "Hence both sides are constant, independent of both $x$ and $t$, and we take this constant equal to $-\\omega^2$ to get \n",
        "\n",
        "$$\n",
        "F''(x) = -\\frac{\\omega^2}{c^2}F(x),\\qquad G''(t)=-\\omega^2G(t).\n",
        "$$\n",
        "\n",
        "The ODE for $F(x)$ is to be solved subject to the boundary conditions \n",
        "\n",
        "$$\n",
        " F(0) = F(L) = 0.\n",
        "$$\n",
        "\n",
        "We have\n",
        "\n",
        "$$\n",
        " F(x) = A\\sin\\left(\\frac{\\omega x}{c}\\right) + B\\sin\\left(\\frac{\\omega x}{c}\\right),\n",
        "$$\n",
        "\n",
        "where the boundary conditions at $x=0$ gives $B=0$, and the boundary condition at $x=L$ gives\n",
        "\n",
        "$$\n",
        " A\\sin\\left(\\frac{\\omega L}{c}\\right) = 0.\n",
        "$$\n",
        "\n",
        "Since we want $A\\neq 0$, otherwise $F=0$ and $y=0$, it must be that $\\sin(\\omega L/c)=0$, *i.e.* $\\omega$ must be such that $\\omega L/c = n\\pi$, where $n$ is a positive integer, and $\\omega$  must be one of the numbers\n",
        "\n",
        "$$\n",
        "\\left\\{\\frac{n\\pi c}{L}: n=1,2,3,\\ldots\\right\\}.\n",
        "$$\n",
        "\n",
        "The ODE for $G(t)$ has the solution\n",
        "\n",
        "$$\n",
        " G(t) = a_n\\cos(\\omega t) + b_n\\sin(\\omega t),\n",
        "$$\n",
        "\n",
        "and so equations {eq}`wave2` and {eq}`waveBCs2` have solutions of the form\n",
        "\n",
        "$$\n",
        " y_n(x,t) = \\sin\\left(\\frac{n\\pi x}{L}\\right)\\left[ a_n\\cos\\left(\\frac{n\\pi c t}{L}\\right) + b_n\\sin\\left(\\frac{n\\pi c t}{L}\\right)\\right], \n",
        "$$ (normalmodes)\n",
        "\n",
        "where $n=1,2,3,\\ldots$ and $a_n$ and $b_n$ are arbitrary constants. Such a solution is known as a *normal mode*.\n",
        "\n",
        "A normal mode is periodic in $t$,\n",
        "\n",
        "$$\n",
        " y(x,t+p) = y(x,t),\n",
        "$$\n",
        "\n",
        "with period \n",
        "\n",
        "$$\n",
        " p=\\frac{2\\pi}{\\omega}=\\frac{2L}{nc},\n",
        "$$\n",
        "\n",
        "and *frequency* (pitch)\n",
        "\n",
        "$$\n",
        "\\frac{1}{p} = \\frac{\\omega}{2\\pi}=\\frac{nc}{2L}.\n",
        "$$\n",
        "\n",
        "The case $n=1$ corresponds to the *fundamental frequency* $c/(2L)$, and all other normal frequencies are integer multiples of the fundamental frequency. Graphs of the first three normal modes ($\\sin(n\\pi x/L), n=1,2,3$) are shown below.\n",
        "\n",
        "\n",
        "<br>\n",
        "\n",
        "```{figure} ../../../images/Harmonic1.png\n",
        "$a_1\\sin\\left(\\pi x/L\\right)$\n",
        "```\n",
        "```{figure} ../../../images/Harmonic2.png\n",
        "$a_2\\sin\\left(2\\pi x/L\\right)$\n",
        "```\n",
        "```{figure} ../../../images/Harmonic3.png\n",
        "$a_3\\sin\\left(3\\pi x/L\\right)$\n",
        "```\n",
        "\n",
        "<br>\n",
        "\n",
        "The general solution can be written as a super-position of normal modes\n",
        "\n",
        "$$\n",
        " y(x,t) \\sum_{n=1}^\\infty \\sin\\left(\\frac{n\\pi x}{L}\\right)\\left[ a_n\\cos\\left(\\frac{n\\pi c t}{L}\\right) + b_n\\sin\\left(\\frac{n\\pi c t}{L}\\right)\\right], \n",
        "$$ (waveGenSol)\n",
        "and satisfies {eq}`wave2` and {eq}`waveBCs2`.\n",
        "\n",
        "<br>\n",
        "\n",
        "## Standing Waves Demonstration\n",
        "\n",
        "The video below demonstartes how standing waves arise on a string fixed at both ends. It also explains how harmonics are generated and how they relate to the fundamental frequency descibed above."
      ]
    },
    {
      "cell_type": "code",
      "source": [
        "from IPython.display import HTML\n",
        "HTML('<iframe width=\"560\" height=\"315\" src=\"https://www.youtube.com/embed/-gr7KmTOrx0\" title=\"YouTube video player\" frameborder=\"0\" allow=\"accelerometer; autoplay; clipboard-write; encrypted-media; gyroscope; picture-in-picture\" allowfullscreen></iframe>')\n",
        "#HTML('<iframe width=\"560\" height=\"315\" src=\"https://www.youtube.com/embed/qbOjxPCfaFk\" title=\"YouTube video player\" frameborder=\"0\" allow=\"accelerometer; autoplay; clipboard-write; encrypted-media; gyroscope; picture-in-picture\" allowfullscreen></iframe>')"
      ],
      "metadata": {            
        "colab": {
          "base_uri": "https://localhost:8080/",
          "height": 336
        },
        "id": "smIaCUr-jfAZ",
        "outputId": "72dbbcf5-9427-4955-9542-5d127c747951"
      },
      "execution_count": 1,
      "outputs": [
        {
          "output_type": "execute_result",
          "data": {
            "text/plain": [
              "<IPython.core.display.HTML object>"
            ],
            "text/html": [
              "<iframe width=\"560\" height=\"315\" src=\"https://www.youtube.com/embed/-gr7KmTOrx0\" title=\"YouTube video player\" frameborder=\"0\" allow=\"accelerometer; autoplay; clipboard-write; encrypted-media; gyroscope; picture-in-picture\" allowfullscreen></iframe>"
            ]
          },
          "metadata": {},
          "execution_count": 1
        }
      ]
    }
  ]
}
