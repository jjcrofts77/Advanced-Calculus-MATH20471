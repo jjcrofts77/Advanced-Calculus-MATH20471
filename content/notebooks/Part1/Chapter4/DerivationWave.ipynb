{
  "nbformat": 4,
  "nbformat_minor": 0,
  "metadata": {
    "colab": {
      "name": "DerivationWave.ipynb",
      "provenance": [],
      "authorship_tag": "ABX9TyPmDQi3KsvQhT4FW7TkK6Sn",
      "include_colab_link": true
    },
    "kernelspec": {
      "name": "python3",
      "display_name": "Python 3"
    },
    "language_info": {
      "name": "python"
    }
  },
  "cells": [
    {
      "cell_type": "markdown",
      "metadata": {
        "id": "view-in-github",
        "colab_type": "text"
      },
      "source": [
        "<a href=\"https://colab.research.google.com/github/jjcrofts77/Advanced-Calculus-MATH20471/blob/main/content/notebooks/Part1/Chapter4/DerivationWave.ipynb\" target=\"_parent\"><img src=\"https://colab.research.google.com/assets/colab-badge.svg\" alt=\"Open In Colab\"/></a>"
      ]
    },
    {
      "cell_type": "markdown",
      "metadata": {
        "id": "d_6fVDsHAOzj"
      },
      "source": [
        "# 4.1 Derivation in One Space Dimension (optional)\n",
        "\n",
        "Our derivation will depend upon a number of modelling assumptions. The string of length $L$ will be of uniform mass density and fixed rigidly at both ends as in Figure \\ref{fig:string}(a). The vertical displacement ($y(x, t)$) will be small compared to $L$. We will also neglect stretching and bending of the string; meaning energy losses associated with dampening in the distortion of the string are neglected. Other external forces such as gravity will also be ignored.\n",
        "\n",
        "Consider a segment of string from $x$ to $x +\\Delta{x}$ as in Figure \\ref{fig:string}(b). The Tension $T$ is always tangential to the string. Breaking this vector into its horizontal and vertical components we have\n",
        "\n",
        "$$\n",
        " T_y = -T\\sin{\\theta},\\\\\n",
        " T_x = -T\\cos{\\theta},\n",
        "$$ (tension)\n",
        "\n",
        "where $\\theta$ is the angular displacement from the horizontal. The horizontal component $T_x$ can be neglected since every point on the string has another tension vector in the opposite direction. The slope of the string at any point $x$ can be described as $\\partial{y}/\\partial{x}=\\tan{\\theta}$ (Figure \\ref{fig:tension}(a)). Additionally, since $y(x,t)$ is small compared to $L$, $\\cos{\\theta}\\approx 1$ so $\\tan{\\theta} \\approx \\sin{\\theta}$. \n",
        "\n",
        "Using these facts along with Equation {eq}`tension` gives \n",
        "\n",
        "$$\n",
        " T_y = -T\\frac{\\partial{y}}{\\partial{x}}(x,t).\n",
        "\\end{equation}\n",
        "$$\n",
        "\n",
        "From Figure \\ref{fig:tension}(b), the vertical component of the tension at $x+\\Delta{x}$ is approximately\n",
        "\n",
        "$$\n",
        " T\\frac{\\partial{y}}{\\partial{x}}(x+\\Delta{x}, t).\n",
        "$$\n",
        "\n",
        "It follows that the total force in the vertical direction is approximately given by\n",
        "\n",
        "$$\n",
        "F\\approx T\\left(\\frac{\\partial{y}}{\\partial{x}}(x+\\Delta{x},t) -\n",
        "\\frac{\\partial{y}}{\\partial{x}}(x,t)\\right).\n",
        "$$\n",
        "\n",
        "Denoting the vertical acceleration by $\\partial^2y/\\partial t^2$ and the mass per unit length by $\\rho$, we may use Newton's $2^{\\mathrm{nd}}$ law\n",
        "($f=ma$) to obtain\n",
        "\n",
        "$$\n",
        " T\\left(\\frac{\\partial{y}}{\\partial{x}}(x+\\Delta{x},t) -\n",
        "\\frac{\\partial{y}}{\\partial{x}}(x,t)\\right) =\n",
        "\\rho\\Delta{x}\\frac{\\partial^2y}{\\partial{t}^2}.\n",
        "$$\n",
        "\n",
        "Now, we can divide both sides by $\\Delta{x}$ and take the limit as $\\Delta{x}$ approaches zero\n",
        "\n",
        "$$ \n",
        " \\rho\\frac{\\partial^2y}{\\partial t^2} = T\\lim_{\\Delta{x}\\to\n",
        "0}\\frac{1}{\\Delta{x}}\\left(\\frac{\\partial y}{\\partial x}(x+\\Delta{x},t) -\n",
        "\\frac{\\partial y}{\\partial x}(x, t)\\right).\n",
        "$$ (wave_deriv)\n",
        "\n",
        "From the definition of the derivative we have\n",
        "\n",
        "$$ \n",
        " \\lim_{\\Delta{x}\\to 0}\\frac{\\left(\\frac{\\partial y}{\\partial x}(x+\\Delta{x},t) -\n",
        "\\frac{\\partial y}{\\partial x}(x, t)\\right)}{\\Delta{x}} =\n",
        "\\frac{\\partial^2y}{\\partial x^2}\n",
        "$$ (deriv)\n",
        "and, combining this with {eqn}`wave_deriv` ( and setting $c^2=T/\\rho$) results in the famous wave equation as defined by D'Alembert\n",
        "\n",
        "$$ \n",
        " \\frac{\\partial^2y}{\\partial t^2} = c^2\\frac{\\partial^2y}{\\partial\n",
        "x^2}.\n",
        "$$ (wave)\n",
        "\n",
        "In the case of the string, the boundary conditions for {eqn}`wave` are given by \n",
        "\n",
        "$$\n",
        " y(0,t)=0 \\qquad \\mathrm{and} \\qquad y(L,t)=0, \\quad t\\geq 0,\n",
        "$$\n",
        "\n",
        "whilst the initial condition (or displacement of the string) is given by $y(x,0) = f(x)$. \n",
        "\n",
        "<br>\n",
        "\n",
        "**Remark** Equation {eqn}`wave` is the $1$-dimensional wave equation. However, we can define the multi-dimensional wave equation similarly:\n",
        "\n",
        "$$\n",
        " \\frac{\\partial^2y}{\\partial t^2} = c^2\\Delta{y}.\n",
        "$$\n",
        "\n",
        "Where $\\Delta{y} = \\nabla^2y = \\nabla\\cdot\\nabla{y}$ is the Laplace operator."
      ]
    }
  ]
}