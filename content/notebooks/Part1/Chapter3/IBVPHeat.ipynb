{
  "nbformat": 4,
  "nbformat_minor": 0,
  "metadata": {
    "colab": {
      "name": "IBVPHeat.ipynb",
      "provenance": [],
      "authorship_tag": "ABX9TyMh54Ay6CFi5gFSI07Vw1EW",
      "include_colab_link": true
    },
    "kernelspec": {
      "name": "python3",
      "display_name": "Python 3"
    },
    "language_info": {
      "name": "python"
    }
  },
  "cells": [
    {
      "cell_type": "markdown",
      "metadata": {
        "id": "view-in-github",
        "colab_type": "text"
      },
      "source": [
        "<a href=\"https://colab.research.google.com/github/jjcrofts77/Advanced-Calculus-MATH20471/blob/main/content/notebooks/Part1/Chapter3/IBVPHeat.ipynb\" target=\"_parent\"><img src=\"https://colab.research.google.com/assets/colab-badge.svg\" alt=\"Open In Colab\"/></a>"
      ]
    },
    {
      "cell_type": "markdown",
      "metadata": {
        "id": "T7nMrdV_4AuP"
      },
      "source": [
        "# 3.3 Initial and Boundary Value Problem\n",
        "\n",
        "We now consider finding the solution of the heat equation \n",
        "\n",
        "$$\n",
        " \\frac{\\partial T}{\\partial t} = \\kappa\\frac{\\partial^2 T}{\\partial x^2}, \\quad 0<x<L, t>0,\n",
        "$$\n",
        "\n",
        "subject to the initial condition \n",
        "\n",
        "$$\n",
        " T(x,0) = f(x), \\quad 0<x<L,\n",
        "$$\n",
        "\n",
        "and the boundary conditions\n",
        "\n",
        "$$\n",
        " T(0,t) = 0 \\text{ and } T(L,t)=0 \\text{ for } t>0.\n",
        "$$\n",
        "\n",
        "In view of our proceeding discussion we look for a solution as an infinite sum\n",
        "\n",
        "$$\n",
        " T(x,t) = \\sum_{n=1}^\\infty a_n\\sin\\left(\\frac{n\\pi x}{L}\\right)e^{-n^2\\pi^2\\kappa t/L^2}.\n",
        "$$ (heatsol)\n",
        "\n",
        "<br>\n",
        "\n",
        "**Example 3.3.1** Solve the IBVP for the case\n",
        "\n",
        "$$\n",
        " T(x,0) = \\sin\\left(\\frac{\\pi x}{L}\\right) + \\frac{1}{2}\\sin\\left(\\frac{2\\pi x}{L}\\right) = f(x), \\quad 0 \\leq x \\leq L.\n",
        "$$\n",
        "\n",
        "From equation {eq}`heatsol` we see that\n",
        "\n",
        "$$\n",
        " T(x,0) = \\sum_{n=1}^\\infty a_n\\sin\\left(\\frac{n\\pi x}{L}\\right).\n",
        "$$\n",
        "\n",
        "Comparing terms we see that $a_1=1, a_2=1/2$ and $a_n=0$ $(n\\geq 3)$ so that the solution is\n",
        "\n",
        "$$\n",
        " T(x,t) = \\sin\\left(\\frac{\\pi x}{L}\\right)e^{-\\pi^2\\kappa t/L^2} +\\frac{1}{2}\\sin\\left(\\frac{2\\pi x}{L}\\right)e^{-4\\pi^2 \\kappa t/L^2}.\n",
        "$$\n",
        "\n",
        "The initial condition and solution is shown in the figures below.\n",
        "\n",
        "<br>\n",
        "\n",
        "`````{grid}\n",
        ":gutter: 2\n",
        "\n",
        "````{grid-item-card}\n",
        "```{figure} ../../../images/HeatICExample31.png\n",
        "Initial condition\n",
        "```\n",
        "````\n",
        "\n",
        "````{grid-item-card}\n",
        "```{figure} ../../../images/HeatExample31.png\n",
        "Solution of Example 3.3.1 with $L = \\pi$ and $\\kappa = 1$\n",
        "```\n",
        "````\n",
        "\n",
        "`````\n",
        "\n",
        "Below we further illustrate how the tempertaure profile of the problem in Example 3.3.1 behaves as a function of time. Click on the tab to view the python code that creates the movie."
      ]
    },
    {
      "cell_type": "code",
      "metadata": {
        "id": "B_MT_OWK7SAM"
      },
      "source": [
        "# plot an animation of the solution T(x,t) with L = pi and kappa = 0.25\n",
        "import numpy as np\n",
        "import matplotlib.pyplot as plt\n",
        "\n",
        "from matplotlib import animation, rc\n",
        "from IPython.display import HTML\n",
        "\n",
        "# First set up the figure, the axis, and the plot element we want to animate\n",
        "fig, ax = plt.subplots()\n",
        "plt.close()\n",
        "\n",
        "\n",
        "ax.set_xlim(( 0, np.pi))\n",
        "ax.set_ylim((0, 1.35))\n",
        "ax.set_xlabel('x',size=12)\n",
        "ax.set_ylabel('T(x,t)',size=12)\n",
        "ax.set_title('Temp profile as a function of time for Ex 3.3.1',weight='bold',size=16)\n",
        "\n",
        "\n",
        "line, = ax.plot([], [], lw=2)\n",
        "\n",
        "# initialization function: plot the background of each frame\n",
        "def init():\n",
        "    line.set_data([], [])    \n",
        "    return (line,)\n",
        "\n",
        "# animation function. This is called sequentially  \n",
        "def animate(i):\n",
        "    L = np.pi\n",
        "    kappa = 0.1\n",
        "    x = np.linspace(0, np.pi, 1000)\n",
        "    y = np.sin(np.pi*x/L)*np.exp(-np.pi**2*kappa*(0.1*i)/L**2)+0.5*np.sin(2*np.pi*x/L)*np.exp(-4*np.pi**2*kappa*(0.1*i)/L**2)\n",
        "    line.set_data(x, y)\n",
        "    return (line,)\n",
        "  \n",
        "anim = animation.FuncAnimation(fig, animate, init_func=init,\n",
        "                             frames=150, interval=50, blit=True)\n",
        "#anim # uncomment to play animation"
      ],
      "execution_count": 5,
      "outputs": []
    },
    {
      "cell_type": "code",
      "source": [
        "# Note: below is the part which makes it work on Colab\n",
        "#rc('animation', html='jshtml')\n",
        "#anim # uncomment to play animation\n",
        "#anim.save('heateqn.mp4') # uncomment to save animation \n",
        "# display video\n",
        "from IPython.display import HTML\n",
        "\n",
        "HTML(\"\"\"\n",
        "    <video width=\"700\" height=\"600\" controls>\n",
        "        <source src=\"../../../../_static/videos/heateqn.mp4\" type=\"video/mp4\">\n",
        "    </video>\n",
        "\"\"\")"
      ],
      "metadata": {
        "colab": {
          "resources": {
            "http://localhost:8080/_static/videos/heateqn.mp4": {
              "data": "CjwhRE9DVFlQRSBodG1sPgo8aHRtbCBsYW5nPWVuPgogIDxtZXRhIGNoYXJzZXQ9dXRmLTg+CiAgPG1ldGEgbmFtZT12aWV3cG9ydCBjb250ZW50PSJpbml0aWFsLXNjYWxlPTEsIG1pbmltdW0tc2NhbGU9MSwgd2lkdGg9ZGV2aWNlLXdpZHRoIj4KICA8dGl0bGU+RXJyb3IgNDA0IChOb3QgRm91bmQpISExPC90aXRsZT4KICA8c3R5bGU+CiAgICAqe21hcmdpbjowO3BhZGRpbmc6MH1odG1sLGNvZGV7Zm9udDoxNXB4LzIycHggYXJpYWwsc2Fucy1zZXJpZn1odG1se2JhY2tncm91bmQ6I2ZmZjtjb2xvcjojMjIyO3BhZGRpbmc6MTVweH1ib2R5e21hcmdpbjo3JSBhdXRvIDA7bWF4LXdpZHRoOjM5MHB4O21pbi1oZWlnaHQ6MTgwcHg7cGFkZGluZzozMHB4IDAgMTVweH0qID4gYm9keXtiYWNrZ3JvdW5kOnVybCgvL3d3dy5nb29nbGUuY29tL2ltYWdlcy9lcnJvcnMvcm9ib3QucG5nKSAxMDAlIDVweCBuby1yZXBlYXQ7cGFkZGluZy1yaWdodDoyMDVweH1we21hcmdpbjoxMXB4IDAgMjJweDtvdmVyZmxvdzpoaWRkZW59aW5ze2NvbG9yOiM3Nzc7dGV4dC1kZWNvcmF0aW9uOm5vbmV9YSBpbWd7Ym9yZGVyOjB9QG1lZGlhIHNjcmVlbiBhbmQgKG1heC13aWR0aDo3NzJweCl7Ym9keXtiYWNrZ3JvdW5kOm5vbmU7bWFyZ2luLXRvcDowO21heC13aWR0aDpub25lO3BhZGRpbmctcmlnaHQ6MH19I2xvZ297YmFja2dyb3VuZDp1cmwoLy93d3cuZ29vZ2xlLmNvbS9pbWFnZXMvbG9nb3MvZXJyb3JwYWdlL2Vycm9yX2xvZ28tMTUweDU0LnBuZykgbm8tcmVwZWF0O21hcmdpbi1sZWZ0Oi01cHh9QG1lZGlhIG9ubHkgc2NyZWVuIGFuZCAobWluLXJlc29sdXRpb246MTkyZHBpKXsjbG9nb3tiYWNrZ3JvdW5kOnVybCgvL3d3dy5nb29nbGUuY29tL2ltYWdlcy9sb2dvcy9lcnJvcnBhZ2UvZXJyb3JfbG9nby0xNTB4NTQtMngucG5nKSBuby1yZXBlYXQgMCUgMCUvMTAwJSAxMDAlOy1tb3otYm9yZGVyLWltYWdlOnVybCgvL3d3dy5nb29nbGUuY29tL2ltYWdlcy9sb2dvcy9lcnJvcnBhZ2UvZXJyb3JfbG9nby0xNTB4NTQtMngucG5nKSAwfX1AbWVkaWEgb25seSBzY3JlZW4gYW5kICgtd2Via2l0LW1pbi1kZXZpY2UtcGl4ZWwtcmF0aW86Mil7I2xvZ297YmFja2dyb3VuZDp1cmwoLy93d3cuZ29vZ2xlLmNvbS9pbWFnZXMvbG9nb3MvZXJyb3JwYWdlL2Vycm9yX2xvZ28tMTUweDU0LTJ4LnBuZykgbm8tcmVwZWF0Oy13ZWJraXQtYmFja2dyb3VuZC1zaXplOjEwMCUgMTAwJX19I2xvZ297ZGlzcGxheTppbmxpbmUtYmxvY2s7aGVpZ2h0OjU0cHg7d2lkdGg6MTUwcHh9CiAgPC9zdHlsZT4KICA8YSBocmVmPS8vd3d3Lmdvb2dsZS5jb20vPjxzcGFuIGlkPWxvZ28gYXJpYS1sYWJlbD1Hb29nbGU+PC9zcGFuPjwvYT4KICA8cD48Yj40MDQuPC9iPiA8aW5zPlRoYXTigJlzIGFuIGVycm9yLjwvaW5zPgogIDxwPiAgPGlucz5UaGF04oCZcyBhbGwgd2Uga25vdy48L2lucz4K",
              "ok": false,
              "headers": [
                [
                  "content-length",
                  "1449"
                ],
                [
                  "content-type",
                  "text/html; charset=utf-8"
                ]
              ],
              "status": 404,
              "status_text": ""
            }
          },
          "base_uri": "https://localhost:8080/",
          "height": 621
        },
        "id": "m5k8iVhHctSK",
        "outputId": "f6e01d3d-a6e8-472a-b65c-3437cf158ccb"
      },
      "execution_count": 6,
      "outputs": [
        {
          "output_type": "execute_result",
          "data": {
            "text/plain": [
              "<IPython.core.display.HTML object>"
            ],
            "text/html": [
              "\n",
              "    <video width=\"700\" height=\"600\" controls>\n",
              "        <source src=\"../../../../_static/videos/heateqn.mp4\" type=\"video/mp4\">\n",
              "    </video>\n"
            ]
          },
          "metadata": {},
          "execution_count": 6
        }
      ]
    },
    {
      "cell_type": "markdown",
      "source": [
        "## Application of Fourier Series\n",
        "\n",
        "To solve for general initial conditions, we can use Fourier series to determine the constants $a_n$:\n",
        "\n",
        "$$\n",
        " T(x,0) = \\sum_{n=1}^\\infty a_n\\sin\\left(\\frac{n\\pi x}{L}\\right),\\quad 0\\leq x \\leq L.\n",
        "$$\n",
        "\n",
        "The question is now, given $f(x)$, can it be expanded as a Fourier sine series\n",
        "\n",
        "$$\n",
        " f(x) = \\sum_{n=1}^\\infty a_n\\sin\\left(\\frac{n\\pi x}{L}\\right), \\quad 0\\leq x\\leq L?\n",
        "$$\n",
        "\n",
        "From the lectures on Fourier series, we know that such an expansion exists if *e.g.* $f(x)$ is piecewise continuously differentiable on $[0, L]$. The coefficients $a_n$ are determined by the orthogonality relations:\n",
        "\n",
        "$$\n",
        "\\int_0^L \\sin\\left(\\frac{n\\pi x}{L}\\right)\\sin\\left(\\frac{m\\pi x}{L}\\right)\\mathrm{d}x = \\begin{cases}0&m\\neq n,\\\\\\frac{1}{2}L& m=n.\\end{cases}\n",
        "$$\n",
        "\n",
        "Thus\n",
        "\n",
        "$$\n",
        " a_n = \\frac{2}{L}\\int_0^Lf(x)\\sin\\left(\\frac{n\\pi x}{L}\\right)\\mathrm{d}x.\n",
        "$$\n",
        "\n",
        "<br>\n",
        "\n",
        "**Example 3.3.2**  Find the solution of the IBVP when\n",
        "\n",
        "$$\n",
        " f(x) = \\begin{cases}0&\\text{for $0\\leq x\\leq L_1$ and $L_2\\leq x \\leq L$,}\\\\1&\\text{for $L_1<x<L_2$.}\\end{cases}\n",
        "$$\n",
        "\n",
        "Here $f(x)$ has the Fourier sine expansion (exercise)\n",
        "\n",
        "$$\n",
        "f(x) = \\frac{2}{\\pi}\\sum_{n=1}^\\infty\\frac{1}{n}\\left[\\cos\\left(\\frac{n\\pi L_1}{L}\\right)-\\cos\\left(\\frac{n\\pi L_2}{L}\\right)\\right]\\sin\\left(\\frac{n\\pi x}{L}\\right),\n",
        "$$\n",
        "\n",
        "and the solution to the IBVP is\n",
        "\n",
        "$$\n",
        "T(x,t) = \\frac{2}{\\pi}\\sum_{n=1}^\\infty\\frac{1}{n}\\left[\\cos\\left(\\frac{n\\pi L_1}{L}\\right)-\\cos\\left(\\frac{n\\pi L_2}{L}\\right)\\right]\\sin\\left(\\frac{n\\pi x}{L}\\right)e^{-n^2\\pi^2\\kappa t/L^2}.\n",
        "$$\n",
        "\n",
        "The initial condition and solution is shown in the figures below.\n",
        "\n",
        "\n",
        "`````{grid}\n",
        ":gutter: 2\n",
        "\n",
        "````{grid-item-card}\n",
        "```{figure} ../../../images/HeatICExample32.png\n",
        "Initial condition (FS approximation with $n=1000$ terms)\n",
        "```\n",
        "````\n",
        "\n",
        "````{grid-item-card}\n",
        "```{figure} ../../../images/HeatExample32.png\n",
        "Solution of Example 3.3.2 with $L = \\pi$ and $\\kappa = 1$ truncated to $n=1000$ terms\n",
        "```\n",
        "````\n",
        "\n",
        "`````\n",
        "\n",
        "<br>\n",
        "\n",
        "Notice Gibb's phenomenon is present despite the large number of terms taken in the FS approximation."
      ],
      "metadata": {
        "id": "fiIxLjEq7SZw"
      }
    }
  ]
}