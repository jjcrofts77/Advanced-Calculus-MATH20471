{
  "nbformat": 4,
  "nbformat_minor": 0,
  "metadata": {
    "colab": {
      "name": "UniquenessHeat.ipynb",
      "provenance": [],
      "authorship_tag": "ABX9TyNsQC+AWRJsA0YO5YIfWIDr",
      "include_colab_link": true
    },
    "kernelspec": {
      "name": "python3",
      "display_name": "Python 3"
    },
    "language_info": {
      "name": "python"
    }
  },
  "cells": [
    {
      "cell_type": "markdown",
      "metadata": {
        "id": "view-in-github",
        "colab_type": "text"
      },
      "source": [
        "<a href=\"https://colab.research.google.com/github/jjcrofts77/Advanced-Calculus-MATH20471/blob/main/content/notebooks/Part1/Chapter3/UniquenessHeat.ipynb\" target=\"_parent\"><img src=\"https://colab.research.google.com/assets/colab-badge.svg\" alt=\"Open In Colab\"/></a>"
      ]
    },
    {
      "cell_type": "markdown",
      "metadata": {
        "id": "H-QA3ICF5kBD"
      },
      "source": [
        "# 3.4 Uniqueness (optional)\n",
        "\n",
        "We have constructed a solution of our IBVP, and found a formula for it as a sum of an infinite series, but is it the only solution?\n",
        "\n",
        "> **Theorem 3.4.1** The IBVP has only one solution.\n",
        "\n",
        "<br>\n",
        "\n",
        "> **Proof** \n",
        ">\n",
        ">Let $U$ be a solution of the same IBVP, *i.e.*\n",
        ">\n",
        ">$$\n",
        "\\frac{\\partial U}{\\partial t} = \\kappa\\frac{\\partial^2 U}{\\partial x^2}, \\quad 0<x<L, t>0,\n",
        "$$\n",
        ">\n",
        ">subject to the initial condition\n",
        ">\n",
        ">$$\n",
        "U(x,0)=f(x), \\quad 0\\leq x\\leq L,\n",
        "$$\n",
        ">\n",
        ">and the boundary conditions \n",
        ">\n",
        ">$$\n",
        " U(0,t)=0 \\text{ and } U(L,t)=0 \\text{ for } t>0.\n",
        "$$\n",
        ">\n",
        ">Now consider the difference $W:=U-T$. Then $W$ satisfies the IBVP\n",
        ">\n",
        ">$$\n",
        "\\frac{\\partial W}{\\partial t} = \\kappa\\frac{\\partial^2 W}{\\partial x^2}, \\quad 0<x<L, t>0,\n",
        "$$\n",
        ">\n",
        ">$$\n",
        "W(x,0)=0, \\quad 0\\leq x\\leq L,\n",
        "$$\n",
        ">\n",
        ">and the boundary conditions \n",
        ">\n",
        ">$$\n",
        "W(0,t)=0 \\text{ and } W(L,t)=0 \\text{ for } t>0.\n",
        "$$\n",
        ">\n",
        ">Let \n",
        ">\n",
        ">$$\n",
        "I(t):=\\frac{1}{2}\\int_0^L[W(x,t)]^2\\mathrm{d}x.\n",
        "$$\n",
        ">\n",
        ">Evidently $I(t)\\geq 0$ and $I(0)=0$. By Leibniz's rule,\n",
        ">\n",
        ">$$\n",
        " I'(t) &=\\int_0^LW\\frac{\\partial W}{\\partial t}\\mathrm{d}x\\\\\n",
        " &=\\kappa\\int_0^LW\\frac{\\partial^2W}{\\partial x^2}\\mathrm{d}x\\\\\n",
        " &=\\kappa\\int_0^L\\left[\\frac{\\partial}{\\partial x}\\left(W\\frac{\\partial W}{\\partial x}\\right)-\\left(\\frac{\\partial W}{\\partial x}\\right)^2\\right]\\mathrm{d}x.\n",
        "$$\n",
        ">\n",
        ">On carrying out the integration and using the boundary conditions at $x=0$ and $x=L$ we see that\n",
        ">\n",
        ">$$\n",
        "I'(t)=-\\kappa\\int_0^L\\left(\\frac{\\partial W}{\\partial x}\\right)^2\\mathrm{d}x\\leq 0,\n",
        "$$\n",
        ">\n",
        ">and, therefore, $I$ cannot increase. Hence\n",
        ">\n",
        ">$$\n",
        " 0\\leq I(t)\\leq I(0)=0,\n",
        "$$\n",
        ">\n",
        ">and $I(t)=0$ for every $t\\geq 0$. Thus\n",
        ">\n",
        ">$$\n",
        "\\int_0^L[W(x,t)]^2\\mathrm{d}x=0,\n",
        "$$\n",
        ">\n",
        ">for every $t\\geq 0$ and so $W=0$ and $U=T$, which proves the theorem. $\\quad\\blacksquare$\n"
      ]
    },
    {
      "cell_type": "code",
      "metadata": {
        "id": "Ok32FzhZ6u-Z"
      },
      "source": [
        ">$$"
      ],
      "execution_count": null,
      "outputs": []
    }
  ]
}