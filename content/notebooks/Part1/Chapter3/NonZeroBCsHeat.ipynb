{
  "nbformat": 4,
  "nbformat_minor": 0,
  "metadata": {
    "colab": {
      "name": "NonZeroBCsHeat.ipynb",
      "provenance": [],
      "authorship_tag": "ABX9TyMlpXpR5CMie5UFo57PHzoN",
      "include_colab_link": true
    },
    "kernelspec": {
      "name": "python3",
      "display_name": "Python 3"
    },
    "language_info": {
      "name": "python"
    }
  },
  "cells": [
    {
      "cell_type": "markdown",
      "metadata": {
        "id": "view-in-github",
        "colab_type": "text"
      },
      "source": [
        "<a href=\"https://colab.research.google.com/github/jjcrofts77/Advanced-Calculus-MATH20471/blob/main/content/notebooks/Part1/Chapter3/NonZeroBCsHeat.ipynb\" target=\"_parent\"><img src=\"https://colab.research.google.com/assets/colab-badge.svg\" alt=\"Open In Colab\"/></a>"
      ]
    },
    {
      "cell_type": "markdown",
      "metadata": {
        "id": "XcjIIqpr7MBq"
      },
      "source": [
        "# 3.5 Non-Zero Steady State (optional)\n",
        "\n",
        "It may be that the temperatures at the ends $x=0$ and $x=L$ are prescribed and constant but not equal to zero.\n",
        "\n",
        "```{prf:example} \n",
        ":label: example25\n",
        "\n",
        "Solve the IBVP\n",
        "\n",
        "$$\n",
        " \\frac{\\partial T}{\\partial t} = \\kappa \\frac{\\partial^2 T}{\\partial x^2},\\quad 0<x<L, t>0,\n",
        "$$\n",
        "\n",
        "subject to the initial condition\n",
        "\n",
        "$$\n",
        " T(x,0) = 0, \\quad 0\\leq x \\leq L,\n",
        "$$\n",
        "\n",
        "and the boundary conditions\n",
        "\n",
        "$$\n",
        " T(0,t) = T_0 \\text{ and } T(L,t) = T_1 \\text{ for } t>0.\n",
        "$$\n",
        "\n",
        "We cannot use separation of variables and Fourier series right at the outset. However, we conjecture that, as $t\\rightarrow \\infty, T(x,t)\\rightarrow U(x)$, where\n",
        "\n",
        "$$\n",
        " \\kappa\\frac{\\mathrm{d}^2 U}{\\mathrm{d} x^2} = 0, \\quad U(0)=T_0 \\text{ and } U(L) = T_1,\n",
        "$$\n",
        "\n",
        "*i.e.*\n",
        "\n",
        "$$\n",
        "U(x) = T_0\\left(1-\\frac{x}{L}\\right)+T_1\\left(\\frac{x}{L}\\right).\n",
        "$$\n",
        "\n",
        "If we now put $S(x,t):=T(x,t)-U(x)$, we find that $S$ is a solution to the IBVP\n",
        "\n",
        "$$\n",
        "\\frac{\\partial S}{\\partial t}=\\kappa\\frac{\\partial^2 S}{\\partial x^2}, \\quad 0<x<L, t>0,\n",
        "$$\n",
        "\n",
        "with \n",
        "\n",
        "$$\n",
        " S(0,t)=0 \\text{ and } S(L,t) = 0 \\text{for } t>0,\n",
        "$$\n",
        "\n",
        "and \n",
        "\n",
        "$$\n",
        " S(x,0) = -T_0\\left(1-\\frac{x}{L}\\right) - T_1\\left(\\frac{x}{L}\\right).\n",
        "$$\n",
        "\n",
        "In view of the form of the boundary conditions, this IBVP can be solved by our previous methods. The solution is (exercise)\n",
        "\n",
        "$$\n",
        " S(x,t) = \\frac{2}{\\pi}\\sum_{n=1}^\\infty\\frac{1}{n}\\left[-T_0+(-1)^nT_1\\right]\\sin\\left(\\frac{n\\pi x}{L}\\right)e^{-n^2\\pi^2\\kappa t/L^2},\n",
        "$$\n",
        "\n",
        "and so \n",
        "\n",
        "$$\n",
        "T(x,t) =  T_0\\left(1-\\frac{x}{L}\\right)+T_1\\left(\\frac{x}{L}\\right)+\\frac{2}{\\pi}\\sum_{n=1}^\\infty\\frac{1}{n}\\left[-T_0+(-1)^nT_1\\right]\\sin\\left(\\frac{n\\pi x}{L}\\right)e^{-n^2\\pi^2\\kappa t/L^2}.\n",
        "$$\n",
        "```\n",
        "\n",
        "Note that other more complicated boundary conditions are possible but lie outside the scope of the current course.\n"
      ]
    }
  ]
}