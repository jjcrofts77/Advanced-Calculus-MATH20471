{
  "nbformat": 4,
  "nbformat_minor": 0,
  "metadata": {
    "colab": {
      "name": "Chapter3Intro.ipynb",
      "provenance": [],
      "authorship_tag": "ABX9TyMh1b7uYpuODRN3AC0YCJTu",
      "include_colab_link": true
    },
    "kernelspec": {
      "name": "python3",
      "display_name": "Python 3"
    },
    "language_info": {
      "name": "python"
    }
  },
  "cells": [
    {
      "cell_type": "markdown",
      "metadata": {
        "id": "view-in-github",
        "colab_type": "text"
      },
      "source": [
        "<a href=\"https://colab.research.google.com/github/jjcrofts77/Advanced-Calculus-MATH20471/blob/main/content/notebooks/Part1/Chapter3Intro.ipynb\" target=\"_parent\"><img src=\"https://colab.research.google.com/assets/colab-badge.svg\" alt=\"Open In Colab\"/></a>"
      ]
    },
    {
      "cell_type": "markdown",
      "metadata": {
        "id": "39xkChnF0VpL"
      },
      "source": [
        "# Chapter 3 The Heat Equation\n",
        "\n",
        "In this chapter we shall look at the heat equation in one space dimension, learning a method for its derivation, and some techniques for solving."
      ]
    }
  ]
}