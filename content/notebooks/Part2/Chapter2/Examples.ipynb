{
  "nbformat": 4,
  "nbformat_minor": 0,
  "metadata": {
    "colab": {
      "name": "Examples.ipynb",
      "provenance": [],
      "authorship_tag": "ABX9TyPAG9oZohmZgjvCJWga9LKS",
      "include_colab_link": true
    },
    "kernelspec": {
      "name": "python3",
      "display_name": "Python 3"
    },
    "language_info": {
      "name": "python"
    }
  },
  "cells": [
    {
      "cell_type": "markdown",
      "metadata": {
        "id": "view-in-github",
        "colab_type": "text"
      },
      "source": [
        "<a href=\"https://colab.research.google.com/github/jjcrofts77/Advanced-Calculus-MATH20471/blob/main/content/notebooks/Part2/Chapter2/Examples.ipynb\" target=\"_parent\"><img src=\"https://colab.research.google.com/assets/colab-badge.svg\" alt=\"Open In Colab\"/></a>"
      ]
    },
    {
      "cell_type": "markdown",
      "source": [
        "# 2.3 Examples\n",
        "\n",
        "## Analytic functions\n",
        "\n",
        "**Example 2.3.1** Show that $f(z)=z^2$ is analytic everywhere.\n",
        "\n",
        "**Solution**\n",
        "\n",
        "$$\n",
        "f(z)=z^2=(x+iy)^2=x^2-y^2 + 2ixy\n",
        "$$\n",
        "\n",
        "<br>\n",
        "By inspection, $u(x,y)=\\mathrm{Re}(f)=x^2-y^2$ and $v(x,y)=\\mathrm{Im}(f)=2xy$ and the first derivatives are given by:\n",
        "\t\n",
        "$$\n",
        "\t\t\\frac{\\partial u}{\\partial x}= 2x,\\ \\frac{\\partial v}{\\partial x}= 2y,\\ \\frac{\\partial u}{\\partial y}= -2y,\\ \\frac{\\partial v}{\\partial y}= 2x\n",
        "$$\n",
        "\n",
        "Clearly the Cauchy-Riemann equations are satisfied and so the function is analytic. Recalling what we did above, the derivative is given by\n",
        "\t\n",
        "$$\n",
        "\t\t\\frac{\\mathrm{d} f}{\\mathrm{d} z}=\\frac{\\partial u}{\\partial x}+i\\frac{\\partial v}{\\partial x}=-\\frac{\\partial v}{\\partial y}+i\\frac{\\partial u}{\\partial y}=2x+2iy=2z.\n",
        "$$\n",
        "\n",
        "<br>\n",
        "\n",
        "**Example 2.3.2** Show that the function $f(z)=\\overline{z}$ is not analytic anywhere.\n",
        "\n",
        "**Solution**\n",
        "\n"
      ],
      "metadata": {
        "id": "N0A5AWFYkzef"
      }
    }
  ]
}