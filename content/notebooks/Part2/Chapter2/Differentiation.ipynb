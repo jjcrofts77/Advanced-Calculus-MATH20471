{
  "nbformat": 4,
  "nbformat_minor": 0,
  "metadata": {
    "colab": {
      "name": "Differentiation.ipynb",
      "provenance": [],
      "authorship_tag": "ABX9TyOseFQGKK3aAb0/HHSFuD0p",
      "include_colab_link": true
    },
    "kernelspec": {
      "name": "python3",
      "display_name": "Python 3"
    },
    "language_info": {
      "name": "python"
    }
  },
  "cells": [
    {
      "cell_type": "markdown",
      "metadata": {
        "id": "view-in-github",
        "colab_type": "text"
      },
      "source": [
        "<a href=\"https://colab.research.google.com/github/jjcrofts77/Advanced-Calculus-MATH20471/blob/main/content/notebooks/Part2/Chapter2/Differentiation.ipynb\" target=\"_parent\"><img src=\"https://colab.research.google.com/assets/colab-badge.svg\" alt=\"Open In Colab\"/></a>"
      ]
    },
    {
      "cell_type": "markdown",
      "source": [
        "# 2.1 Differentiation\n",
        "\n",
        ">**Definition 2.1.1** If $f(z)$ ($z=x+iy$) is a complex function, then $f$ is said to be differentiable at a point $z$ if:\n",
        ">\n",
        "$$\n",
        "\\lim_{\\Delta z\\to 0} \\frac{f(z+\\Delta z)-f(z)}{\\Delta z}\n",
        "$$\n",
        ">\n",
        "> exists **and** is independent of the manner that $\\Delta z$ approaches zero. \n",
        "\n",
        "Denoting the point of interest by $z_0$ (and defining $z-z_0=\\Delta z$ in the normal way), an alternative and possibly more familiar notation is:\n",
        "\n",
        "$$\n",
        "\\frac{\\mathrm{d}f}{\\mathrm{d} z}\\bigg|_{z=z_0}=\\lim_{z\\to z_0}\\frac{f(z)-f(z_0)}{z-z_0}.\n",
        "$$\n",
        "\n",
        "Given that $z$ lies in the complex plane, there are many different ways which $z$ can approach $z_0$. Again, $\\tfrac{\\mathrm{d} f}{\\mathrm{d} z}$ must be independent of these choices. We consider two separate cases:\n",
        "\n",
        "1. **$z\\rightarrow z_0$ along the line $z=x+iy_0$:**\n",
        "\n",
        "\tWe approach $z_0$ along the line $y=y_0$; *i.e.* $z\\rightarrow z_0$ implies \t$x\\rightarrow x_0$. Then, using the above definition of the derivative \n",
        "\n",
        "\t$$\n",
        "\t\\frac{\\mathrm{d} f}{\\mathrm{d} z}\\bigg|_{z=z_0}&=&\\lim_{z\\to z_0}\\frac{f(z)-f(z_0)}{z-z_0}\\\\\n",
        "\t\t\t\t\t\t\t\t&=&\\lim_{z\\to z_0}\\frac{u(x,y_0)+iv(x,y_0) - u(x_0,y_0)-iv(x_0,y_0)}{x-x_0}\\\\\n",
        "\t\t\t\t\t\t\t\t&=& \\lim_{z\\to z_0}\\frac{u(x,y_0)-u(x_0,y_0)}{x-x_0} +i\\frac{ v(x,y_0)-v(x_0,y_0)}{x-x_0}\\\\\n",
        "\t\t\t\t\t\t\t\t&=& \\frac{\\partial u}{\\partial x}+i\\frac{\\partial v}{\\partial x}\n",
        "\t$$\n",
        "\n",
        "2. **$z\\rightarrow z_0$ along the line $z=x_0+iy$:**\n",
        "\n",
        "\tWe approach $z_0$ along the line $x=x_0$; *i.e.* $z\\rightarrow z_0$ implies $y\\rightarrow y_0$. Then, using the above definition of the derivative\n",
        "\n",
        "\t$$\n",
        "\t\\frac{\\mathrm{d} f}{\\mathrm{d} z}\\bigg|_{z=z_0}&=&\\lim_{z\\to z_0}\\frac{f(z)-f(z_0)}{z-z_0}\\\\\n",
        "\t\t\t\t\t\t\t\t&=&\\lim_{z\\to z_0}\\frac{u(x_0,y)+iv(x_0,y) - u(x_0,y_0)-iv(x_0,y_0)}{i(y-y_0)}\\\\\n",
        "\t\t\t\t\t\t\t\t&=& \\lim_{z\\to z_0}-i\\frac{u(x_0,y)-u(x_0,y_0)}{y-y_0} +\\frac{ v(x_0,y)-v(x_0,y_0)}{y-y_0}\\\\\n",
        "\t\t\t\t\t\t\t\t&=& \\frac{\\partial v}{\\partial y}-i\\frac{\\partial u}{\\partial y}$$\n",
        "\n",
        "<br>\n",
        "The same method works employing the $\\Delta z\\rightarrow 0$ notation (**Recommend you do this as an exercise**).\n",
        "\n",
        "Now, comparing real and imaginary parts, we find that in order for the expressions to be equal, we must obey the ** ``Cauchy-Riemann conditions''**:\n",
        "\n",
        "$$\n",
        "\t\\frac{\\partial u}{\\partial x}=\\frac{\\partial v}{\\partial y}\\quad \\frac{\\partial v}{\\partial x}=-\\frac{\\partial u}{\\partial y}\n",
        "$$ (CR)\n",
        "\n",
        "These equations are key to complex analysis and have a number of important ramifications. Above, we have shown that they are necessary conditions for functions of a complex variable to be analytic (*i.e.* differentiable). Note that the converse result is false, unless the partial derivatives in {eq}`CR` are continuous."
      ],
      "metadata": {
        "id": "Vhd9wrncQqC6"
      }
    }
  ]
}