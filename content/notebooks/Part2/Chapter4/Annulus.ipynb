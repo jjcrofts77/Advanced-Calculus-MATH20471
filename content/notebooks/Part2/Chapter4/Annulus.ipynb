{
  "nbformat": 4,
  "nbformat_minor": 0,
  "metadata": {
    "colab": {
      "name": "Annulus.ipynb",
      "provenance": [],
      "authorship_tag": "ABX9TyOWiyWNXYhgw3C4KaElgeXm",
      "include_colab_link": true
    },
    "kernelspec": {
      "name": "python3",
      "display_name": "Python 3"
    },
    "language_info": {
      "name": "python"
    }
  },
  "cells": [
    {
      "cell_type": "markdown",
      "metadata": {
        "id": "view-in-github",
        "colab_type": "text"
      },
      "source": [
        "<a href=\"https://colab.research.google.com/github/jjcrofts77/Advanced-Calculus-MATH20471/blob/main/content/notebooks/Part2/Chapter4/Annulus.ipynb\" target=\"_parent\"><img src=\"https://colab.research.google.com/assets/colab-badge.svg\" alt=\"Open In Colab\"/></a>"
      ]
    },
    {
      "cell_type": "markdown",
      "source": [
        "# 4.4 The annulus theorem\n",
        "\n",
        "The following is a useful result which can simplify integrating around a singularity.\n",
        "\n",
        "If $f(z)$ is analytic on the closed annulus determined by the two simple closed paths $\\mathscr{C}_1$ and $\\mathscr{C}_2$ then\n",
        "\n",
        "$$\n",
        "\\oint_{\\mathscr{C}_1} f(z)\\mathrm{d} z = \\oint_{\\mathscr{C}_2} f(z)\\mathrm{d} z,\n",
        "$$\n",
        "\n",
        "provided that the two paths are traversed in the same direction.\n",
        "\n",
        "This can be shown by splitting the annulus via two additional paths $\\gamma_1$ and $\\gamma_2$ as shown in the figure below. Note, the paths in this figure do not have to be circular. The paths $\\mathscr{C}_1$ and $\\mathscr{C}_2$ are therefore split to new paths denoted $\\mathscr{C}^*_1$ and $\\mathscr{C}^*_2$.\n",
        "\n",
        "Now, considering the integral around the entire shape as indicated by the arrows:\n",
        "\n",
        "$$\n",
        "I & = & \\int_{\\mathscr{C}^*_1}f(z)\\mathrm{d} z + \\int_{\\gamma_1} f(z)\\mathrm{d} z - \\int_{\\mathscr{C}^*_2}f(z)\\mathrm{d} z + \\int_{\\gamma_2}f(z)\\mathrm{d} z\\\\\n",
        "&=& 0\\ \\mbox{due to Cauchy's theorem}\n",
        "$$\n",
        "\n",
        "Note that the minus sign in the integral around $\\mathscr{C}^*_2$ is because the integral is taken in the opposite direction to $\\mathscr{C}^*_2$ indicated in the figure.\n",
        "\n",
        "In the limit $\\epsilon\\to 0$, $\\gamma_2$ is the opposite path to $\\gamma_1$ (so that $\\gamma_1\\to -\\gamma_2$):\n",
        "\n",
        "$$\n",
        "\t\\int_{\\gamma_1} f(z)\\mathrm{d} z=-\\int_{\\gamma_2} f(z)\\mathrm{d} z\\\n",
        "$$\n",
        "\n",
        "so that those two integrals cancel in $I$. Also, in this limit, the $\\mathscr{C}^*_1\\to \\mathscr{C}_1$ and $\\mathscr{C}^*_2\\to \\mathscr{C}_2$ and\n",
        "\n",
        "$$\n",
        "\\int_{\\mathscr{C}^*_1}f(z)\\mathrm{d} z = \\oint_{\\mathscr{C}_1}f(z)\\mathrm{d} z,\\ \\int_{\\mathscr{C}^*_2}f(z)\\mathrm{d} z = \\oint_{\\mathscr{C}_2}f(z)\\mathrm{d} z,\\ \n",
        "$$\n",
        "\n",
        "then\n",
        "\n",
        "$$\n",
        "I = \\oint_{\\mathscr{C}_1}f(z)\\mathrm{d} z-\\oint_{\\mathscr{C}_2}f(z)\\mathrm{d} z=0\n",
        "$$\n",
        "\n",
        "which gives the required result for any simple closed paths $\\mathscr{C}_1$ and $\\mathscr{C}_2$.\n"
      ],
      "metadata": {
        "id": "JwsW-3CGU3wF"
      }
    }
  ]
}