{
  "nbformat": 4,
  "nbformat_minor": 0,
  "metadata": {
    "colab": {
      "name": "Annulus.ipynb",
      "provenance": [],
      "authorship_tag": "ABX9TyMfdZaMebKyTzIxhLu5uwXl",
      "include_colab_link": true
    },
    "kernelspec": {
      "name": "python3",
      "display_name": "Python 3"
    },
    "language_info": {
      "name": "python"
    }
  },
  "cells": [
    {
      "cell_type": "markdown",
      "metadata": {
        "id": "view-in-github",
        "colab_type": "text"
      },
      "source": [
        "<a href=\"https://colab.research.google.com/github/jjcrofts77/Advanced-Calculus-MATH20471/blob/main/content/notebooks/Part2/Chapter4/Annulus.ipynb\" target=\"_parent\"><img src=\"https://colab.research.google.com/assets/colab-badge.svg\" alt=\"Open In Colab\"/></a>"
      ]
    },
    {
      "cell_type": "markdown",
      "source": [
        "# 4.4 The annulus theorem\n",
        "\n",
        "The following is a useful result which can simplify integrating around a singularity.\n",
        "\n",
        "If $f(z)$ is analytic on the closed annulus determined by the two simple closed paths $\\mathscr{C}_1$ and $\\mathscr{C}_2$ then\n",
        "\n",
        "$$\n",
        "\\oint_{\\mathscr{C}_1} f(z)\\mathrm{d} z = \\oint_{\\mathscr{C}_2} f(z)\\mathrm{d} z,\n",
        "$$\n",
        "\n",
        "provided that the two paths are traversed in the same direction.\n",
        "\n",
        "```{figure} ../../../images/AnnulusTheorem.png\n",
        "---\n",
        "height: 250px\n",
        "---\n",
        "An annulus formed from two circular paths $\\mathscr{C}_1$ and $\\mathscr{C}_2$ cut via additional paths $\\gamma_1$ and $\\gamma_2$ separated by a small distance $\\epsilon\\to 0$ to leave new paths $\\mathscr{C}^*_1$ and $\\mathscr{C}^*_2$.\n",
        "```\n",
        "\n",
        "This can be shown by splitting the annulus via two additional paths $\\gamma_1$ and $\\gamma_2$ as shown in the figure. Note, the paths in this figure do not have to be circular. The paths $\\mathscr{C}_1$ and $\\mathscr{C}_2$ are therefore split to new paths denoted $\\mathscr{C}^*_1$ and $\\mathscr{C}^*_2$.\n",
        "\n",
        "Now, considering the integral around the entire shape as indicated by the arrows:\n",
        "\n",
        "$$\n",
        "I & = & \\int_{\\mathscr{C}^*_1}f(z)\\mathrm{d} z + \\int_{\\gamma_1} f(z)\\mathrm{d} z - \\int_{\\mathscr{C}^*_2}f(z)\\mathrm{d} z + \\int_{\\gamma_2}f(z)\\mathrm{d} z\\\\\n",
        "&=& 0\\ \\mbox{due to Cauchy's theorem}\n",
        "$$\n",
        "\n",
        "Note that the minus sign in the integral around $\\mathscr{C}^*_2$ is because the integral is taken in the opposite direction to $\\mathscr{C}^*_2$ indicated in the figure.\n",
        "\n",
        "In the limit $\\epsilon\\to 0$, $\\gamma_2$ is the opposite path to $\\gamma_1$ (so that $\\gamma_1\\to -\\gamma_2$):\n",
        "\n",
        "$$\n",
        "\t\\int_{\\gamma_1} f(z)\\mathrm{d} z=-\\int_{\\gamma_2} f(z)\\mathrm{d} z\\\n",
        "$$\n",
        "\n",
        "so that those two integrals cancel in $I$. Also, in this limit, the $\\mathscr{C}^*_1\\to \\mathscr{C}_1$ and $\\mathscr{C}^*_2\\to \\mathscr{C}_2$ and\n",
        "\n",
        "$$\n",
        "\\int_{\\mathscr{C}^*_1}f(z)\\mathrm{d} z = \\oint_{\\mathscr{C}_1}f(z)\\mathrm{d} z,\\ \\int_{\\mathscr{C}^*_2}f(z)\\mathrm{d} z = \\oint_{\\mathscr{C}_2}f(z)\\mathrm{d} z,\\ \n",
        "$$\n",
        "\n",
        "then\n",
        "\n",
        "$$\n",
        "I = \\oint_{\\mathscr{C}_1}f(z)\\mathrm{d} z-\\oint_{\\mathscr{C}_2}f(z)\\mathrm{d} z=0\n",
        "$$\n",
        "\n",
        "which gives the required result for any simple closed paths $\\mathscr{C}_1$ and $\\mathscr{C}_2$.\n",
        "\n",
        "```{note}\n",
        "This theorem implies that, instead of integrating a function with a single singularity around a complicated closed path (avoiding the singularity), one can integrate the function around a circle with radius chosen such that the circle lies wholly within that path. This can greatly simplify the calculation.\n",
        "```\n",
        "\n",
        "**Example 4.4.1** Evaluate $I=\\oint_\\mathscr{C} \\f{1}{z-i} \\ud z$ where the path $\\mathscr{C}$ is a square centred on $z=0$ with side 4.\n",
        "\n",
        "```{toggle}\n",
        "The given function $f(z)=\\f{1}{z-i}$ has a pole at $z=i$ which lies within $\\mathscr{C}$. The integration can be simplified by replacing $\\mathscr{C}$ with a circle centred at $z=i$ of radius $r<1$; \\emph{i.e.}:\n",
        "\n",
        "$$\n",
        "\t\\mathscr{C}^*: |z-i| = r.\n",
        "$$\n",
        "\n",
        "Then, using the annulus theorem\n",
        "\n",
        "$$\n",
        "I=\\oint_\\mathscr{C} \\f{1}{z-i} \\mathrm{d} z=\\oint_{\\mathscr{C}^*} \\f{1}{z-i} \\mathrm{d} z=\\oint_{|z-i|=r} \\f{1}{z-i} \\mathrm{d} z\n",
        "$$\n",
        "\n",
        "Now, in a previous example in these lectures we showed that integrating $z^{-n}$ around the unit circle gives:\n",
        "\n",
        "$$\n",
        "\t\\oint z^{-n} \\ud z =\n",
        "\\begin{cases} & \\int_0^{2\\pi}e^{-in\\theta}\\ ie^{i\\theta}\\ud\\theta = \\int_0^{2\\pi} i \\ud \\theta = 2i\\pi \\ \\mbox{if}\\ n=1\\\\\n",
        "\t\t\t\t\t\t & \\int_0^{2\\pi} e^{-in\\theta}\\ ie^{i\\theta}\\ud\\theta = i \\int_0^{2\\pi} e^{i(1-n)\\theta} \\ud \\theta = \\f{1}{(1-n)}\\left( e^{2i\\pi(1-n)}-1\\right)=0\\ \\mbox{if}\\ n\\neq 1,\n",
        "\t\\end{cases}\n",
        "$$\n",
        "\n",
        "and the same is true for the more general case $f(z)=\\f{1}{z-a}$. (**prove this to yourself.**) \n",
        "\n",
        "So, we can read off the answer:\n",
        "\n",
        "$$\n",
        "\tI=\\oint_\\mathscr{C} \\f{1}{z-i} \\ud z=\\oint_{|z-i|=r} \\f{1}{z-i} \\ud z=2i\\pi.\n",
        "$$\n",
        "```\n"
      ],
      "metadata": {
        "id": "JwsW-3CGU3wF"
      }
    }
  ]
}