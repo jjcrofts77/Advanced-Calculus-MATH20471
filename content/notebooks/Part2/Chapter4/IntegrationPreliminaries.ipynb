{
  "nbformat": 4,
  "nbformat_minor": 0,
  "metadata": {
    "colab": {
      "name": "IntegrationPreliminaries.ipynb",
      "provenance": [],
      "authorship_tag": "ABX9TyNXQsQAcpzRgWfDCnaoZV/a",
      "include_colab_link": true
    },
    "kernelspec": {
      "name": "python3",
      "display_name": "Python 3"
    },
    "language_info": {
      "name": "python"
    }
  },
  "cells": [
    {
      "cell_type": "markdown",
      "metadata": {
        "id": "view-in-github",
        "colab_type": "text"
      },
      "source": [
        "<a href=\"https://colab.research.google.com/github/jjcrofts77/Advanced-Calculus-MATH20471/blob/main/content/notebooks/Part2/Chapter4/IntegrationPreliminaries.ipynb\" target=\"_parent\"><img src=\"https://colab.research.google.com/assets/colab-badge.svg\" alt=\"Open In Colab\"/></a>"
      ]
    },
    {
      "cell_type": "markdown",
      "source": [
        "# 4.1 Prelminary definitions\n",
        "\n",
        "A path in the complex plane is a continuous function\n",
        "\n",
        "$$\n",
        "\\mathscr{C}(t)=x(t)+iy(t);\\quad a\\leqslant t\\leqslant b;\\quad a,b\\in \\mathbb{R}\t\n",
        "$$\n",
        "\n",
        "which connects points in the complex plane $z_1=z(t=a)$ to $z_2=z(t=b)$. These can be any continuous curve you like: \n",
        "\n",
        " - The straight line: $\\mathscr{C}=(1-t)z_1 + z_2 t;\\ 0\\leqslant t\\leqslant 1$.\n",
        " - The unit circle: $\\mathscr{C}=\\cos t + i\\sin t = e^{it};\\ 0\\leqslant t< 2\\pi$.\n",
        " - *etc.*\n",
        "\n",
        "````{margin}\n",
        "```{figure} ../../../images/SimpleVsNonSimple.png\n",
        "---\n",
        "height: 200px\n",
        "---\n",
        "A plot illustrating the difference between simple and non-simple curves\n",
        "```\n",
        "````\n",
        "\n",
        "1. A sub-path $\\mathscr{C}_1$ is a restriction of $\\mathscr{C}$ over some intermediate interval $t\\in[a_1,b_1];\\ a\\leqslant a_1\\leqslant b_1 \\leqslant b$ so that $\\mathscr{C}=\\sum \\mathscr{C}_i$.\n",
        "\n",
        "2. A closed path is one whose start and end points are equal: $z_1=z(a)=z_2=z(b)$\n",
        "\n",
        "3. A simple closed path does not cross itself\n",
        "\n",
        "4. The opposite path $-\\mathscr{C}$ is the path traversed in the opposite direction: $-\\mathscr{C}(t)=\\mathscr{C}(a+b-t)$.\n",
        "\n",
        "<br>\n",
        "\n",
        "The applet below traces a curve $\\mathscr{C}$ connecting the points $z(0) = z_1=-2+2i~$ and $~z(1) = z_2 = 2+2i$."
      ],
      "metadata": {
        "id": "YcaMQCn4Pp94"
      }
    },
    {
      "cell_type": "code",
      "source": [
        "%%html\n",
        "<figure>\n",
        "<center>\n",
        "<iframe scrolling=\"no\" title=\"TraceCurveAnim\" src=\"https://www.geogebra.org/material/iframe/id/jrw9nvsy/width/700/height/500/border/888888/sfsb/true/smb/false/stb/false/stbh/false/ai/false/asb/false/sri/false/rc/false/ld/false/sdz/true/ctl/false\" width=\"700px\" height=\"500px\" style=\"border:10px;\"> </iframe>\n",
        "<figcaption style=\"position: center; bottom: 0; height: 10%; width 10%\">Paramaterisation of a curve in the complex plane (<b>click on the magenta circle!!!</b>)</figcaption>\n",
        "</center>\n",
        "</figure>"
      ],
      "metadata": {
        "tags": [
          "remove-input"
        ],
        "id": "oupLLg_lt0Xu",
        "outputId": "197db6cf-28db-4bd1-93f4-d8f55e2d62e5",
        "colab": {
          "base_uri": "https://localhost:8080/",
          "height": 567
        }
      },
      "execution_count": null,
      "outputs": [
        {
          "output_type": "display_data",
          "data": {
            "text/plain": [
              "<IPython.core.display.HTML object>"
            ],
            "text/html": [
              "<figure>\n",
              "<center>\n",
              "<iframe scrolling=\"no\" title=\"TraceCurveAnim\" src=\"https://www.geogebra.org/material/iframe/id/jrw9nvsy/width/700/height/500/border/888888/sfsb/true/smb/false/stb/false/stbh/false/ai/false/asb/false/sri/false/rc/false/ld/false/sdz/true/ctl/false\" width=\"700px\" height=\"500px\" style=\"border:10px;\"> </iframe>\n",
              "<figcaption style=\"position: center; bottom: 0; height: 10%; width 10%\">Paramaterisation of a curve in the complex plane (<b>click on the magenta circle!!!</b>)</figcaption>\n",
              "</center>\n",
              "</figure>\n"
            ]
          },
          "metadata": {}
        }
      ]
    },
    {
      "cell_type": "markdown",
      "source": [
        "The curve $z(t)$ in the above GeoGebra applet is given by the equation\n",
        "\n",
        "$$\n",
        " z(t) = (t-2) + i(2+e^{-\\frac{1}{2}t}\\sin{\\pi t}),\\quad t\\in[0, 4].\n",
        "$$\n",
        "\n",
        "<br>\n",
        "\n",
        "A curve that will pop up frequently in this chapter is the unit circle which, is given by the paramaterisation:\n",
        "\n",
        "$$\n",
        "z(t) = e^{it} = \\cos(t)+i\\sin(t), \\quad t\\in[0, 2\\pi].\n",
        "$$\n",
        "\n",
        "This curve is illustrated in the following applet."
      ],
      "metadata": {
        "id": "QBJ1E-QMUwGC"
      }
    },
    {
      "cell_type": "code",
      "source": [
        "%%html\n",
        "<figure>\n",
        "<center>\n",
        "<iframe scrolling=\"no\" title=\"ParamUnitCircle\" src=\"https://www.geogebra.org/material/iframe/id/c57x97jq/width/700/height/500/border/888888/sfsb/true/smb/false/stb/false/stbh/false/ai/false/asb/false/sri/false/rc/false/ld/false/sdz/true/ctl/false\" width=\"700px\" height=\"500px\" style=\"border:0px;\"> </iframe>\n",
        "<figcaption style=\"position: center; bottom: 0; height: 10%; width 10%\">Paramaterisation of the unit circle (<b>click on the magenta circle!!!</b>)</figcaption>\n",
        "</center>\n",
        "</figure>"
      ],
      "metadata": {
        "tags": [
          "remove-input"
        ],
        "id": "pLtCnR8VSsd4",
        "outputId": "cca2a343-1f65-441c-e991-d65fb886e7d7",
        "colab": {
          "base_uri": "https://localhost:8080/",
          "height": 567
        }
      },
      "execution_count": null,
      "outputs": [
        {
          "output_type": "display_data",
          "data": {
            "text/plain": [
              "<IPython.core.display.HTML object>"
            ],
            "text/html": [
              "<figure>\n",
              "<center>\n",
              "<iframe scrolling=\"no\" title=\"ParamUnitCircle\" src=\"https://www.geogebra.org/material/iframe/id/c57x97jq/width/700/height/500/border/888888/sfsb/true/smb/false/stb/false/stbh/false/ai/false/asb/false/sri/false/rc/false/ld/false/sdz/true/ctl/false\" width=\"700px\" height=\"500px\" style=\"border:0px;\"> </iframe>\n",
              "<figcaption style=\"position: center; bottom: 0; height: 10%; width 10%\">Paramaterisation of the unit circle (<b>click on the magenta circle!!!</b>)</figcaption>\n",
              "</center>\n",
              "</figure>\n"
            ]
          },
          "metadata": {}
        }
      ]
    },
    {
      "cell_type": "markdown",
      "source": [
        "In the above applet, the curve is traced out in the positive direction (_i.e._ it is positively oriented).\n",
        "\n",
        "<br>\n",
        "\n",
        "Note that paramaterisations are not unique and so, for example, the following parametrisations of the unit circle are equivalent:\n",
        "\n",
        "$$\n",
        "z_1(t) &= e^{it} &= \\cos{t}+i\\sin{t},\\quad t\\in[0,2\\pi]\\\\\n",
        "z_2(t) &= e^{2\\pi it}&= \\cos{2\\pi t}+i\\sin{2\\pi t},\\quad t\\in[0,1]\\\\\n",
        "z_3(t) &= e^{\\pi i t/4}&= \\cos{\\pi t/4}+i\\sin{\\pi t/4},\\quad t\\in[0,8].\n",
        "$$\n",
        "\n",
        "All are positively oriented paramterisations of the unit circle. The only difference here is the speed at which we trace out the curve."
      ],
      "metadata": {
        "id": "NvhD8NJkW79z"
      }
    }
  ]
}