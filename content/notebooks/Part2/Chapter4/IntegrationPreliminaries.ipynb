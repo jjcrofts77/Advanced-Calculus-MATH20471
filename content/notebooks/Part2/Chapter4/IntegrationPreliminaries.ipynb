{
  "nbformat": 4,
  "nbformat_minor": 0,
  "metadata": {
    "colab": {
      "name": "IntegrationPreliminaries.ipynb",
      "provenance": [],
      "authorship_tag": "ABX9TyNTvKIa0Zkq2vJkfL0MaaNZ",
      "include_colab_link": true
    },
    "kernelspec": {
      "name": "python3",
      "display_name": "Python 3"
    },
    "language_info": {
      "name": "python"
    }
  },
  "cells": [
    {
      "cell_type": "markdown",
      "metadata": {
        "id": "view-in-github",
        "colab_type": "text"
      },
      "source": [
        "<a href=\"https://colab.research.google.com/github/jjcrofts77/Advanced-Calculus-MATH20471/blob/main/content/notebooks/Part2/Chapter4/IntegrationPreliminaries.ipynb\" target=\"_parent\"><img src=\"https://colab.research.google.com/assets/colab-badge.svg\" alt=\"Open In Colab\"/></a>"
      ]
    },
    {
      "cell_type": "markdown",
      "source": [
        "# 4.1 Prelminary definitions\n",
        "\n",
        "1. A path in the complex plane is a continuous function\n",
        "\n",
        "$$\n",
        "\\mathscr{C}(t)=x(t)+iy(t);\\quad a\\leqslant t\\leqslant b;\\quad a,b\\in \\mathbb{R}\t\n",
        "$$\n",
        "\n",
        "which connects points in the complex plane $z_1=z(t=a)$ to $z_2=z(t=b)$. These can be any continuous curve you like: \n",
        "\n",
        " - The straight line: $\\mathscr{C}=(1-t)z_1 + z_2 t;\\ 0\\leqslant t\\leqslant 1$.\n",
        " - The unit circle: $\\mathscr{C}=\\cos t + i\\sin t = e^{it};\\ 0\\leqslant t< 2\\pi$.\n",
        " - *etc.*\n",
        "\n",
        "2. A sub-path $\\mathscr{C}_1$ is a restriction of $\\mathscr{C}$ over some intermediate interval $t\\in[a_1,b_1];\\ a\\leqslant a_1\\leqslant b_1 \\leqslant b$ so that $\\mathscr{C}=\\sum \\mathscr{C}_i$.\n",
        "\n",
        "3. A closed path is one whose start and end points are equal: $z_1=z(a)=z_2=z(b)$\n",
        "\n",
        "4. A simple closed path does not cross itself\n",
        "\n",
        "5. The opposite path $-\\mathscr{C}$ is the path traversed in the opposite direction: $-\\mathscr{C}(t)=\\mathscr{C}(a+b-t)$.\n",
        "\n",
        "<br>\n",
        "\n",
        "The applet below traces a curve $\\mathscr{C}$ connecting the points $z(0) = z_1=-2+2i~$ and $~z(1) = z_2 = 2+2i$."
      ],
      "metadata": {
        "id": "YcaMQCn4Pp94"
      }
    },
    {
      "cell_type": "code",
      "source": [
        "%%html\n",
        "<center>\n",
        "<iframe scrolling=\"no\" title=\"Example of a paramaterised curve\" src=\"https://www.geogebra.org/material/iframe/id/hnm99bje/width/700/height/500/border/888888/sfsb/true/smb/true/stb/true/stbh/false/ai/true/asb/true/sri/false/rc/false/ld/false/sdz/true/ctl/false\" width=\"700px\" height=\"500px\" style=\"border:5px;\" allowfullscreen> </iframe>\n",
        "</center>"
      ],
      "metadata": {
        "id": "oupLLg_lt0Xu",
        "outputId": "1292bf7e-2a67-4560-cf27-3d7a2db7d93b",
        "colab": {
          "base_uri": "https://localhost:8080/",
          "height": 521
        }
        "tags": [
          "remove-input"
        ],
      },
      "execution_count": 17,
      "outputs": [
        {
          "output_type": "display_data",
          "data": {
            "text/plain": [
              "<IPython.core.display.HTML object>"
            ],
            "text/html": [
              "<center>\n",
              "<iframe scrolling=\"no\" title=\"Example of a paramaterised curve\" src=\"https://www.geogebra.org/material/iframe/id/hnm99bje/width/700/height/500/border/888888/sfsb/true/smb/true/stb/true/stbh/false/ai/true/asb/true/sri/false/rc/false/ld/false/sdz/true/ctl/false\" width=\"700px\" height=\"500px\" style=\"border:5px;\" allowfullscreen> </iframe>\n",
              "</center>\n"
            ]
          },
          "metadata": {}
        }
      ]
    }
  ]
}
