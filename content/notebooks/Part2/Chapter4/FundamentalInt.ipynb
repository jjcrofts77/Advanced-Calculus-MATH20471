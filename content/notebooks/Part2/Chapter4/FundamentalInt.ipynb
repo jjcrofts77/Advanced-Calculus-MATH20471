{
  "nbformat": 4,
  "nbformat_minor": 0,
  "metadata": {
    "colab": {
      "name": "FundamentalInt.ipynb",
      "provenance": [],
      "authorship_tag": "ABX9TyOyM42iPHC7RXy2h0YxGxRO",
      "include_colab_link": true
    },
    "kernelspec": {
      "name": "python3",
      "display_name": "Python 3"
    },
    "language_info": {
      "name": "python"
    }
  },
  "cells": [
    {
      "cell_type": "markdown",
      "metadata": {
        "id": "view-in-github",
        "colab_type": "text"
      },
      "source": [
        "<a href=\"https://colab.research.google.com/github/jjcrofts77/Advanced-Calculus-MATH20471/blob/main/content/notebooks/Part2/Chapter4/FundamentalInt.ipynb\" target=\"_parent\"><img src=\"https://colab.research.google.com/assets/colab-badge.svg\" alt=\"Open In Colab\"/></a>"
      ]
    },
    {
      "cell_type": "markdown",
      "source": [
        "# 4.2 The fundamental theorem of contour integration\n",
        "\n",
        "## 4.2.1 Contour integration\n",
        "Given a paramaterisation, $z(t)=x(t)+iy(t),~~ t\\in[a, b]$, of the curve $\\mathscr{C}$ in the complex plane, we define the integral of the complex-valued function, $f(z)$, over the curve $\\mathscr{C}$ as follows:\n",
        "\n",
        "$$\n",
        "\\int_\\mathscr{C} f(z)\\mathrm{d}z = \\int_a^b f(z(t))z'(t)\\mathrm{d}t\n",
        "$$ (ContInt)\n",
        "\n",
        "In the above we assume the curve $\\mathscr{C}$ to be piecewise continuous for $t\\in[a,b]$ and refer to function $f(z)$ as being piecewise continuous. \n",
        "\n",
        "The integral on the right handside of {eq}`ContInt` is a standard integral of a complex-valued function, which can be written as a linear combination of two real integrals. To see this, note that we can write $f(z(t))z'(t) = u(t)+iv(t)$ for real-valued functions $u, v$ and rewrite {eq}`ContInt` as \n",
        "\n",
        "$$\n",
        "\\int_a^b f(z(t))z'(t)\\mathrm{d}t = \\int_a^b u(t)\\mathrm{d}t + i\\int_a^b v(t)\\mathrm{d}t,\n",
        "$$\n",
        "\n",
        "thus resulting in two standard integrals.\n",
        "\n",
        "Alternatively, writing \n",
        "\n",
        "$$\n",
        "f(z) = u(x,y)+iv(x,y)\n",
        "$$\n",
        "\n",
        "and noting that $\\mathrm{d}z = \\mathrm{d}x+i\\mathrm{d}y$, we can rewrite the integral in {eq}`ContInt` as\n",
        "\n",
        "$$\n",
        "\\int_\\mathscr{C}f(z)\\mathrm{d}z = \\int_\\mathscr{C}(u+iv)(\\mathrm{d}x+i\\mathrm{d}y) = \\int_\\mathscr{C}\\left(u\\mathrm{d}x-v\\mathrm{d}y\\right)+i\\int_\\mathscr{C}\\left(v\\mathrm{d}x+u\\mathrm{d}y\\right),\n",
        "$$\n",
        "\n",
        "resulting in a pair of real line integrals.\n",
        "\n",
        "Either method enables us to perform contour integration of a complex-valued function by using familiar techniques from real analysis, as should be clear from the examples to follow.\n",
        "\n",
        "<br>\n",
        "\n",
        "**Example 4.3.1** Evaluate the integral $\\displaystyle \\int_\\mathscr{C}\\bar{z}\\mathrm{d}z$, where $\\mathscr{C}$ is the curve $x=2t, y=2t^2$, with $0\\leq t\\leq 3$.\n",
        "\n",
        "<br>\n",
        "\n",
        "Noting that $z(t) = 2t+2it^2$, we start by working out \n",
        "\n",
        "$$\n",
        " f(z(t)) = \\bar{z}(t) = x(t) - iy(t) = 2t-2it^2 \n",
        "$$\n",
        "\n",
        "and $\\displaystyle z'(t) = \\frac{\\mathrm{d}}{\\mathrm{d}t}\\left(2t+2it^2\\right) = 2+4it$.\n",
        "\n",
        "Thus\n",
        "\n",
        "$$\n",
        "\\int_\\mathscr{C} &= \\int_0^3(2t-2it^2)(2+4it)\\mathrm{d}t\\\\ \n",
        "\t\t\t\t\t\t\t\t &= \\int_0^3(8t^3+4t+4it^2)\\mathrm{d}t\\\\ \n",
        "                 &= \\int_0^3(8t^3+4t)\\mathrm{d}t+i\\int_0^2(4t^2)\\mathrm{d}t\\\\\n",
        "\t\t\t\t\t\t\t\t &= \\Bigg[2t^4+2t^2\\Bigg]_0^3 + \\Bigg[\\frac{4}{3}t^3\\Bigg]_0^3\\\\\n",
        "\t\t\t\t\t\t\t\t &= 180 + 36i\n",
        "$$\n",
        "\n",
        "The applet below shows the curve of integration for the above example."
      ],
      "metadata": {
        "id": "3kVblRIKQ786"
      }
    },
    {
      "cell_type": "code",
      "source": [
        "%%html\n",
        "<center>\n",
        "<iframe scrolling=\"no\" title=\"Example431\" src=\"https://www.geogebra.org/material/iframe/id/ppge6eet/width/700/height/500/border/888888/sfsb/true/smb/false/stb/false/stbh/false/ai/false/asb/false/sri/false/rc/false/ld/false/sdz/true/ctl/false\" width=\"560px\" height=\"400px\" style=\"border:0px;\"> </iframe>\n",
        "</center>"
      ],
      "metadata": {
        "tags": [
          "remove-input"
        ],
        "id": "bfEF_qx5-QIs",
        "outputId": "0dc669bf-5548-4e8b-a357-5068963b22a5",
        "colab": {
          "base_uri": "https://localhost:8080/",
          "height": 421
        }
      },
      "execution_count": 6,
      "outputs": [
        {
          "output_type": "display_data",
          "data": {
            "text/plain": [
              "<IPython.core.display.HTML object>"
            ],
            "text/html": [
              "<center>\n",
              "<iframe scrolling=\"no\" title=\"Example431\" src=\"https://www.geogebra.org/material/iframe/id/ppge6eet/width/700/height/500/border/888888/sfsb/true/smb/false/stb/false/stbh/false/ai/false/asb/false/sri/false/rc/false/ld/false/sdz/true/ctl/false\" width=\"560px\" height=\"400px\" style=\"border:0px;\"> </iframe>\n",
              "</center>\n"
            ]
          },
          "metadata": {}
        }
      ]
    },
    {
      "cell_type": "markdown",
      "source": [
        "\n",
        "## 4.2.2 Antiderivtives\n",
        "\n",
        "## 4.2.3 The fundamental theorem\n",
        "\n",
        "If $\\mathscr{C}$ is a simple path in the complex plane from $z_1$ to $z_2$, and $F$ is an antiderivative of $f$ ($F^\\prime = f$ on $\\mathscr{C}$) then:\n",
        "\n",
        "$$\n",
        "\\int_\\mathscr{C} f(z) \\mathrm{d} z = F(z_2)-F(z_1)\n",
        "$$\n",
        "\n",
        "This can be shown easily by changing variables to evaluate the path integral along $\\mathscr{C}$ as a line integral in the new variable. \n",
        "\n",
        "Parametrising $\\mathscr{C}$ by a new dummy variable $t$ via $x=x(t)$, $y=y(t)$ and $z=x+iy$. $\\mathscr{C}$ can be traced out by varying the single variable $t$ over some range $t_1 \\to t_2$, say. To be explicit about it: $z(t_1)=x(t_1)+iy(t_1)=z_1$ and $z(t_2)=x(t_2)+iy(t_2)=z_2$.\n",
        "\n",
        "The chain rule and some manipulation then gives the result. Defining $g(t)=F(\\mathscr{C}(t))$, the chain rule gives\n",
        "\n",
        "$$\n",
        "g^\\prime(t)=F^\\prime(\\mathscr{C}(t))\\mathscr{C}^\\prime(t) = f(\\mathscr{C}(t))\\mathscr{C}^\\prime(t)\n",
        "$$\n",
        "\n",
        "and so\n",
        "\n",
        "$$\n",
        "\t\\int_\\mathscr{C} f(z) \\mathrm{d} z &= \\int_{t_1}^{t_2} f(\\mathscr{C}(t))\\mathscr{C}^\\prime(t) \\mathrm{d} t\\\\\n",
        "\t\t\t\t\t  &= \\int_{t_1}^{t_2} g^\\prime(t) \\mathrm{d} t\\\\\n",
        "\t\t\t\t\t  &= g(t_2)-g(t_1)\\\\\n",
        "\t\t\t\t\t  &= F(\\mathscr{C}(t_2))-F(\\mathscr{C}(t_1))\\\\\n",
        "\t\t\t\t\t  &= F(z_2)-F(z_1).\n",
        "$$\n",
        "\n",
        "This has the following consequences:\n",
        "\n",
        "\n",
        "1. If two curves $\\mathscr{C}_1$, $\\mathscr{C}_2$ start and end at the same points $z_1$ and $z_2$\n",
        "\n",
        " $$\n",
        " \\int_{\\mathscr{C}_1} f(z) \\mathrm{d} z = \\int_{\\mathscr{C}_2} f(z) \\mathrm{d} z = F(z_2)-F(z_1).\n",
        " $$\n",
        "\n",
        "2. If a closed contour is defined by $\\mathscr{C}=\\mathscr{C}_1-\\mathscr{C}_2$ then \n",
        "\n",
        " $$\n",
        " \\oint_{\\mathscr{C}} f(z) \\mathrm{d} z = \\int_{\\mathscr{C}_1} f(z) \\mathrm{d} z -\\int_{\\mathscr{C}_2} f(z) \\mathrm{d} z = 0.\n",
        " $$"
      ],
      "metadata": {
        "id": "e7PPbwQmGhNj"
      }
    }
  ]
}
