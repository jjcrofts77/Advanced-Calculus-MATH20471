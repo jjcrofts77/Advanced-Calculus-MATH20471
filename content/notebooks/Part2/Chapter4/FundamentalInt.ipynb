{
  "nbformat": 4,
  "nbformat_minor": 0,
  "metadata": {
    "colab": {
      "name": "FundamentalInt.ipynb",
      "provenance": [],
      "authorship_tag": "ABX9TyMg0wbfiXAd4RlAs5XHpnFX",
      "include_colab_link": true
    },
    "kernelspec": {
      "name": "python3",
      "display_name": "Python 3"
    },
    "language_info": {
      "name": "python"
    }
  },
  "cells": [
    {
      "cell_type": "markdown",
      "metadata": {
        "id": "view-in-github",
        "colab_type": "text"
      },
      "source": [
        "<a href=\"https://colab.research.google.com/github/jjcrofts77/Advanced-Calculus-MATH20471/blob/main/content/notebooks/Part2/Chapter4/FundamentalInt.ipynb\" target=\"_parent\"><img src=\"https://colab.research.google.com/assets/colab-badge.svg\" alt=\"Open In Colab\"/></a>"
      ]
    },
    {
      "cell_type": "markdown",
      "source": [
        "# 4.2 The fundamental theorem of contour integration\n",
        "\n",
        "If $\\mathscr{C}$ is a simple path in the complex plane from $z_1$ to $z_2$, and $F$ is an antiderivative of $f$ ($F^\\prime = f$ on $\\mathscr{C}$) then:\n",
        "\n",
        "$$\n",
        "\\int_\\mathscr{C} f(z) \\mathrm{d} z = F(z_2)-F(z_1)\n",
        "$$\n",
        "\n",
        "This can be shown easily by changing variables to evaluate the path integral along $\\mathscr{C}$ as a line integral in the new variable. \n",
        "\n",
        "Parametrising $\\mathscr{C}$ by a new dummy variable $t$ via $x=x(t)$, $y=y(t)$ and $z=x+iy$. $\\mathscr{C}$ can be traced out by varying the single variable $t$ over some range $t_1 \\to t_2$, say. To be explicit about it: $z(t_1)=x(t_1)+iy(t_1)=z_1$ and $z(t_2)=x(t_2)+iy(t_2)=z_2$.\n",
        "\n",
        "The chain rule and some manipulation then gives the result. Defining $g(t)=F(\\mathscr{C}(t))$, the chain rule gives\n",
        "\n",
        "$$\n",
        "g^\\prime(t)=F^\\prime(\\mathscr{C}(t))\\mathscr{C}^\\prime(t) = f(\\mathscr{C}(t))\\mathscr{C}^\\prime(t)\n",
        "$$\n",
        "\n",
        "and so\n",
        "\n",
        "$$\n",
        "\t\\int_\\mathscr{C} f(z) \\mathrm{d} z &=& \\int_{t_1}^{t_2} f(\\mathscr{C}(t))\\mathscr{C}^\\prime(t) \\mathrm{d} t\\\\\n",
        "\t\t\t\t\t  &=& \\int_{t_1}^{t_2} g^\\prime(t) \\mathrm{d} t\\\\\n",
        "\t\t\t\t\t  &=& g(t_2)-g(t_1)\\\\\n",
        "\t\t\t\t\t  &=& F(\\mathscr{C}(t_2))-F(\\mathscr{C}(t_1))\\\\\n",
        "\t\t\t\t\t  &=& F(z_2)-F(z_1).\n",
        "$$\n",
        "\n",
        "This has the following consequences:\n",
        "\n",
        "\n",
        "1. If two curves $\\mathscr{C}_1$, $\\mathscr{C}_2$ start and end at the same points $z_1$ and $z_2$\n",
        "\n",
        "$$\n",
        "\\int_{\\mathscr{C}_1} f(z) \\mathrm{d} z = \\int_{\\mathscr{C}_2} f(z) \\mathrm{d} z = F(z_2)-F(z_1).\n",
        "$$\n",
        "\n",
        "2. If a closed contour is defined by $\\mathscr{C}=\\mathscr{C}_1-\\mathscr{C}_2$ then \n",
        "\n",
        "$$\n",
        "\\oint_{\\mathscr{C}} f(z) \\mathrm{d} z = \\int_{\\mathscr{C}_1} f(z) \\mathrm{d} z -\\int_{\\mathscr{C}_2} f(z) \\mathrm{d} z = 0.\n",
        "$$\n"
      ],
      "metadata": {
        "id": "3kVblRIKQ786"
      }
    }
  ]
}