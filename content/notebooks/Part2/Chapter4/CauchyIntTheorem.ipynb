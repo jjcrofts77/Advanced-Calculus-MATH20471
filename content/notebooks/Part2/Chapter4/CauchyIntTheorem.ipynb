{
  "nbformat": 4,
  "nbformat_minor": 0,
  "metadata": {
    "colab": {
      "name": "CauchyIntTheorem.ipynb",
      "provenance": [],
      "authorship_tag": "ABX9TyOutxRkCq7QZB0FfX3WBl+i",
      "include_colab_link": true
    },
    "kernelspec": {
      "name": "python3",
      "display_name": "Python 3"
    },
    "language_info": {
      "name": "python"
    }
  },
  "cells": [
    {
      "cell_type": "markdown",
      "metadata": {
        "id": "view-in-github",
        "colab_type": "text"
      },
      "source": [
        "<a href=\"https://colab.research.google.com/github/jjcrofts77/Advanced-Calculus-MATH20471/blob/main/content/notebooks/Part2/Chapter4/CauchyIntTheorem.ipynb\" target=\"_parent\"><img src=\"https://colab.research.google.com/assets/colab-badge.svg\" alt=\"Open In Colab\"/></a>"
      ]
    },
    {
      "cell_type": "markdown",
      "source": [
        "# 4.3 Cauchy's integral theorem\n",
        "\n",
        "If $f(z)$ is analytic at all points on and within a closed curve $\\mathscr{C}$, then\n",
        "\n",
        "$$\n",
        "\t\\oint_\\mathscr{C} f(z) \\mathrm{d} z=0.\n",
        "$$ (Cauchysintegraltheorem)\n",
        "\n",
        "This may be proved by simple application of Green's theorem (which you have already studied) which states:\n",
        "\n",
        "$$\n",
        "\t\\oint_\\mathscr{C} f_1 \\mathrm{d} x + f_2\\mathrm{d} y = \\iint_S\\left( \\frac{\\partial f_2}{\\partial x}-\\frac{\\partial f_1}{\\partial y} \\right)\\mathrm{d} x\\mathrm{d} y,\n",
        "$$ (Greens)\n",
        "\n",
        "for a closed curve $\\mathscr{C}$ encompassing a surface $S$. Writing $f(z)=u(x,y)+iv(x,y)$ and $\\mathrm{d} z=\\mathrm{d} x + i \\mathrm{d} y$ in Equation eqref`Cauchysintegraltheorem`\n",
        "\n",
        "$$\n",
        "\tI &=& \\oint_\\mathscr{C} (u+iv) (\\mathrm{d} x + i \\mathrm{d} y)\\\\\n",
        "\t  &=& \\oint_\\mathscr{C} (u \\mathrm{d} x - v\\mathrm{d} y) + i\\oint_\\mathscr{C}(v \\mathrm{d} x + u\\mathrm{d} y),\n",
        "$$\n",
        "\n",
        "and making the following associations: $u \\leftrightarrow f_1$, $-v\\leftrightarrow f_2$ in the real part of $I$ and $u \\leftrightarrow f_2$, $v\\leftrightarrow f_1$ in the imaginary part and invoking Green's theorem eqref`Greens`:\n",
        "\n",
        "$$\n",
        "\tI &=& \\oint_\\mathscr{C} (u \\mathrm{d} x - v\\mathrm{d} y) + i\\oint_\\mathscr{C}(v \\mathrm{d} x + u\\mathrm{d} y),\\\\\n",
        "\t  &=& \\iint_D \\left( \\frac{\\partial(-v)}{\\partial x} - \\frac{\\partial u}{\\partial y}\\right) + i\\left( \\frac{\\partial u}{\\partial x} - \\frac{\\partial v}{\\partial y}\\right) \\mathrm{d} x\\mathrm{d} y\\\\\n",
        "\t  &=& 0\\ \\mbox{if $f$ is analytic.}\n",
        "$$\n",
        "\n",
        "**Remarks:**\n",
        "\n",
        "1. If $\\mathscr{C}$ is not closed and the above conditions hold, the integral is dependent on the end points of $\\mathscr{C}$ only.\n",
        "\n",
        "2. If $f$ contains singularities in the complex plane, eqref`Cauchysintegraltheorem` holds only if $\\mathscr{C}$ does not contain those singularities\n",
        "\t\n",
        "3. The converse of Cauchy's theorem is not necessarily true: if $f$ isn't analytic on $\\mathscr{C}$, $I\\neq 0$ is not necessarily true."
      ],
      "metadata": {
        "id": "ZNWzzWHt3ggu"
      }
    }
  ]
}