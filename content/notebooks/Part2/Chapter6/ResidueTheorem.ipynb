{
  "nbformat": 4,
  "nbformat_minor": 0,
  "metadata": {
    "colab": {
      "name": "ResidueTheorem.ipynb",
      "provenance": [],
      "authorship_tag": "ABX9TyOnwN0TklyqFrcPecOjhnAA",
      "include_colab_link": true
    },
    "kernelspec": {
      "name": "python3",
      "display_name": "Python 3"
    },
    "language_info": {
      "name": "python"
    }
  },
  "cells": [
    {
      "cell_type": "markdown",
      "metadata": {
        "id": "view-in-github",
        "colab_type": "text"
      },
      "source": [
        "<a href=\"https://colab.research.google.com/github/jjcrofts77/Advanced-Calculus-MATH20471/blob/main/content/notebooks/Part2/Chapter6/ResidueTheorem.ipynb\" target=\"_parent\"><img src=\"https://colab.research.google.com/assets/colab-badge.svg\" alt=\"Open In Colab\"/></a>"
      ]
    },
    {
      "cell_type": "markdown",
      "source": [
        "## 6.1 Cauchy's residue theorem\n",
        "\n",
        "From Cauchy's theorem we know that if $f(z)$ is analytic at $z_0$ and within some path $\\mathscr{C}$, then\n",
        "\\[\n",
        "  I = \\oint_\\mathscr{C}f(z)\\ud z =0.\n",
        "\\]\n",
        "In general (although this isn't necessarily the case), if $f(z)$ is \\emph{not} analytic within $\\mathscr{C}$ then $I\\neq 0$. If $z_0$ is the only singularity in $\\mathscr{C}$, the non-zero integral may be evaluated very easily. This is demonstrated below. \n",
        "\n",
        "Consider the Laurent series centred on a singular point $z=z_0$ of some function $f(z)$, analytic within some region $\\mathscr{R}$ defined by the curve $\\mathscr{C}$: $|z-z_0|=r$:\n",
        "\\[\n",
        " \tf(z) = \\sum_{n=0}^\\infty a_n(z-z_0)^n + \\sum_{n=-\\infty}^{-1} b_n(z-z_0)^n. \n",
        "\\]\n",
        "Integrating around the path $\\mathscr{C}$:\n",
        "\\BE\n",
        " \t\\oint_\\mathscr{C} f(z) \\ud z = \\sum_{n=0}^\\infty \\oint_\\mathscr{C} a_n(z-z_0)^n \\ud z+ \\sum_{n=-\\infty}^{-1} \\oint_\\mathscr{C}  b_n(z-z_0)^n ud z.\\label{res_pathint} \n",
        "\\EE\n",
        "\n",
        "Now, we have already proved that\n",
        "\\[\n",
        "\t\\oint_\\mathscr{C} (z-a)^{-n} \\ud z =\n",
        "\t\\begin{cases} & 2i\\pi \\ \\mbox{if}\\ n=1\\\\\n",
        "\t\t\t & 0\\ \\mbox{if}\\ n\\neq 1.\n",
        "\t\\end{cases}\n",
        "\\]\n",
        "(This was additionally used in the ``Laurent coefficients by direct integration'' section. To remind you, this is easy enough to show if you convert to exponential form and then notice that $\\int_{0}^{2\\pi}e^{i l \\theta}\\ud \\theta$ is only nonzero if $l=0$, in which case it's $2\\pi$) So, the \\emph{only} non-zero term in (\\ref{res_pathint}) is the $b_{-1}$ term in the second sum. The integral is therefore:\n",
        "\\[\n",
        " \t\\oint_\\mathscr{C} f(z) \\ud z = 2i\\pi b_{-1}.\n",
        "\\]\n",
        "By use of the multiple annulus theorem, this result can be extended: if $\\mathscr{C}_i$ are $m$ closed paths  within $\\mathscr{C}$, each enclosing an isolated singularity of $f(z)$ then\n",
        "\\[\n",
        " \t\\oint_\\mathscr{C} f(z) \\ud z = 2i\\pi\\sum_{n=0}^m b^{(n)}_{-1},\n",
        "\\]\n",
        "where $b^{(n)}_{-1}$ indicates the coefficient associated with the $(z-z_0)^{-1}$ term in the Laurent series for each of the $m$ singularities.\n",
        "\n",
        "The non-zero part of the integral arising due to the singularity at $z_0$ is known as the ``Residue'' of $f(z)$ and denoted:\n",
        "\\[\n",
        " \\oint_\\mathscr{C}f(z)\\ud z = 2\\pi i \\mathrm{Res}(f;z_0)\n",
        "\\]\n",
        " \n",
        "By simple analogy with the above, we define {\\bf Cauchy's residue theorem}: If $f(z)$ is analytic inside and on a simple closed path $\\mathscr{C}$, except at a finite number of \\emph{isolated singularities} of $f(z)$, $z_0,\\ z_1, \\ldots ,\\ z_m$, then\n",
        "\\BE\n",
        " \t\\oint_\\mathscr{C}f(z)\\ud z = 2\\pi i \\sum_{n=0}^m \\mathrm{Res}(f;z_n).\\label{residuetheorem}\n",
        "\\EE\n",
        "\\subsection{Calculating residues}\n",
        "The residue theorem can be used to calculate integrals. For it to be of much use we must find ways of calculating residues.\\\\ \n"
      ],
      "metadata": {
        "id": "x7TsrtRc_9DO"
      }
    }
  ]
}