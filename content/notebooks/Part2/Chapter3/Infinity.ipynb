{
  "nbformat": 4,
  "nbformat_minor": 0,
  "metadata": {
    "colab": {
      "name": "Infinity.ipynb",
      "provenance": [],
      "include_colab_link": true
    },
    "kernelspec": {
      "name": "python3",
      "display_name": "Python 3"
    },
    "language_info": {
      "name": "python"
    }
  },
  "cells": [
    {
      "cell_type": "markdown",
      "metadata": {
        "id": "view-in-github",
        "colab_type": "text"
      },
      "source": [
        "<a href=\"https://colab.research.google.com/github/jjcrofts77/Advanced-Calculus-MATH20471/blob/main/content/notebooks/Part2/Chapter3/Infinity.ipynb\" target=\"_parent\"><img src=\"https://colab.research.google.com/assets/colab-badge.svg\" alt=\"Open In Colab\"/></a>"
      ]
    },
    {
      "cell_type": "markdown",
      "source": [
        "# 3.4 Singularities at infinity (optional)\n",
        "\n",
        "The type of singularity of $f(z)$ at $z=\\infty$ is the same as that of $f(1/w)$ at $w=0$.\n",
        "\n",
        "<br>\n",
        "\n",
        "**Example 3.4.1** The function $f(z)=z^3$ has a pole of order 3 at $z=\\infty$, since $f(1/w) = 1/w^3$ has a pole of order 3 at $w=0$."
      ],
      "metadata": {
        "id": "mFXvrJNMOY2I"
      }
    }
  ]
}