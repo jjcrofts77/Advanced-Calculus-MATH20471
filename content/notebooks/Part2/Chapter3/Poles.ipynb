{
  "nbformat": 4,
  "nbformat_minor": 0,
  "metadata": {
    "colab": {
      "name": "Poles.ipynb",
      "provenance": [],
      "authorship_tag": "ABX9TyNxWYzlsISNvzWYIdepPSly",
      "include_colab_link": true
    },
    "kernelspec": {
      "name": "python3",
      "display_name": "Python 3"
    },
    "language_info": {
      "name": "python"
    }
  },
  "cells": [
    {
      "cell_type": "markdown",
      "metadata": {
        "id": "view-in-github",
        "colab_type": "text"
      },
      "source": [
        "<a href=\"https://colab.research.google.com/github/jjcrofts77/Advanced-Calculus-MATH20471/blob/main/content/notebooks/Part2/Chapter3/Poles.ipynb\" target=\"_parent\"><img src=\"https://colab.research.google.com/assets/colab-badge.svg\" alt=\"Open In Colab\"/></a>"
      ]
    },
    {
      "cell_type": "markdown",
      "source": [
        "# 3.1 Poles\n",
        "\n",
        "Taking $f(z)=\\f{z^3+2z+1}{z^2+3z+2}$, we see that the denominator may be expressed $(z+2)(z+1)$ and so $f$ is not defined at $z=-1,-2$ and so is not analytic at these two points.\n",
        "\n",
        "<br>\n",
        "\n",
        "**Definition 3.1.1** A function $f(z)$ has an order $n$ pole at $z_0$ if $z_0$ is a root of order $n$ for the function $1/f(z)$\n",
        "\n",
        "<br>\n",
        "\n",
        "```{note}\n",
        "Another way of looking at it: $z_0$ is a root of order $n$ of $f(z)$ if $(z-z_0)^n f(z)$ is analytic at $z_0$ and $(z-z_0)^{n-1} f(z)$ is not. \n",
        "```\n",
        "\n",
        "For instance, in the above example, \n",
        "\\[\n",
        "\\f{1}{f(z)}= \\f{(z+2)(z+1)}{z^3+2z+1}\n",
        "\\]\n",
        "and $z=-1,-2$ are 1$^{st}$ order roots. Hence $z=-1,-2$ are order one poles of $f$.\n",
        "\n",
        "\n",
        "**Example 3.1.1**\n",
        "\n",
        "**Solution**"
      ],
      "metadata": {
        "id": "7m3XZRcec0PE"
      }
    }
  ]
}