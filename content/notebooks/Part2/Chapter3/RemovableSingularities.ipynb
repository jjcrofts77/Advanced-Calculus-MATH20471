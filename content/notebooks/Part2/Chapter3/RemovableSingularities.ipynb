{
  "nbformat": 4,
  "nbformat_minor": 0,
  "metadata": {
    "colab": {
      "name": "RemovableSingularities.ipynb",
      "provenance": [],
      "authorship_tag": "ABX9TyN9omyNO87bUctmBdFnBCVK",
      "include_colab_link": true
    },
    "kernelspec": {
      "name": "python3",
      "display_name": "Python 3"
    },
    "language_info": {
      "name": "python"
    }
  },
  "cells": [
    {
      "cell_type": "markdown",
      "metadata": {
        "id": "view-in-github",
        "colab_type": "text"
      },
      "source": [
        "<a href=\"https://colab.research.google.com/github/jjcrofts77/Advanced-Calculus-MATH20471/blob/main/content/notebooks/Part2/Chapter3/RemovableSingularities.ipynb\" target=\"_parent\"><img src=\"https://colab.research.google.com/assets/colab-badge.svg\" alt=\"Open In Colab\"/></a>"
      ]
    },
    {
      "cell_type": "markdown",
      "source": [
        "# 3.2 Removable singularities\n",
        "\n",
        "If $f(z)$ is not defined at $z_0$ then $f(z)$ is not analytic there. If, however, $f(z)$ is defined at every point in a neighbourhood of $z_0$ and\n",
        "\n",
        "$$\n",
        "\t\\lim_{z\\to z_0}f(z)\n",
        "$$\n",
        "\n",
        "exists, then $z_0$ is a removable singularity.\n",
        "\n",
        "To murder the point: $z_0=0$ is known as a \"removable singularity\".\n",
        "\n",
        "```{note}\n",
        "If you don't like limits, another way to look at it is to calculate the Laurent series expansion of $f(z)$ and inspect the types of terms which crop up. We will consider this technique later in the course.\n",
        "```\n",
        "\n",
        "<br>\n",
        "\n",
        "**Example 3.2.1** If $f(z)=\\frac{\\sin z}{z}$, $z_0=0$ is a pole of $f$. The limit as $z\\to z_0$ is $f\\to 1$ and so the singularity at $z_0$ may be removed by redefining:\n",
        "\n",
        "$$\n",
        "\tf(z)=\\begin{cases}\n",
        "\t\t\\frac{\\sin z}{z} & \\text{if}\\ z\\neq 0,\\\\\n",
        "\t\t1 & \\text{at}\\ z=0.\n",
        "\t\\end{cases}\n",
        "$$\n",
        "\n"
      ],
      "metadata": {
        "id": "ijEGSaeBdWTF"
      }
    }
  ]
}