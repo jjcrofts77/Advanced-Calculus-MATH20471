{
  "nbformat": 4,
  "nbformat_minor": 0,
  "metadata": {
    "colab": {
      "name": "Chapter3Intro.ipynb",
      "provenance": [],
      "authorship_tag": "ABX9TyOtMvJxEtsA/xz8zreyxrzh",
      "include_colab_link": true
    },
    "kernelspec": {
      "name": "python3",
      "display_name": "Python 3"
    },
    "language_info": {
      "name": "python"
    }
  },
  "cells": [
    {
      "cell_type": "markdown",
      "metadata": {
        "id": "view-in-github",
        "colab_type": "text"
      },
      "source": [
        "<a href=\"https://colab.research.google.com/github/jjcrofts77/Advanced-Calculus-MATH20471/blob/main/content/notebooks/Part2/Chapter3/Chapter3Intro.ipynb\" target=\"_parent\"><img src=\"https://colab.research.google.com/assets/colab-badge.svg\" alt=\"Open In Colab\"/></a>"
      ]
    },
    {
      "cell_type": "markdown",
      "source": [
        "# Chapter 3 Singularities\n",
        "\n",
        "A singular point of a complex function $f(z)$ is a point in the complex plane at which $f$ is *not* analytic. To be pedantic, earlier in the course, I have used the terms \"analytic\" and \"differentiable\" interchangeably. However, this isn't strictly the case.\n",
        "\n",
        "The derivative of a function exists at $z=z_0$ if \n",
        " \n",
        "$$\n",
        "\\lim_{z\\to z_0}\\frac{f(z)-f(z_0)}{z-z_0}\n",
        "$$\n",
        "\n",
        "exists, independent of the way in which $z\\to z_0$. Such a derivative exists at a point if and only if the Cauchy-Riemann conditions are satisfied. \n",
        "\n",
        "However, a function is \"analytic\" at the point $z_0$ if its derivative exists in some *neighbourhood* of $z_0$. A neighbourhood of a complex number $z_0$ is defined as the disc in the complex plane obeying $|z-z_0|<\\epsilon$ for some small positive number, $\\epsilon$.\n",
        "\n",
        "This may not seem important but, considering the function $f(z)=x^2-iy^2$. Taking the various derivatives:\n",
        "\n",
        "$$\n",
        "\t\\frac{\\partial u}{\\partial x}=2x,\\ \\frac{\\partial u}{\\partial y}=0,\\ \\frac{\\partial v}{\\partial x}=0,\\ \\frac{\\partial v}{\\partial y}=-2y,\n",
        "$$\n",
        "\n",
        "and so the Cauchy-Riemann conditions not satisfied unless $y=-x$. So the first derivative exists only along that line. However, for any non-zero $\\epsilon$, the neighbourhood of any $z_0$ on the line $y=-x$ contains points at which $f$ is not analytic; the function $f(z)=x^2-iy^2$ is nowhere analytic.\n",
        "\n",
        "<br>\n",
        "\n",
        "**Definition 3.0.1** If $f(z)$ is analytic at every point within a set $S\\in \\mathbb{C}$, $f$ is \"analytic on $S$\". If $f(z)$ is analytic at every point within $\\mathbb{C}$, $f$ is \"entire\".\n"
      ],
      "metadata": {
        "id": "YtdL204cE5fb"
      }
    }
  ]
}