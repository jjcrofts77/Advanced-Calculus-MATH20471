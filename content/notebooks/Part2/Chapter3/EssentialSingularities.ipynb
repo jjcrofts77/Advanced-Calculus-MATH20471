{
  "nbformat": 4,
  "nbformat_minor": 0,
  "metadata": {
    "colab": {
      "name": "EssentialSingularities.ipynb",
      "provenance": [],
      "include_colab_link": true
    },
    "kernelspec": {
      "name": "python3",
      "display_name": "Python 3"
    },
    "language_info": {
      "name": "python"
    }
  },
  "cells": [
    {
      "cell_type": "markdown",
      "metadata": {
        "id": "view-in-github",
        "colab_type": "text"
      },
      "source": [
        "<a href=\"https://colab.research.google.com/github/jjcrofts77/Advanced-Calculus-MATH20471/blob/main/content/notebooks/Part2/Chapter3/EssentialSingularities.ipynb\" target=\"_parent\"><img src=\"https://colab.research.google.com/assets/colab-badge.svg\" alt=\"Open In Colab\"/></a>"
      ]
    },
    {
      "cell_type": "markdown",
      "source": [
        "# 3.3 Essential singularities\n",
        "\n",
        "The singularities discussed thus far (*i.e.* poles and removable) are known as \"isolated singularities\" since $\\epsilon>0$ exists such that the neighbourhood of $z_0$ doesn't enclose any other singularities. Put more precisely, defining a deleted $\\epsilon$-neighbourhood by the region:\n",
        "\n",
        "$$\n",
        "\t{0<|z-z_0|<\\epsilon,}\n",
        "$$\n",
        "\n",
        "$z_0$ is an isolated singularity if a deleted $\\epsilon$-neighbourhood can be drawn enclosing no other singular point for $\\epsilon>0$.\n",
        "\n",
        "For example, if $\\displaystyle f(z)=\\frac{3z+2}{(z-i)(z+2)^2}$ then $(z_1,z_2)=(i,-2)$ are poles (of order 1 and 2 respectively). The figure below indicates that for an $\\epsilon$-neighbourhood of radius $\\sqrt{5}/2$, each encloses no other singularity.\n",
        "\n",
        "```{figure} ../../../images/IsolatedSingularities.png\n",
        "---\n",
        "height: 350px\n",
        "---\n",
        "Isolated and essential singularities\n",
        "```\n",
        "\n",
        "**Definition 3.3.1** A singularity which is not a pole or removable singularity is called an *essential singularity*.\n",
        "\n",
        "````{margin}\n",
        "```{note}\n",
        "Technically we should include branch points in the above definition; however, we do not consider such points in this course since the functions we consider are single-valued.\n",
        "```\n",
        "````\n",
        "\n",
        "```{note}\n",
        "Alternatively, we say that any singularity that is **not** *isolated* is an *essential singularity*.\n",
        "```\n",
        "\n",
        "In contrast to the aforementioned singularities, these singularities cannot be removed, since a deleted $\\epsilon$-neighbourhood cannot be drawn which doesn't enclose another singularity.\n",
        "\n",
        "<br>\n",
        "\n",
        "**Example 3.3.1** The function $\\displaystyle f(z)=\\frac{1}{\\sin (z^{-1})}$ has singular points at $z_n=(n\\pi)^{-1}$ ($n=1,2,\\ldots$). In the limit $n\\to\\infty$, $z_n\\to 0$; The last in the sequence of poles $z_\\infty=0$ can never be isolated in an $\\epsilon$-neighbourhood. \n",
        "\n",
        "See the above figure. Again, this can be shown using Laurent series. This will be illustrated later in the course.\n",
        "\n",
        "<br>\n",
        "\n",
        "```{note}\n",
        "If a function is *single-valued* and has a singularity, then the singularity is either a pole or an essential singularity. For this reason a pole is sometimes referred to as a *non-essential singularity*. \n",
        "```"
      ],
      "metadata": {
        "id": "PfdJQo9pHQUs"
      }
    }
  ]
}