{
  "nbformat": 4,
  "nbformat_minor": 0,
  "metadata": {
    "colab": {
      "name": "ComplexFunc.ipynb",
      "provenance": [],
      "authorship_tag": "ABX9TyNWTz8If62HhDd0vtOKylVc",
      "include_colab_link": true
    },
    "kernelspec": {
      "name": "python3",
      "display_name": "Python 3"
    },
    "language_info": {
      "name": "python"
    }
  },
  "cells": [
    {
      "cell_type": "markdown",
      "metadata": {
        "id": "view-in-github",
        "colab_type": "text"
      },
      "source": [
        "<a href=\"https://colab.research.google.com/github/jjcrofts77/Advanced-Calculus-MATH20471/blob/main/content/notebooks/Part2/Chapter1/ComplexFunc.ipynb\" target=\"_parent\"><img src=\"https://colab.research.google.com/assets/colab-badge.svg\" alt=\"Open In Colab\"/></a>"
      ]
    },
    {
      "cell_type": "code",
      "execution_count": null,
      "metadata": {
        "id": "l0OxNevBC0eU"
      },
      "outputs": [],
      "source": [
        ""
      ]
    },
    {
      "cell_type": "markdown",
      "source": [
        "# 1.2 Functions of a complex variable\n",
        "\n",
        "Functions of a complex variable work in an analogous way to functions which operate on real numbers.\n",
        "\n",
        "\\paragraph{Definition:} A function of a complex variable $f(z)$ (where $z=x+iy$) maps $z$ onto another complex variable $w=u+iv$. In general, we write:\n",
        "\\BE\n",
        "\tw= f(z)=u(x,y)+iv(x,y)\n",
        "\\EE\n",
        "\n",
        "Revisiting the examples from previously:\n",
        "\\begin{enumerate}\n",
        "\t\\item $f(z)=z^2$\\\\\n",
        "\t$f(z) = (x+iy)^2 = (x^2-y^2)+i2xy$ and so $u=x^2-y^2$ and $v=2xy$\n",
        "\t\\item $f(z)=\\ov{z}$\\\\\n",
        "\t$f(z) = \\ov{x+iy}=x-iy$ and so $u=x$ and $v=-y$.\n",
        "\\end{enumerate}\n",
        "\n",
        "Another way to think about a function is as a mapping from the Argand plane representing the independent variable $z$ onto the Argand plane representing the dependent variable $w$ (Figure \\ref{mapping}).\n",
        "\n",
        "For example, under the mapping $w=f(z)$ where $f(z)=z^2$, we obtain:\n",
        "\\BEE\n",
        "\tz=0+0i \\longrightarrow w=0+0i,\\\\\n",
        "\tz=1+0i \\longrightarrow w=1+0i,\\\\\n",
        "\tz=0+i \\longrightarrow w=-1+0i,\\\\\n",
        "\tz=3+4i \\longrightarrow w=-7+i24,\n",
        "\\EEE\n",
        "\n",
        "All the standard theorems of continuity of functions apply in the complex plane. For example, if two functions $f_1$ and $f_2$ are continuous in a complex set $X$ then,\n",
        "\\BE\n",
        "\tf_1+f_2,\\ f_1f_2,\\ \\tfrac{f_1}{f_2},\n",
        "\\EE\n",
        "are continuous in $X$.\n",
        "\n",
        "```{figure} ../../../images/ComplexMapping.png\n",
        "---\n",
        "height: 350px\n",
        "---\n",
        "A complex function $f$ as a mapping between $z=x+iy$ and $w=u(x,y)+iv(x,y)$\n",
        "```\n",
        "\n"
      ],
      "metadata": {
        "id": "gBEu70NcNlwX"
      }
    }
  ]
}