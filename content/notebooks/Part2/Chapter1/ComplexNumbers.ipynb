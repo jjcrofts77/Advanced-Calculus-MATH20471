{
  "nbformat": 4,
  "nbformat_minor": 0,
  "metadata": {
    "colab": {
      "name": "ComplexNumbers.ipynb",
      "provenance": [],
      "authorship_tag": "ABX9TyPRNC6Aa/EbjONXhPuuXvpR",
      "include_colab_link": true
    },
    "kernelspec": {
      "name": "python3",
      "display_name": "Python 3"
    },
    "language_info": {
      "name": "python"
    }
  },
  "cells": [
    {
      "cell_type": "markdown",
      "metadata": {
        "id": "view-in-github",
        "colab_type": "text"
      },
      "source": [
        "<a href=\"https://colab.research.google.com/github/jjcrofts77/Advanced-Calculus-MATH20471/blob/main/content/notebooks/Part2/Chapter1/ComplexNumbers.ipynb\" target=\"_parent\"><img src=\"https://colab.research.google.com/assets/colab-badge.svg\" alt=\"Open In Colab\"/></a>"
      ]
    },
    {
      "cell_type": "code",
      "execution_count": null,
      "metadata": {
        "id": "r4jlJd-PDCak"
      },
      "outputs": [],
      "source": [
        ""
      ]
    },
    {
      "cell_type": "markdown",
      "source": [
        "# 1.1 Revision of complex numbers\n",
        "\n",
        "## Notation/definitions\n",
        "\n",
        "- It is conventional to denote complex numbers by $z$;\n",
        "\n",
        "- $z\\in \\mathbb{C}$ means $z$ is complex;\n",
        "\n",
        "- $x\\in \\mathbb{R}$ means $x$ is real;\n",
        "\n",
        "- the imaginary unit is defined: $i=\\sqrt{-1}$; $i^2=-1$;\n",
        "\n",
        "- $i^{-1}=-i$.\n",
        "\n",
        "<br>\n",
        "\n",
        "## Algebraic form\n",
        "\n",
        "A complex number, $z$ can be written:\n",
        "\n",
        "$$\n",
        "\tz=x+iy,\\ x,y\\in\\mathbb{R};\n",
        "$$\n",
        "\n",
        "$x$ is known as the real part of $z$: $\\mathrm{Re}(z)=x$, while $y$ is termed the imaginary part of $z$: $\\mathrm{Im}(z)=y$.\n",
        "\n",
        "Adopting $z_1=x_1+iy_1$ and $z_2=x_2+iy_2$ where necessary, the following results hold\n",
        "\n",
        "1. Equality: $z_1=z_2$ iff $x_1=x_2$ and $y_1=y_2$\n",
        "2. Addition/subtraction: $z_1\\pm z_2 = (x_1\\pm x_2) + i(y_1\\pm y_2)$\n",
        "3. Multiplication:\n",
        " - $k\\in \\mathbb{R}$: $kz = kx+iky$\n",
        " - $z_1z_2 = (x_1+iy_1)(x_2+iy_2) = (x_1x_2-y_1y_2)+i(x_1y_2+x_2y_1)$\n",
        "4. Modulus: $|z| = |x+iy|=\\sqrt{x^2+y^2}$\n",
        "5. Conjugation: The conjugate of a complex number $z$ is denoted $\\bar{z}$: \n",
        " - $\\overline{z}=x-iy$\n",
        " - $z\\overline{z}=x^2+y^2$. **This is REAL.**\n",
        " - $\\overline{z_1 + z_2} = \\overline{z_1} + \\overline{z_2}$\n",
        " - $\\overline{z_1 z_2} = \\overline{z_1}\\, \\overline{z_2}$\n",
        " - $|\\overline{z}|=|{z}|$\n",
        "6. Inverse: $\\displaystyle z^{-1} = \\frac{1}{x+iy} = \\frac{x-iy}{x^2+y^2}$\n",
        "7. Division: $\\frac{z_1}{z_2}=z_1z_2^{-1}$, so using the previous result, \n",
        "\n",
        "$$\n",
        "\\frac{z_1}{z_2}=\\frac{(x_1+iy_1)(x_2-iy_2)}{x_2^2+y_2^2}=\\frac{x_1x_2 + y_1y_2 + i(x_2y_1-x_1y_2)}{x_2^2+y_2^2}\n",
        "$$\n",
        "\n",
        "**Method for inversion and division: multiply numerator and denominator by the conjugate of the denominator. This ensures that the denominator is real and the result can be written in the standard form $x+iy$**\n",
        "\n",
        "<br>\n",
        "```{note}\n",
        "Complex numbers cannot be ordered in the same way as real numbers: $z_1>z_2$ has no meaning (\\emph{cf.} vectors); however, $|z_1|>|z_2|$,  $\\mathrm{Re}(z_1)>\\mathrm{Re}(z_2)$,  $\\mathrm{Im}(z_1)>\\mathrm{Im}(z_2)$ do. \n",
        "```\n",
        "\n",
        "<br>\n",
        "\n",
        "## Argand diagram\n",
        "\n",
        "<br>\n",
        "The complex number $z=x+iy$ can be understood in terms of a plot in Cartesian space: the real part of $z$ is plotted on the $x$-axis, the imaginary part on the $y$-axis. Simple trigonometry then gives us a series of important results.\n",
        "\n",
        "```{figure} ../../../images/ArgandDiagram.png\n",
        "---\n",
        "height: 500px\n",
        "---\n",
        "Solutions for the ODE in Example 1.2.2\n",
        "```\n"
      ],
      "metadata": {
        "id": "ztGnH76JDkks"
      }
    }
  ]
}