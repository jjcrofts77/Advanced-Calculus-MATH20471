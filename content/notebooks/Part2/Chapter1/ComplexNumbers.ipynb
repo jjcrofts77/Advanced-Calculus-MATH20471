{
  "nbformat": 4,
  "nbformat_minor": 0,
  "metadata": {
    "colab": {
      "name": "ComplexNumbers.ipynb",
      "provenance": [],
      "authorship_tag": "ABX9TyOgxyECvQmSXk+ZmtO+srXr",
      "include_colab_link": true
    },
    "kernelspec": {
      "name": "python3",
      "display_name": "Python 3"
    },
    "language_info": {
      "name": "python"
    }
  },
  "cells": [
    {
      "cell_type": "markdown",
      "metadata": {
        "id": "view-in-github",
        "colab_type": "text"
      },
      "source": [
        "<a href=\"https://colab.research.google.com/github/jjcrofts77/Advanced-Calculus-MATH20471/blob/main/content/notebooks/Part2/Chapter1/ComplexNumbers.ipynb\" target=\"_parent\"><img src=\"https://colab.research.google.com/assets/colab-badge.svg\" alt=\"Open In Colab\"/></a>"
      ]
    },
    {
      "cell_type": "code",
      "execution_count": null,
      "metadata": {
        "id": "r4jlJd-PDCak"
      },
      "outputs": [],
      "source": [
        ""
      ]
    },
    {
      "cell_type": "markdown",
      "source": [
        "# 1.1 Revision of complex numbers\n",
        "\n",
        "## Notation/definitions\n",
        "\n",
        "- It is conventional to denote complex numbers by $z$;\n",
        "\n",
        "- $z\\in \\mathbb{C}$ means $z$ is complex;\n",
        "\n",
        "- $x\\in \\mathbb{R}$ means $x$ is real;\n",
        "\n",
        "- the imaginary unit is defined: $i=\\sqrt{-1}$; $i^2=-1$;\n",
        "\n",
        "- $i^{-1}=-i$.\n",
        "\n",
        "<br>\n",
        "\n",
        "## Algebraic form\n",
        "\n",
        "A complex number, $z$ can be written:\n",
        "\n",
        "$$\n",
        "\tz=x+iy,\\ x,y\\in\\mathbb{R};\n",
        "$$\n",
        "\n",
        "$x$ is known as the real part of $z$: $\\mathrm{Re}(z)=x$, while $y$ is termed the imaginary part of $z$: $\\mathrm{Im}(z)=y$.\n",
        "\n",
        "Adopting $z_1=x_1+iy_1$ and $z_2=x_2+iy_2$ where necessary, the following results hold"
      ],
      "metadata": {
        "id": "ztGnH76JDkks"
      }
    }
  ]
}