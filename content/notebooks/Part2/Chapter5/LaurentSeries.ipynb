{
  "nbformat": 4,
  "nbformat_minor": 0,
  "metadata": {
    "colab": {
      "name": "LaurentSeries.ipynb",
      "provenance": [],
      "authorship_tag": "ABX9TyP8xYgU6MdayieGyQaI1Yps",
      "include_colab_link": true
    },
    "kernelspec": {
      "name": "python3",
      "display_name": "Python 3"
    },
    "language_info": {
      "name": "python"
    }
  },
  "cells": [
    {
      "cell_type": "markdown",
      "metadata": {
        "id": "view-in-github",
        "colab_type": "text"
      },
      "source": [
        "<a href=\"https://colab.research.google.com/github/jjcrofts77/Advanced-Calculus-MATH20471/blob/main/content/notebooks/Part2/Chapter5/LaurentSeries.ipynb\" target=\"_parent\"><img src=\"https://colab.research.google.com/assets/colab-badge.svg\" alt=\"Open In Colab\"/></a>"
      ]
    },
    {
      "cell_type": "markdown",
      "source": [
        "# Laurent series\n",
        "\n",
        "It has been demonstrated above that a function $f(z)$ of a complex variable $z$ can be expanded as a Taylor series around the point $z=z_0$ in a similar way to the function $f(x)$ of a real variable $x$. The resulting series will be convergent within some circular region of $\\mathbb{C}$: $|z-z_0|<R$, where $R$ is the radius of convergence. \n",
        "\n",
        "However, this region is almost always only part of the entire region in which the function $f(z)$ is analytic. For example, above, we obtained the series"
      ],
      "metadata": {
        "id": "y55CpNxMw0S-"
      }
    }
  ]
}