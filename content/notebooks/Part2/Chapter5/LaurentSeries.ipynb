{
  "nbformat": 4,
  "nbformat_minor": 0,
  "metadata": {
    "colab": {
      "name": "LaurentSeries.ipynb",
      "provenance": [],
      "authorship_tag": "ABX9TyOh1dA/GxKeszv76Qn0NKzO",
      "include_colab_link": true
    },
    "kernelspec": {
      "name": "python3",
      "display_name": "Python 3"
    },
    "language_info": {
      "name": "python"
    }
  },
  "cells": [
    {
      "cell_type": "markdown",
      "metadata": {
        "id": "view-in-github",
        "colab_type": "text"
      },
      "source": [
        "<a href=\"https://colab.research.google.com/github/jjcrofts77/Advanced-Calculus-MATH20471/blob/main/content/notebooks/Part2/Chapter5/LaurentSeries.ipynb\" target=\"_parent\"><img src=\"https://colab.research.google.com/assets/colab-badge.svg\" alt=\"Open In Colab\"/></a>"
      ]
    },
    {
      "cell_type": "markdown",
      "source": [
        "# 5.3 Laurent series\n",
        "\n",
        "It has been demonstrated above that a function $f(z)$ of a complex variable $z$ can be expanded as a Taylor series around the point $z=z_0$ in a similar way to the function $f(x)$ of a real variable $x$. The resulting series will be convergent within some circular region of $\\mathbb{C}$: $|z-z_0|<R$, where $R$ is the radius of convergence. \n",
        "\n",
        "However, this region is almost always only part of the entire region in which the function $f(z)$ is analytic. For example, above, we obtained the series\n",
        "\n",
        "$$\n",
        "\tf(z)=\\frac{1}{1+z}=\\sum_{n=0}^\\infty (-1)^n z^n.\n",
        "$$\n",
        "\n",
        "but this only converges to $f$ for $|z|<1$, even though the only point at which $f$ fails to be analytic is at $z=-1$.\n",
        "\n",
        "To address this, we employ **Laurent series**. These are a generalisation of Taylor series which involve negative powers as well as positive powers. In general, such a series converges over an annulus $R_1<|z-z_0|<R_2$. \n",
        "\n",
        "Clearly then, if there is only one singularity, we can isolate this within the inner region $|z-z_0|<R_1$ and the series converges in the remainder of the domain ($R_2\\to \\infty$).\n",
        "\n",
        "## Laurent's theorem\n",
        "\n",
        "If $f(z)$ is analytic within the annular region $R_1<|z-z_0|<R_2$ then $f(z)$ can be represented as the series:\n",
        "\n",
        "$$\n",
        "\tf(z) = \\sum_{n=-\\infty}^{\\infty} d_n(z-z_0)^n;\\quad d_n = \\frac{1}{2\\pi i}\\oint_\\mathscr{C} \\frac{f(z)}{(z-z_0)^{n+1}}\\mathrm{d} z\n",
        "$$ (Laurent)\n",
        "\n",
        "where the path $\\mathscr{C}$ is an appropriate contour within the annulus.\n",
        "\n",
        "Notes:\n",
        "\n",
        "1. This series is sometimes split into the form:\n",
        "\n",
        "$$\n",
        "f(z)&=&\\sum_{n=0}^{\\infty} a_n(z-z_0)^n + \\sum_{n=-\\infty}^{-1} {b_n}{(z-z_0)^n};\\\\\n",
        "a_n &=& \\f{1}{2\\pi i}\\oint_{\\mathscr{C}_2} \\f{f(z)}{(z-z_0)^{n+1}}\\ud z:\\quad n=0,1,2,\\ldots;\\\\ \n",
        "b_n &=& \\f{1}{2\\pi i}\\oint_{\\mathscr{C}_1} \\f{f(z)}{(z-z_0)^{n+1}}\\ud z:\\quad n=-1,-2,\\ldots;\\\\\n",
        "\t& &{\\mathscr{C}_1}: |z-z_0|=R_1,\\quad {\\mathscr{C}_2}: |z-z_0|=R_2\\ (R_2>R_1)\n",
        "$$\n",
        "\n",
        "2. The integral in (\\ref{Laurent}) is equivalent to the appearance of the $n^{th}$ derivative in the Taylor series (for $n\\geqslant0$); *i.e.*\n",
        "\n",
        "$$\n",
        "f^{(n)}(z_0)=\\frac{n!}{2i\\pi}\\oint_{\\mathscr{C}}\\frac{f(z)}{(z-z_0)^{n+1}}\\mathrm{d} z\n",
        "$$\n",
        "\n",
        "This is known as Cauchy's derivative formula and the complex Taylor series is often written this way.\n",
        "\n",
        "The proof of Laurent's theorem is a little complicated so we won't go through it. It involves evaluating a series of integrals of the type given above which can be hard. To determine the coefficients $a_n$ and $b_n$ using the formula defined above, one also needs to evaluate such integrals; however, with a little manipulation, for certain functions $f(z)$, we can exploit known Taylor and binomial series to obtain the Laurent series for a given function $f(z)$\n"
      ],
      "metadata": {
        "id": "y55CpNxMw0S-"
      }
    }
  ]
}
