{
  "nbformat": 4,
  "nbformat_minor": 0,
  "metadata": {
    "colab": {
      "name": "Chapter5Intro.ipynb",
      "provenance": [],
      "authorship_tag": "ABX9TyOTAVQAqxcKPGcBHxy6YN/+",
      "include_colab_link": true
    },
    "kernelspec": {
      "name": "python3",
      "display_name": "Python 3"
    },
    "language_info": {
      "name": "python"
    }
  },
  "cells": [
    {
      "cell_type": "markdown",
      "metadata": {
        "id": "view-in-github",
        "colab_type": "text"
      },
      "source": [
        "<a href=\"https://colab.research.google.com/github/jjcrofts77/Advanced-Calculus-MATH20471/blob/main/content/notebooks/Part2/Chapter5/Chapter5Intro.ipynb\" target=\"_parent\"><img src=\"https://colab.research.google.com/assets/colab-badge.svg\" alt=\"Open In Colab\"/></a>"
      ]
    },
    {
      "cell_type": "markdown",
      "source": [
        "# 5 Taylor and Laurent series expansions of complex funcitons\n",
        "\n",
        "In previous modules, you should have come across Taylor series expansions; these are series expansions of a function $f(x)$ about the point $x=x_0$ of the form:\n",
        "\n",
        "$$\n",
        "\tf(x)=\\sum_{n=0}^{\\infty}\\frac{f^{(n)}(x_0)}{n!}\\left(x-x_0\\right)^n,\n",
        "$$\n",
        "\n",
        "where $f^{(n)}(x)$ indicates the $n^{th}$ derivative of $f(x)$. The Maclaurin series is the expansion around $x_0=0$.\n",
        "\n",
        "Some example Maclaurin series which might be familiar to you are:\n",
        "\n",
        "$$\n",
        "\t\\sin(x) &=& x-\\f{x^3}{3!}+\\f{x^5}{5!}+\\mathcal{O}(x^7),\\\\\n",
        "\te^x \t&=& 1+x+\\f{x^2}{2}+\\f{x^3}{3!}+\\mathcal{O}(x^4),\\\\\n",
        "\t(1+x)^p &=& 1+px+\\f{p(p-1)x^2}{2}+\\f{p(p-1)(p-2)x^3}{3!}+\\mathcal{O}(x^4),\\\\\n",
        "\t\\mathrm{ln}(1+x) &=& x-\\f{x^2}{2}+\\f{x^3}{3}-\\f{x^4}{4}+\\mathcal{O}(x^5),\n",
        "$$\n",
        "\n",
        "and the Taylor series expansion of $f(x)=x^{-1}$ about $x_0=1$ is\n",
        "\n",
        "$$\n",
        "\t\\frac{1}{x} = 1-(x-1)+(x-1)^2-(x-1)^3+\\ldots\n",
        "$$\n",
        "\n",
        "The range of $x$ for which the Taylor (or Maclaurin) series converges to represent the function $f(x)$ is the interval of convergence. \n",
        "\n",
        "For instance, $\\sin(x)$ and $e^x$ converge for all $x$, while $1/(1+x)$ and $\\mathrm{ln}(1+x)$ converge only if $|x|<1$. \n",
        "\n",
        "Similarly, $1/x$ converges for $|x-1|<1$.\n",
        "\n",
        "As we shall see in this chapter, many of the results from real variable calculus carry over to complex variable analysis."
      ],
      "metadata": {
        "id": "aw5tYkE4vYAg"
      }
    }
  ]
}