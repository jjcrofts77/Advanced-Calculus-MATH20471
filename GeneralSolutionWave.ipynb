{
  "nbformat": 4,
  "nbformat_minor": 0,
  "metadata": {
    "colab": {
      "name": "GeneralSolutionWave.ipynb",
      "provenance": [],
      "authorship_tag": "ABX9TyNfkVIzbfKeRv9Jp8srQu0z",
      "include_colab_link": true
    },
    "kernelspec": {
      "name": "python3",
      "display_name": "Python 3"
    },
    "language_info": {
      "name": "python"
    }
  },
  "cells": [
    {
      "cell_type": "markdown",
      "metadata": {
        "id": "view-in-github",
        "colab_type": "text"
      },
      "source": [
        "<a href=\"https://colab.research.google.com/github/jjcrofts77/Advanced-Calculus-MATH20471/blob/main/GeneralSolutionWave.ipynb\" target=\"_parent\"><img src=\"https://colab.research.google.com/assets/colab-badge.svg\" alt=\"Open In Colab\"/></a>"
      ]
    },
    {
      "cell_type": "markdown",
      "metadata": {
        "id": "ShilA7CwTiVm"
      },
      "source": [
        "# 4.5 The general solution of the wave equation"
      ]
    }
  ]
}