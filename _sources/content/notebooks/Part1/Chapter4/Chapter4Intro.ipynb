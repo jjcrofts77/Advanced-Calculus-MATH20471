{
  "nbformat": 4,
  "nbformat_minor": 0,
  "metadata": {
    "colab": {
      "name": "Chapter4Intro.ipynb",
      "provenance": [],
      "authorship_tag": "ABX9TyPDu0lA08UD2hgPcDx7dfvw",
      "include_colab_link": true
    },
    "kernelspec": {
      "name": "python3",
      "display_name": "Python 3"
    },
    "language_info": {
      "name": "python"
    }
  },
  "cells": [
    {
      "cell_type": "markdown",
      "metadata": {
        "id": "view-in-github",
        "colab_type": "text"
      },
      "source": [
        "<a href=\"https://colab.research.google.com/github/jjcrofts77/Advanced-Calculus-MATH20471/blob/main/content/notebooks/Part1/Chapter4/Chapter4Intro.ipynb\" target=\"_parent\"><img src=\"https://colab.research.google.com/assets/colab-badge.svg\" alt=\"Open In Colab\"/></a>"
      ]
    },
    {
      "cell_type": "markdown",
      "metadata": {
        "id": "RionONQi_10h"
      },
      "source": [
        "# Chapter 4 The Wave Equation\n",
        "\n",
        "In this chapter we look at the *wave equation*, \n",
        "\n",
        "$$\n",
        "\\frac{\\partial^2 u}{\\partial t^2} = c^2\\frac{\\partial^2 u}{\\partial x^2}\n",
        "$$\n",
        "\n",
        "concentrating on applications to waves on strings. \n",
        "\n",
        "We discuss methods for solution and also uniqueness of solutions."
      ]
    }
  ]
}