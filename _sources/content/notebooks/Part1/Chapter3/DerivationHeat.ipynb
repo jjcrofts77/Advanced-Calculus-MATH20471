{
  "nbformat": 4,
  "nbformat_minor": 0,
  "metadata": {
    "colab": {
      "name": "DerivationHeat.ipynb",
      "provenance": [],
      "authorship_tag": "ABX9TyPkhkrymoGvdnJ2INMoibry",
      "include_colab_link": true
    },
    "kernelspec": {
      "name": "python3",
      "display_name": "Python 3"
    },
    "language_info": {
      "name": "python"
    }
  },
  "cells": [
    {
      "cell_type": "markdown",
      "metadata": {
        "id": "view-in-github",
        "colab_type": "text"
      },
      "source": [
        "<a href=\"https://colab.research.google.com/github/jjcrofts77/Advanced-Calculus-MATH20471/blob/main/content/notebooks/Part1/Chapter3/DerivationHeat.ipynb\" target=\"_parent\"><img src=\"https://colab.research.google.com/assets/colab-badge.svg\" alt=\"Open In Colab\"/></a>"
      ]
    },
    {
      "cell_type": "markdown",
      "metadata": {
        "id": "gwi_NerT1VKK"
      },
      "source": [
        "# 3.1 Derivation in One Space Dimension (optional)\n",
        "\n",
        "Our derivation will build upon the following model assumptions:\n",
        "\n",
        "1. Heat flows in the direction of decreasing temperature.\n",
        "2. Heat flow is proportional to the temperature gradient (*Fourier's law*).\n",
        "3. No heat is generated or lost by chemical or electrical processes *energy conservation*).\n",
        "  \n",
        "\n",
        "Under the above conditions we have that, given an arbitrary volume $V$, the heat crossing the boundary will equate to the change of heat within the solid, which results in the following equation\n",
        "\n",
        "$$\n",
        " \\int_V{\\rho d\\frac{\\partial\\theta}{\\partial t}\\mathrm{d}V} = \\int_S{k\\nabla\\theta\\cdot\\mathrm{d}\\mathbf{S}}.\n",
        "$$\n",
        "\n",
        "Here $\\mathrm{d}\\mathbf{S}=\\mathbf{n}\\mathrm{d}S$ were $\\mathbf{n}$ is the unit outward normal to the surface $S$ of $V$ and $\\mathrm{d}S$ is a surface element, $\\theta$ is the temperature, $k$ the thermal conductivity, $\\rho$ the density and $d$ the specific heat. Recall that given a scalar function $u(x,y,z)$\n",
        "\n",
        "$$\n",
        " \\nabla u = \\left[\\frac{\\partial u}{\\partial x}, \\frac{\\partial u}{\\partial y},\n",
        "\\frac{\\partial u}{\\partial z}\\right],\n",
        "$$\n",
        "\n",
        "is the gradient vector.\n",
        "\n",
        "The integral over the surface $S$ can be converted to a volume integral by the *divergence theorem* to give\n",
        "\n",
        "$$\n",
        "  \\int_V{\\rho d\\frac{\\partial\\theta}{\\partial t}\\mathrm{d}V} =\n",
        "\\int_V{\\nabla\\cdot(k\\nabla\\theta) \\mathrm{d}V}.\n",
        "$$\n",
        "\n",
        "However, this equation is valid for an arbitrary volume $V$ and therefore the integrands themselves must be equal\n",
        "\n",
        "$$\n",
        " \\rho d\\frac{\\partial\\theta}{\\partial t} = k\\nabla^2\\theta.\n",
        "$$\n",
        "\n",
        "Note here we have assumed that $k$ is time-independent, i.e., a constant. Often we will group the constants together as $\\kappa = k/\\rho{d}$ as in the $1$-d example below\n",
        "\n",
        "$$\n",
        " \\frac{\\partial\\theta}{\\partial t} = \\kappa\\frac{\\partial^2\\theta}{\\partial x^2}.\n",
        "$$\n",
        "\n"
      ]
    },
    {
      "cell_type": "code",
      "metadata": {
        "id": "RTVMNezk191E"
      },
      "source": [
        ""
      ],
      "execution_count": null,
      "outputs": []
    }
  ]
}
