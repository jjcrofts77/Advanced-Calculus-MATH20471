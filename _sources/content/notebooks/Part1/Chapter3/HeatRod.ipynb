{
  "nbformat": 4,
  "nbformat_minor": 0,
  "metadata": {
    "colab": {
      "name": "HeatRod.ipynb",
      "provenance": [],
      "authorship_tag": "ABX9TyNn12dy9DPRvKzeuwgSEJmX",
      "include_colab_link": true
    },
    "kernelspec": {
      "name": "python3",
      "display_name": "Python 3"
    },
    "language_info": {
      "name": "python"
    }
  },
  "cells": [
    {
      "cell_type": "markdown",
      "metadata": {
        "id": "view-in-github",
        "colab_type": "text"
      },
      "source": [
        "<a href=\"https://colab.research.google.com/github/jjcrofts77/Advanced-Calculus-MATH20471/blob/main/content/notebooks/Part1/Chapter3/HeatRod.ipynb\" target=\"_parent\"><img src=\"https://colab.research.google.com/assets/colab-badge.svg\" alt=\"Open In Colab\"/></a>"
      ]
    },
    {
      "cell_type": "markdown",
      "metadata": {
        "id": "N2ObmLFw21w-"
      },
      "source": [
        "# 3.2 Heat Conduction in a Finite Rod\n",
        "\n",
        "Let the rod occupy the interval $[0,L]$. If we look for solutions of the heat equation \n",
        "\n",
        "$$\n",
        "\\frac{\\partial T}{\\partial t} = \\kappa\\frac{\\partial^2T}{\\partial x^2},\n",
        "$$ (heateqn)\n",
        "\n",
        "which are separable, $T(x,t) = F(x)G(t)$, we find that\n",
        "\n",
        "$$\n",
        "\\underbrace{\\frac{\\kappa}{F(x)} F''(x)}_\\text{independent of $t$} = \\underbrace{\\frac{1}{G(t)}G'(t)}_\\text{independent of $x$},\n",
        "$$\n",
        "\n",
        "and hence both sides are constant (independent of both $x$ and $t$). \n",
        "\n",
        "If the constant is $-\\kappa\\lambda^2$, $F(x)$ satisfies the ODE\n",
        "\n",
        "$$\n",
        " F''(x) = -\\lambda^2F(x),\n",
        "$$\n",
        "\n",
        "the solution of which is\n",
        "\n",
        "$$\n",
        "F(x) = A\\sin(\\lambda x) + B\\cos(\\lambda x).\n",
        "$$\n",
        "\n",
        "If the ends are held at zero temperature then $F(0)=F(L)=0$. The boundary condition at $x=0$ gives $B=0$ and the boundary condition at $x=L$ gives\n",
        "\n",
        "$$\n",
        "A\\sin(\\lambda L) = 0.\n",
        "$$\n",
        "\n",
        "Since we want $A\\neq 0$ to avoid a non-trivial solution, it must be that $\\sin(\\lambda L) = 0$ *i.e.* $\\lambda$ must be such that $\\lambda L = n\\pi$ where $n$ is a positive integer. Hence $\\lambda$ must be one of the numbers\n",
        "\n",
        "$$\n",
        " \\left\\{\\frac{n\\pi}{L}: n=1,2,3,\\ldots\\right\\}.\n",
        "$$\n",
        "\n",
        "Moreover, $G(t)$ satisfies the ODE\n",
        "\n",
        "$$\n",
        " G'(t) = -\\kappa\\lambda^2G(t) = -\\frac{\\kappa n^2\\pi^2}{L^2}G(t),\n",
        "$$\n",
        "\n",
        "and, therefore, $\\displaystyle G(t)\\propto e^{-n^2\\pi^2\\kappa t/L^2}$. Hence we have the separable solution\n",
        "\n",
        "$$\n",
        " T_n(x,t) = a_n\\sin\\left(\\frac{n\\pi x}{L}\\right)e^{-n^2\\pi^2\\kappa t/L^2},\n",
        "$$\n",
        "\n",
        "which satisfies the heat equation {eq}`heateqn` and the boundary conditions\n",
        "\n",
        "$$\n",
        " T(0,t) = 0 \\text{ and } T(L,t)=0 \\text{ for } t>0.\n",
        "$$\n",
        "\n",
        "The general solution can therefore be written as a linear combination of the $T_n$ so that\n",
        "\n",
        "$$\n",
        " T(x,t) = \\sum_{n=1}^\\infty a_n\\sin\\left(\\frac{n\\pi x}{L}\\right)e^{-n^2\\pi^2\\kappa t/L^2}.\n",
        "$$"
      ]
    }
  ]
}