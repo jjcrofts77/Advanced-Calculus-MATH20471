{
  "nbformat": 4,
  "nbformat_minor": 0,
  "metadata": {
    "colab": {
      "name": "Chapter3Intro.ipynb",
      "provenance": [],
      "authorship_tag": "ABX9TyOIAX/Ce3pH6zSJEfGcCLxU",
      "include_colab_link": true
    },
    "kernelspec": {
      "name": "python3",
      "display_name": "Python 3"
    },
    "language_info": {
      "name": "python"
    }
  },
  "cells": [
    {
      "cell_type": "markdown",
      "metadata": {
        "id": "view-in-github",
        "colab_type": "text"
      },
      "source": [
        "<a href=\"https://colab.research.google.com/github/jjcrofts77/Advanced-Calculus-MATH20471/blob/main/content/notebooks/Part1/Chapter3/Chapter3Intro.ipynb\" target=\"_parent\"><img src=\"https://colab.research.google.com/assets/colab-badge.svg\" alt=\"Open In Colab\"/></a>"
      ]
    },
    {
      "cell_type": "markdown",
      "metadata": {
        "id": "39xkChnF0VpL"
      },
      "source": [
        "# Chapter 3 The Heat Equation\n",
        "\n",
        "In this chapter we shall look at the *heat equation* in one space dimension, \n",
        "\n",
        "$$\n",
        " \\frac{\\partial u}{\\partial t} = \\kappa \\frac{\\partial^2u}{\\partial x^2}, \\kappa>0.\n",
        "$$\n",
        "\n",
        "This equation is also known as the *diffusion equation*.\n",
        "\n",
        "In this Chapter we shall derive the equation from first principles before  considering some techniques for solving it. "
      ]
    }
  ]
}