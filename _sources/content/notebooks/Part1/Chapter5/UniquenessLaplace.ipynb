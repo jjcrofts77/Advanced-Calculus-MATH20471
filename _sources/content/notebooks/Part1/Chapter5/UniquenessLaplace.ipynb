{
  "nbformat": 4,
  "nbformat_minor": 0,
  "metadata": {
    "colab": {
      "name": "UniquenessLaplace.ipynb",
      "provenance": [],
      "authorship_tag": "ABX9TyMTCGO0KBwn3gQwunRP8Z3o",
      "include_colab_link": true
    },
    "kernelspec": {
      "name": "python3",
      "display_name": "Python 3"
    },
    "language_info": {
      "name": "python"
    }
  },
  "cells": [
    {
      "cell_type": "markdown",
      "metadata": {
        "id": "view-in-github",
        "colab_type": "text"
      },
      "source": [
        "<a href=\"https://colab.research.google.com/github/jjcrofts77/Advanced-Calculus-MATH20471/blob/main/content/notebooks/Part1/Chapter5/UniquenessLaplace.ipynb\" target=\"_parent\"><img src=\"https://colab.research.google.com/assets/colab-badge.svg\" alt=\"Open In Colab\"/></a>"
      ]
    },
    {
      "cell_type": "markdown",
      "metadata": {
        "id": "c5NqALdWjhwP"
      },
      "source": [
        "# 5.3 Uniqueness (optional)\n",
        "\n",
        "Uniqueness is established with the aid of *Green's Theorem*:\n",
        "\n",
        "<br>\n",
        "\n",
        ">**Theorem 5.1 (Green's theorem)** If $R$ is a bounded and connected plane region whose boundary $\\partial R$ is the union $C_1\\bigcup\\ldots \\bigcup C_n$ of a finite number of simple closed curves, oriented so that $R$ is on the left, and if $p(x,y)$ and $q(x,y)$ are continuous and have continuous first derivatives on $R\\bigcup\\partial R$, then\n",
        ">\n",
        ">$$\n",
        " \\int_{\\partial R}p\\mathrm{d}x+q\\mathrm{d}y = \\int\\int_R\\left(\\frac{\\partial q}{\\partial x}-\\frac{\\partial p}{\\partial y}\\right)\\mathrm{d}x\\mathrm{d}y.\n",
        "$$\n",
        "\n",
        "<br>\n",
        "\n",
        "We consider uniqueness of solutions to the *Dirichlet problem*, working in Cartesian coordiantes.\n",
        "\n",
        "<br>\n",
        "\n",
        ">**Theorem 5.2** Consider the BVP\n",
        ">\n",
        "$$\n",
        "\\frac{\\partial^2 T}{\\partial x^2}+\\frac{\\partial^2 T}{\\partial y^2} = 0 \\text{ in } R, \\quad T=f \\text{ on } \\partial R,\n",
        "$$\n",
        ">\n",
        ">where $f$ is a prescribed function and $R$ is a bounded and connected region as in the statement of Green's theorem. Then the BVP has at most one solution.\n",
        "\n",
        "<br>\n",
        "\n",
        ">**Proof**\n",
        ">\n",
        ">Let $S$ be a solution, so that\n",
        ">\n",
        ">$$\n",
        "\\frac{\\partial^2 S}{\\partial x^2}+\\frac{\\partial^2 S}{\\partial y^2} = 0 \\text{ in } R, \\quad S=f \\text{ on } \\partial R.\n",
        "$$\n",
        ">\n",
        ">Then the difference $W:=T-S$ is a solution to the BVP\n",
        ">$$\n",
        "\\frac{\\partial^2 W}{\\partial x^2}+\\frac{\\partial^2 W}{\\partial y^2} = 0 \\text{ in } R, \\quad W=0 \\text{ on } \\partial R.\n",
        "$$\n",
        ">\n",
        ">Consider the identity\n",
        ">\n",
        ">$$\n",
        "W\\left(\\frac{\\partial^2 W}{\\partial x^2}+\\frac{\\partial^2 W}{\\partial y^2}\\right) + \\left(\\frac{\\partial W}{\\partial x}\\right)^2+ \\left(\\frac{\\partial W}{\\partial y}\\right)^2 = \\frac{\\partial}{\\partial x}\\left(W\\frac{\\partial W}{\\partial x}\\right)+\\frac{\\partial}{\\partial y}\\left(W\\frac{\\partial W}{\\partial y}\\right).\n",
        "$$\n",
        ">\n",
        ">Integrate both sides over $R$ and appeal to Laplace's equation and Green's theorem to find that\n",
        ">\n",
        ">$$\n",
        "\\int\\int_R\\left[\\left(\\frac{\\partial W}{\\partial x}\\right)^2+ \\left(\\frac{\\partial W}{\\partial y}\\right)^2\\right]\\mathrm{d}x\\mathrm{d}y&=\\int\\int_R\\left[\\frac{\\partial}{\\partial x}\\left(W\\frac{\\partial W}{\\partial x}\\right)+\\frac{\\partial}{\\partial y}\\left(W\\frac{\\partial W}{\\partial y}\\right)\\right]\\mathrm{d}x\\mathrm{d}y\\\\\n",
        "&= \\int_{\\partial R}\\left[-W\\frac{\\partial W}{\\partial y}\\mathrm{d}x+W\\frac{\\partial W}{\\partial x}\\mathrm{d}y\\right].\n",
        "$$\n",
        ">\n",
        ">Since $W=0$ on $\\partial R$ the line integral must vanish and so\n",
        ">\n",
        ">$$\n",
        "\\int\\int_R\\left[\\left(\\frac{\\partial W}{\\partial x}\\right)^2+\\left(\\frac{\\partial W}{\\partial y}\\right)^2\\right]\\mathrm{d}x\\mathrm{d}y=0.\n",
        "$$\n",
        ">\n",
        ">This is possible only if $\\partial W/\\partial x=0$ and $\\partial W/\\partial y=0$ in $R$. Hence $W$ is constant and since $W=0$ on $\\partial R$ the constant can only equal zero. Hence $T=S$ and the solution is unique. $\\quad \\blacksquare$"
      ]
    }
  ]
}