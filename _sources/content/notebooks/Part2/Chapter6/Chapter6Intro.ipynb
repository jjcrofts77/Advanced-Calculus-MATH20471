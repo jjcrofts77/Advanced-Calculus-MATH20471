{
  "nbformat": 4,
  "nbformat_minor": 0,
  "metadata": {
    "colab": {
      "name": "Chapter6Intro.ipynb",
      "provenance": [],
      "authorship_tag": "ABX9TyOE/v7spFevwmSOiENAW+QJ",
      "include_colab_link": true
    },
    "kernelspec": {
      "name": "python3",
      "display_name": "Python 3"
    },
    "language_info": {
      "name": "python"
    }
  },
  "cells": [
    {
      "cell_type": "markdown",
      "metadata": {
        "id": "view-in-github",
        "colab_type": "text"
      },
      "source": [
        "<a href=\"https://colab.research.google.com/github/jjcrofts77/Advanced-Calculus-MATH20471/blob/main/content/notebooks/Part2/Chapter6/Chapter6Intro.ipynb\" target=\"_parent\"><img src=\"https://colab.research.google.com/assets/colab-badge.svg\" alt=\"Open In Colab\"/></a>"
      ]
    },
    {
      "cell_type": "markdown",
      "source": [
        "# Chapter 6 Residues in complex variable analysis\n",
        "\n",
        "In this chapter we shall use the theory of complex analysis to compute certain real integrals that arise in engineering and scientific applications. "
      ],
      "metadata": {
        "id": "ccBDCpqOyNDb"
      }
    }
  ]
}