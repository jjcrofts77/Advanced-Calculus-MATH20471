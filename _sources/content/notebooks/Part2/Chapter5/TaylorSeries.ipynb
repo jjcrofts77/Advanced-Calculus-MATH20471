{
  "nbformat": 4,
  "nbformat_minor": 0,
  "metadata": {
    "colab": {
      "name": "TaylorSeries.ipynb",
      "provenance": [],
      "authorship_tag": "ABX9TyOZB/M3t+208fSpUHUbESih",
      "include_colab_link": true
    },
    "kernelspec": {
      "name": "python3",
      "display_name": "Python 3"
    },
    "language_info": {
      "name": "python"
    }
  },
  "cells": [
    {
      "cell_type": "markdown",
      "metadata": {
        "id": "view-in-github",
        "colab_type": "text"
      },
      "source": [
        "<a href=\"https://colab.research.google.com/github/jjcrofts77/Advanced-Calculus-MATH20471/blob/main/content/notebooks/Part2/Chapter5/TaylorSeries.ipynb\" target=\"_parent\"><img src=\"https://colab.research.google.com/assets/colab-badge.svg\" alt=\"Open In Colab\"/></a>"
      ]
    },
    {
      "cell_type": "markdown",
      "source": [
        "# 5.1 Revision of Taylor series\n",
        "\n",
        "In previous modules, you should have come across Taylor series expansions; these are series expansions of a function f(x) about the point x=x0 of the form:\n",
        "\n",
        "f(x)=∑n=0∞f(n)(x0)n!(x−x0)n,\n",
        "\n",
        "where f(n)(x) indicates the nth derivative of f(x). The Maclaurin series is the expansion around x0=0.\n",
        "\n",
        "Some example Maclaurin series which might be familiar to you are:\n",
        "\n",
        "\\sin(x) &=& x-\\f{x^3}{3!}+\\f{x^5}{5!}+\\mathcal{O}(x^7),\\\\\n",
        "e^x  &=& 1+x+\\f{x^2}{2}+\\f{x^3}{3!}+\\mathcal{O}(x^4),\\\\\n",
        "(1+x)^p &=& 1+px+\\f{p(p-1)x^2}{2}+\\f{p(p-1)(p-2)x^3}{3!}+\\mathcal{O}(x^4),\\\\\n",
        "\\mathrm{ln}(1+x) &=& x-\\f{x^2}{2}+\\f{x^3}{3}-\\f{x^4}{4}+\\mathcal{O}(x^5),\n",
        "\n",
        "and the Taylor series expansion of f(x)=x−1 about x0=1 is\n",
        "\n",
        "1x=1−(x−1)+(x−1)2−(x−1)3+…\n",
        "\n",
        "The range of x for which the Taylor (or Maclaurin) series converges to represent the function f(x) is the interval of convergence.\n",
        "\n",
        "For instance, sin(x) and ex converge for all x, while 1/(1+x) and ln(1+x) converge only if |x|<1.\n",
        "\n",
        "Similarly, 1/x converges for |x−1|<1.\n",
        "\n",
        "As we shall see in this chapter, many of the results from real variable calculus carry over to complex variable analysis.\n"
      ],
      "metadata": {
        "id": "bIXcJ973whnL"
      }
    }
  ]
}